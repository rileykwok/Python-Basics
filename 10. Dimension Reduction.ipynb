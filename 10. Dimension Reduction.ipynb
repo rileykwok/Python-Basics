{
 "cells": [
  {
   "cell_type": "markdown",
   "metadata": {},
   "source": [
    "# Dimensionality Reduction \n",
    "\n",
    "When we have a dataset with a large number of variables we need to ask questions like:\n",
    "\n",
    "* Are all of the variables important\n",
    "* How can I identify the signficant varaibles\n",
    "* Faced will all of these variables will my algorithm run to slow?\n",
    "\n",
    "Thankfully dimensionality reduction can help use here. Dimensionality reductions is the process of converting a set of data with many dimensions into data with less dimensions, it has two main use cases.\n",
    "\n",
    "* Helping to visualize higher dimensional features\n",
    "* Reducing the number of features in the dataset, so we can train model quicker/better.\n",
    "\n",
    "\n",
    "# Feature Selection\n",
    "\n",
    "The simplest form of dimensionality reduction would be feature selection, by only choosing to use say 3 features out of 10, we've reduced the dimensionality from 10D to 3D. Feature selection has a number of benefits inclduing:\n",
    "\n",
    "* Short training times\n",
    "* Avoiding the curse of dimensionality (covered further down)\n",
    "* Helping to reduce overfitting\n",
    "\n",
    "Imagine we had a variable with really low variance in the dataset ,say it's value is 3 for every observation. Does this variable add predictive power to the model? No because it's exactly same across all of the examples  What about if two variables are highly correlated. In such case feeding highly correlated varaibles to the model,  can confuse it since both contain similar information, it's almost like feeding the model duplicated information. We can use pearson correlation coeffient to check if the variables are correlated.  Plotting the correlation matrix as an heat map can be a easiy way to do this.  The above idea are almost like manual ways of performing dimensionality reduction however there are more stastical approaches such as factor analysis, explained bellow.\n",
    "\n"
   ]
  },
  {
   "cell_type": "markdown",
   "metadata": {},
   "source": [
    "# PCA\n",
    "\n",
    "Dimensionality reduction is useful for two reason:\n",
    "\n",
    "* It makes it easier to view higher dimensional data\n",
    "* Can reduce computational cost of running learning algorithms.\n",
    "\n",
    "PCA or principal compenent analysis, is a dimensionality reduction technqiue that allows us to more easily visulize higher dimensional data. This is achieved by applying a linear transform to the data, we'll cover more on linear transformation later. For now think of it as rotating it so we can view it from the best angle.  The way PCA finds the new axis for the rotation is by looking for the directions of maximum variance."
   ]
  },
  {
   "cell_type": "markdown",
   "metadata": {},
   "source": [
    "# Algorithm\n",
    "\n",
    "* Standadize the data\n",
    "* Calculate eigen values\n",
    "* Transform the original $ X $ data set using $ W $ to comain a new $ k $ dimensional feature subspace $ Y $\n",
    "* Sort the eigen values in descending order and choose $ k $ eigen vectors that correspond to the $ k $ largest eigen vecots\n",
    "* Construct the projection matrix W from the $ k $ eigen vectors"
   ]
  },
  {
   "cell_type": "code",
   "execution_count": 1,
   "metadata": {},
   "outputs": [
    {
     "name": "stderr",
     "output_type": "stream",
     "text": [
      "/home/nbuser/anaconda3_501/lib/python3.6/site-packages/matplotlib/font_manager.py:281: UserWarning: Matplotlib is building the font cache using fc-list. This may take a moment.\n",
      "  'Matplotlib is building the font cache using fc-list. '\n"
     ]
    }
   ],
   "source": [
    "import pandas as pd\n",
    "import seaborn as sns\n",
    "import matplotlib.pyplot as plt\n",
    "%matplotlib inline\n",
    "import numpy as np"
   ]
  },
  {
   "cell_type": "code",
   "execution_count": 2,
   "metadata": {},
   "outputs": [
    {
     "data": {
      "text/plain": [
       "(150, 4)"
      ]
     },
     "execution_count": 2,
     "metadata": {},
     "output_type": "execute_result"
    }
   ],
   "source": [
    "df = sns.load_dataset('iris')\n",
    "X = df.iloc[:,:4].values\n",
    "y =df.iloc[:,4].values\n",
    "X.shape #150 examples, each example has 4 features"
   ]
  },
  {
   "cell_type": "markdown",
   "metadata": {},
   "source": [
    " $$ \\mathbf{x^T} = \\begin{pmatrix} x_1 \\\\ x_2 \\\\ x_3 \\\\ x_4 \\end{pmatrix} \n",
    "= \\begin{pmatrix} \\text{sepal length} \\\\ \\text{sepal width} \\\\\\text{petal length} \\\\ \\text{petal width} \\end{pmatrix} $$"
   ]
  },
  {
   "cell_type": "markdown",
   "metadata": {},
   "source": [
    "# Standardization\n",
    "\n",
    "We need to standardize the data before we can calculate the eigen values, this can be achieved by subtracting the mean and dividng by standard deviation. This rescales the data to have a mean $ \\mu $ of 0 and a standard deviation $ \\sigma $ or 1 (unit of variance).\n",
    "\n",
    "$$ {\\frac {X-\\mu }{\\sigma }} $$"
   ]
  },
  {
   "cell_type": "code",
   "execution_count": 3,
   "metadata": {},
   "outputs": [],
   "source": [
    "mu = X.mean(axis=0)\n",
    "sigma = X.std(axis=0).mean()\n",
    "X= (X - mu) / sigma"
   ]
  },
  {
   "cell_type": "markdown",
   "metadata": {},
   "source": [
    "# Eigenvectors and Eigenvalues\n",
    "\n",
    "We can obtain the eigen vectors and values through various approaches,such as eigendecomposition of the covariance matrix or SVD (singular value decomposition) However in practice most implementations use SVD (singular value decomposition) since it's the least computationally expensive, so well use that. We'll get onto what the eigenvectors and values mean later"
   ]
  },
  {
   "cell_type": "code",
   "execution_count": 4,
   "metadata": {},
   "outputs": [],
   "source": [
    "eigenvectors, eigenvalues, _ = np.linalg.svd(X.T, full_matrices=False)"
   ]
  },
  {
   "cell_type": "code",
   "execution_count": 5,
   "metadata": {},
   "outputs": [
    {
     "name": "stdout",
     "output_type": "stream",
     "text": [
      "[[-0.36138659 -0.65658877  0.58202985  0.31548719]\n",
      " [ 0.08452251 -0.73016143 -0.59791083 -0.3197231 ]\n",
      " [-0.85667061  0.17337266 -0.07623608 -0.47983899]\n",
      " [-0.3582892   0.07548102 -0.54583143  0.75365743]]\n"
     ]
    }
   ],
   "source": [
    "print(eigenvectors)"
   ]
  },
  {
   "cell_type": "code",
   "execution_count": 6,
   "metadata": {},
   "outputs": [
    {
     "name": "stdout",
     "output_type": "stream",
     "text": [
      "[26.56917643  6.36512452  3.61349905  1.99483333]\n"
     ]
    }
   ],
   "source": [
    "print(eigenvalues)"
   ]
  },
  {
   "cell_type": "markdown",
   "metadata": {},
   "source": [
    "# Transform data\n",
    "\n",
    "Now that we've calculated the eigenvectors $ W $ we can use them to transform the data $X$ with a matrix multiplication.\n",
    "\n",
    "$$ \\mathbf{Y} = \\mathbf{X} \\times  \\mathbf{W} $$\n",
    "\n",
    "\n",
    "\n",
    "What does the eigen vectors and value represent? Eigen vectors show us the directions with the most variance and the eigen values tell us how much variance is explained in that direction. The eigen vectors allow us to transfrom the data so we can view it from an angle that captures the most variance in it. To illustrate this look at the plot bellow, the eigen values capture the direction of most variance. We can use the eigen values to rotate the data in a way that makes it easier to view."
   ]
  },
  {
   "cell_type": "code",
   "execution_count": 7,
   "metadata": {},
   "outputs": [],
   "source": [
    "X_transformed = X @ eigenvectors"
   ]
  },
  {
   "cell_type": "code",
   "execution_count": 8,
   "metadata": {},
   "outputs": [
    {
     "ename": "ModuleNotFoundError",
     "evalue": "No module named 'plot_pca'",
     "output_type": "error",
     "traceback": [
      "\u001b[0;31m---------------------------------------------------------------------------\u001b[0m",
      "\u001b[0;31mModuleNotFoundError\u001b[0m                       Traceback (most recent call last)",
      "\u001b[0;32m<ipython-input-8-759ea8e2887a>\u001b[0m in \u001b[0;36m<module>\u001b[0;34m()\u001b[0m\n\u001b[0;32m----> 1\u001b[0;31m \u001b[0;32mfrom\u001b[0m \u001b[0mplot_pca\u001b[0m \u001b[0;32mimport\u001b[0m \u001b[0mplot_pca_illustration\u001b[0m\u001b[0;34m\u001b[0m\u001b[0m\n\u001b[0m\u001b[1;32m      2\u001b[0m \u001b[0mplot_pca_illustration\u001b[0m\u001b[0;34m(\u001b[0m\u001b[0;34m)\u001b[0m\u001b[0;34m\u001b[0m\u001b[0m\n",
      "\u001b[0;31mModuleNotFoundError\u001b[0m: No module named 'plot_pca'"
     ]
    }
   ],
   "source": [
    "from plot_pca import plot_pca_illustration\n",
    "plot_pca_illustration()"
   ]
  },
  {
   "cell_type": "markdown",
   "metadata": {},
   "source": [
    "Since we want to reduce the dimensionality of the data, we won't use all o the eigen values. After sorting we'll  need to pick which eigenvectors we will use to construct ou new subspace. \n"
   ]
  },
  {
   "cell_type": "code",
   "execution_count": 10,
   "metadata": {},
   "outputs": [],
   "source": [
    "eigenpairs = [(np.abs(eigenvalues[i]), eigenvectors[:,i]) for i in range(len(eigenvectors))]\n",
    "eigenpairs.sort(reverse=True)\n",
    "\n",
    "#Reorganize eigen vectors by eigen values\n",
    "n = len(eigenvectors)\n",
    "eigenvectors = np.vstack([eigenpairs[i][1] for i in range(n)])\n",
    "eigenvalues = np.vstack([eigenpairs[i][0] for i in range(n)])"
   ]
  },
  {
   "cell_type": "code",
   "execution_count": 11,
   "metadata": {},
   "outputs": [
    {
     "data": {
      "text/plain": [
       "array([[-0.36138659,  0.08452251, -0.85667061, -0.3582892 ],\n",
       "       [-0.65658877, -0.73016143,  0.17337266,  0.07548102],\n",
       "       [ 0.58202985, -0.59791083, -0.07623608, -0.54583143],\n",
       "       [ 0.31548719, -0.3197231 , -0.47983899,  0.75365743]])"
      ]
     },
     "execution_count": 11,
     "metadata": {},
     "output_type": "execute_result"
    }
   ],
   "source": [
    "eigenvectors"
   ]
  },
  {
   "cell_type": "code",
   "execution_count": 12,
   "metadata": {},
   "outputs": [
    {
     "data": {
      "text/plain": [
       "array([[26.56917643],\n",
       "       [ 6.36512452],\n",
       "       [ 3.61349905],\n",
       "       [ 1.99483333]])"
      ]
     },
     "execution_count": 12,
     "metadata": {},
     "output_type": "execute_result"
    }
   ],
   "source": [
    "eigenvalues"
   ]
  },
  {
   "cell_type": "markdown",
   "metadata": {},
   "source": [
    "# Explained variance\n",
    "\n",
    "This is a way to tell how accurate our 2D plot is. If the explained variance is across the first 2 principal components then the 2D plot is a good representation of our data."
   ]
  },
  {
   "cell_type": "code",
   "execution_count": 13,
   "metadata": {
    "scrolled": true
   },
   "outputs": [
    {
     "data": {
      "text/plain": [
       "<matplotlib.axes._subplots.AxesSubplot at 0x7f0a915f10f0>"
      ]
     },
     "execution_count": 13,
     "metadata": {},
     "output_type": "execute_result"
    },
    {
     "data": {
      "image/png": "[encoded data removed]",
      "text/plain": [
       "<matplotlib.figure.Figure at 0x7f0a915db7f0>"
      ]
     },
     "metadata": {},
     "output_type": "display_data"
    }
   ],
   "source": [
    "n = 4\n",
    "names = [f'PC {i}' for i in range(1, n  + 1)]\n",
    "df = pd.DataFrame({'Principal component':names,'Explained Variance':eigenvalues.ravel()/eigenvalues.sum()})\n",
    "sns.barplot(x='Principal component',y='Explained Variance',data= df)"
   ]
  },
  {
   "cell_type": "markdown",
   "metadata": {},
   "source": [
    "# Altogether\n",
    "\n",
    "Let put all the piece together to get our working implementation."
   ]
  },
  {
   "cell_type": "code",
   "execution_count": 14,
   "metadata": {},
   "outputs": [],
   "source": [
    "def pca(X,n_components=2):\n",
    "\n",
    "    #standadize\n",
    "    mu = X.mean(axis=0)\n",
    "    sigma = X.std(axis=0).mean()\n",
    "    X= (X - mu) / sigma\n",
    "\n",
    "    # calculate eigen vectors and values\n",
    "    eigenvectors, eigenvalues, _ = np.linalg.svd(X.T, full_matrices=False)\n",
    "\n",
    "    #Sort eigen vectors by size of eigen value\n",
    "    eigenpairs = [(np.abs(eigenvalues[i]), eigenvectors[:,i]) for i in range(len(eigenvectors))]\n",
    "    eigenpairs.sort(reverse=True)\n",
    "\n",
    "    #Reorganize eigen vectors by eigen values\n",
    "    n_components = len(eigenvectors)\n",
    "    eigenvectors = np.vstack([eigenpairs[i][1] for i in range(n)])\n",
    "    eigenvalues = np.vstack([eigenpairs[i][0] for i in range(n)])\n",
    "\n",
    "    k = 2\n",
    "    return X @ eigenvectors, eigenvectors, eigenvalues"
   ]
  },
  {
   "cell_type": "markdown",
   "metadata": {},
   "source": [
    "# Sklearn\n",
    "Just for sanity lets check our implementation against sklearn."
   ]
  },
  {
   "cell_type": "code",
   "execution_count": 15,
   "metadata": {},
   "outputs": [],
   "source": [
    "from sklearn.decomposition import PCA"
   ]
  },
  {
   "cell_type": "code",
   "execution_count": 16,
   "metadata": {},
   "outputs": [],
   "source": [
    "X_transfromed,eigenvectors,eigenvalues = pca(X)"
   ]
  },
  {
   "cell_type": "code",
   "execution_count": 17,
   "metadata": {},
   "outputs": [],
   "source": [
    "pca_sk = PCA(2)\n",
    "pca_sk.fit(X)\n",
    "X_transformed_sk =  pca_sk.fit_transform(X)"
   ]
  },
  {
   "cell_type": "code",
   "execution_count": 18,
   "metadata": {},
   "outputs": [
    {
     "data": {
      "text/plain": [
       "array([[ 0.36138659, -0.08452251,  0.85667061,  0.3582892 ],\n",
       "       [ 0.65658877,  0.73016143, -0.17337266, -0.07548102]])"
      ]
     },
     "execution_count": 18,
     "metadata": {},
     "output_type": "execute_result"
    }
   ],
   "source": [
    "pca_sk.components_"
   ]
  },
  {
   "cell_type": "code",
   "execution_count": 19,
   "metadata": {},
   "outputs": [
    {
     "data": {
      "text/plain": [
       "array([[-0.36138659,  0.08452251, -0.85667061, -0.3582892 ],\n",
       "       [-0.65658877, -0.73016143,  0.17337266,  0.07548102],\n",
       "       [ 0.58202985, -0.59791083, -0.07623608, -0.54583143],\n",
       "       [ 0.31548719, -0.3197231 , -0.47983899,  0.75365743]])"
      ]
     },
     "execution_count": 19,
     "metadata": {},
     "output_type": "execute_result"
    }
   ],
   "source": [
    "eigenvectors"
   ]
  },
  {
   "cell_type": "code",
   "execution_count": 22,
   "metadata": {},
   "outputs": [
    {
     "name": "stderr",
     "output_type": "stream",
     "text": [
      "/home/nbuser/anaconda3_501/lib/python3.6/site-packages/ipykernel/__main__.py:2: DeprecationWarning: elementwise == comparison failed; this will raise an error in the future.\n",
      "  from ipykernel import kernelapp as app\n"
     ]
    },
    {
     "data": {
      "text/plain": [
       "False"
      ]
     },
     "execution_count": 22,
     "metadata": {},
     "output_type": "execute_result"
    }
   ],
   "source": [
    "#rounding error means not totally equal\n",
    "(np.matrix.round(X_transformed,5) ==  np.matrix.round(X_transformed_sk,5))"
   ]
  },
  {
   "cell_type": "markdown",
   "metadata": {},
   "source": [
    "# References\n",
    "\n",
    "* [Eigenvectors and values visually explained](http://setosa.io/ev/eigenvectors-and-eigenvalues/)\n",
    "* [Understanding Eigenvector and Egienvalues Visually](https://alyssaq.github.io/2015/understanding-eigenvectors-and-eigenvalues-visually/)\n",
    "* [Plotly PCA](https://plot.ly/ipython-notebooks/principal-component-analysis/)"
   ]
  }
 ],
 "metadata": {
  "kernelspec": {
   "display_name": "Python 3.6",
   "language": "python",
   "name": "python36"
  },
  "language_info": {
   "codemirror_mode": {
    "name": "ipython",
    "version": 3
   },
   "file_extension": ".py",
   "mimetype": "text/x-python",
   "name": "python",
   "nbconvert_exporter": "python",
   "pygments_lexer": "ipython3",
   "version": "3.6.3"
  }
 },
 "nbformat": 4,
 "nbformat_minor": 2
}
