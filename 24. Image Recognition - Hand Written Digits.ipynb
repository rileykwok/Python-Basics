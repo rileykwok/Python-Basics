{
 "cells": [
  {
   "cell_type": "markdown",
   "metadata": {},
   "source": [
    "# Image Recognition"
   ]
  },
  {
   "cell_type": "markdown",
   "metadata": {},
   "source": [
    "Using neural network to recognise sets of hand written digits."
   ]
  },
  {
   "cell_type": "code",
   "execution_count": 6,
   "metadata": {},
   "outputs": [],
   "source": [
    "f =  open(\"semeion.data\",\"rb\")\n",
    "data = f.read()"
   ]
  },
  {
   "cell_type": "code",
   "execution_count": 35,
   "metadata": {},
   "outputs": [],
   "source": [
    "data = str(data)"
   ]
  },
  {
   "cell_type": "code",
   "execution_count": 202,
   "metadata": {},
   "outputs": [],
   "source": [
    "a = data.split(\"\\\\r\\\\n\")\n",
    "a[0] = a[0].replace(\"b'\",str(0))\n",
    "a = a[:1593]"
   ]
  },
  {
   "cell_type": "code",
   "execution_count": 203,
   "metadata": {},
   "outputs": [],
   "source": [
    "for i in range(len(a)):\n",
    "    a[i]=[float(j) for j in a[i].split()]\n",
    "    pixel[i]=a[i][:256]\n",
    "    label[i]=[int(k) for k in a[i][256:]]"
   ]
  },
  {
   "cell_type": "code",
   "execution_count": 204,
   "metadata": {},
   "outputs": [
    {
     "name": "stdout",
     "output_type": "stream",
     "text": [
      "pixel and label length:  1593  x  256\n"
     ]
    }
   ],
   "source": [
    "print(\"pixel and label length: \",len(pixel),\" x \",len(pixel[1]))"
   ]
  },
  {
   "cell_type": "code",
   "execution_count": 205,
   "metadata": {},
   "outputs": [],
   "source": [
    "import numpy as np"
   ]
  },
  {
   "cell_type": "code",
   "execution_count": 206,
   "metadata": {},
   "outputs": [],
   "source": [
    "X = np.array(pixel)\n",
    "X = X.reshape(1593,16,16,1)"
   ]
  },
  {
   "cell_type": "code",
   "execution_count": 207,
   "metadata": {},
   "outputs": [],
   "source": [
    "y = np.array(label)"
   ]
  },
  {
   "cell_type": "code",
   "execution_count": 208,
   "metadata": {},
   "outputs": [
    {
     "data": {
      "text/plain": [
       "(1593, 10)"
      ]
     },
     "execution_count": 208,
     "metadata": {},
     "output_type": "execute_result"
    }
   ],
   "source": [
    "y.shape"
   ]
  },
  {
   "cell_type": "code",
   "execution_count": 209,
   "metadata": {},
   "outputs": [
    {
     "data": {
      "text/plain": [
       "(1593, 16, 16, 1)"
      ]
     },
     "execution_count": 209,
     "metadata": {},
     "output_type": "execute_result"
    }
   ],
   "source": [
    "X.shape"
   ]
  },
  {
   "cell_type": "code",
   "execution_count": 248,
   "metadata": {},
   "outputs": [
    {
     "data": {
      "text/plain": [
       "(16, 16, 1)"
      ]
     },
     "execution_count": 248,
     "metadata": {},
     "output_type": "execute_result"
    }
   ],
   "source": [
    "X[1].shape"
   ]
  },
  {
   "cell_type": "code",
   "execution_count": 322,
   "metadata": {},
   "outputs": [
    {
     "data": {
      "image/png": "[encoded data removed]",
      "text/plain": [
       "<matplotlib.figure.Figure at 0x7f60941b0c50>"
      ]
     },
     "metadata": {},
     "output_type": "display_data"
    }
   ],
   "source": [
    "fig=plt.figure(figsize=(20, 10))\n",
    "\n",
    "columns = 4\n",
    "rows = 2\n",
    "for i in range(1, columns*rows +1):\n",
    "    fig.add_subplot(rows, columns, i)\n",
    "    plt.imshow(X[i*20].reshape(16,16))\n",
    "    \n",
    "plt.show()"
   ]
  },
  {
   "cell_type": "code",
   "execution_count": 319,
   "metadata": {},
   "outputs": [
    {
     "data": {
      "text/plain": [
       "(1593, 16, 16, 1)"
      ]
     },
     "execution_count": 319,
     "metadata": {},
     "output_type": "execute_result"
    }
   ],
   "source": [
    "X.shape"
   ]
  },
  {
   "cell_type": "code",
   "execution_count": 299,
   "metadata": {},
   "outputs": [],
   "source": [
    "import keras\n",
    "from keras.models import Sequential\n",
    "from keras.layers import Dense, Dropout, Flatten\n",
    "from keras.layers import Conv2D, MaxPooling2D\n",
    "from keras import backend as K\n",
    "from keras.layers import Conv2D, Flatten, Dense, Dropout"
   ]
  },
  {
   "cell_type": "code",
   "execution_count": 364,
   "metadata": {},
   "outputs": [],
   "source": [
    "batch_size = 200\n",
    "num_classes = 10\n",
    "epochs = 30\n",
    "\n",
    "# input image dimensions\n",
    "input_shape = (16,16, 1)"
   ]
  },
  {
   "cell_type": "code",
   "execution_count": 365,
   "metadata": {},
   "outputs": [],
   "source": [
    "model = Sequential()\n",
    "model.add(Conv2D(32, kernel_size=(5,5),\n",
    "                 activation='relu',\n",
    "                 input_shape=(input_shape),padding=\"same\"))\n",
    "model.add(Conv2D(64, (5,5), activation='relu'))\n",
    "model.add(MaxPooling2D(pool_size=(2, 2)))\n",
    "model.add(Dropout(0.25))\n",
    "model.add(Flatten())\n",
    "model.add(Dense(512, activation='relu'))\n",
    "model.add(Dropout(0.5))\n",
    "model.add(Dense(num_classes, activation='softmax'))\n",
    "\n",
    "model.compile(loss=keras.losses.categorical_crossentropy,\n",
    "              optimizer=keras.optimizers.Adagrad(),\n",
    "              metrics=['accuracy'])"
   ]
  },
  {
   "cell_type": "code",
   "execution_count": 366,
   "metadata": {},
   "outputs": [
    {
     "name": "stdout",
     "output_type": "stream",
     "text": [
      "Train on 1274 samples, validate on 319 samples\n",
      "Epoch 1/30\n",
      "1274/1274 [==============================] - 29s 23ms/step - loss: 2.8837 - acc: 0.2017 - val_loss: 1.8151 - val_acc: 0.2978\n",
      "Epoch 2/30\n",
      "1274/1274 [==============================] - 20s 15ms/step - loss: 1.3471 - acc: 0.5432 - val_loss: 1.0682 - val_acc: 0.6834\n",
      "Epoch 3/30\n",
      "1274/1274 [==============================] - 21s 16ms/step - loss: 0.7964 - acc: 0.7355 - val_loss: 0.7212 - val_acc: 0.7743\n",
      "Epoch 4/30\n",
      "1274/1274 [==============================] - 22s 17ms/step - loss: 0.5840 - acc: 0.7998 - val_loss: 0.6375 - val_acc: 0.7837\n",
      "Epoch 5/30\n",
      "1274/1274 [==============================] - 20s 16ms/step - loss: 0.3900 - acc: 0.8830 - val_loss: 0.3477 - val_acc: 0.8934\n",
      "Epoch 6/30\n",
      "1274/1274 [==============================] - 21s 17ms/step - loss: 0.2788 - acc: 0.9152 - val_loss: 0.3095 - val_acc: 0.8997\n",
      "Epoch 7/30\n",
      "1274/1274 [==============================] - 19s 15ms/step - loss: 0.2373 - acc: 0.9262 - val_loss: 0.2801 - val_acc: 0.9185\n",
      "Epoch 8/30\n",
      "1274/1274 [==============================] - 19s 15ms/step - loss: 0.1748 - acc: 0.9403 - val_loss: 0.2710 - val_acc: 0.9091\n",
      "Epoch 9/30\n",
      "1274/1274 [==============================] - 22s 18ms/step - loss: 0.1531 - acc: 0.9576 - val_loss: 0.2445 - val_acc: 0.9279\n",
      "Epoch 10/30\n",
      "1274/1274 [==============================] - 22s 17ms/step - loss: 0.1205 - acc: 0.9608 - val_loss: 0.2962 - val_acc: 0.9028\n",
      "Epoch 11/30\n",
      "1274/1274 [==============================] - 20s 16ms/step - loss: 0.1191 - acc: 0.9694 - val_loss: 0.1919 - val_acc: 0.9436\n",
      "Epoch 12/30\n",
      "1274/1274 [==============================] - 21s 16ms/step - loss: 0.1126 - acc: 0.9655 - val_loss: 0.1722 - val_acc: 0.9467\n",
      "Epoch 13/30\n",
      "1274/1274 [==============================] - 20s 15ms/step - loss: 0.0714 - acc: 0.9765 - val_loss: 0.1745 - val_acc: 0.9373\n",
      "Epoch 14/30\n",
      "1274/1274 [==============================] - 20s 16ms/step - loss: 0.0765 - acc: 0.9772 - val_loss: 0.1539 - val_acc: 0.9342\n",
      "Epoch 15/30\n",
      "1274/1274 [==============================] - 21s 17ms/step - loss: 0.0670 - acc: 0.9780 - val_loss: 0.1903 - val_acc: 0.9436\n",
      "Epoch 16/30\n",
      "1274/1274 [==============================] - 19s 15ms/step - loss: 0.0577 - acc: 0.9827 - val_loss: 0.1301 - val_acc: 0.9561\n",
      "Epoch 17/30\n",
      "1274/1274 [==============================] - 19s 15ms/step - loss: 0.0616 - acc: 0.9827 - val_loss: 0.1644 - val_acc: 0.9498\n",
      "Epoch 18/30\n",
      "1274/1274 [==============================] - 23s 18ms/step - loss: 0.0572 - acc: 0.9804 - val_loss: 0.1662 - val_acc: 0.9498\n",
      "Epoch 19/30\n",
      "1274/1274 [==============================] - 22s 17ms/step - loss: 0.0437 - acc: 0.9890 - val_loss: 0.1469 - val_acc: 0.9530\n",
      "Epoch 20/30\n",
      "1274/1274 [==============================] - 22s 17ms/step - loss: 0.0446 - acc: 0.9867 - val_loss: 0.1351 - val_acc: 0.9592\n",
      "Epoch 21/30\n",
      "1274/1274 [==============================] - 21s 17ms/step - loss: 0.0419 - acc: 0.9874 - val_loss: 0.1495 - val_acc: 0.9624\n",
      "Epoch 22/30\n",
      "1274/1274 [==============================] - 19s 15ms/step - loss: 0.0262 - acc: 0.9945 - val_loss: 0.1229 - val_acc: 0.9687\n",
      "Epoch 23/30\n",
      "1274/1274 [==============================] - 21s 17ms/step - loss: 0.0283 - acc: 0.9929 - val_loss: 0.1219 - val_acc: 0.9655\n",
      "Epoch 24/30\n",
      "1274/1274 [==============================] - 22s 17ms/step - loss: 0.0363 - acc: 0.9898 - val_loss: 0.1925 - val_acc: 0.9467\n",
      "Epoch 25/30\n",
      "1274/1274 [==============================] - 19s 15ms/step - loss: 0.0513 - acc: 0.9796 - val_loss: 0.1300 - val_acc: 0.9687\n",
      "Epoch 26/30\n",
      "1274/1274 [==============================] - 22s 17ms/step - loss: 0.0215 - acc: 0.9961 - val_loss: 0.1274 - val_acc: 0.9687\n",
      "Epoch 27/30\n",
      "1274/1274 [==============================] - 20s 16ms/step - loss: 0.0290 - acc: 0.9922 - val_loss: 0.1294 - val_acc: 0.9655\n",
      "Epoch 28/30\n",
      "1274/1274 [==============================] - 19s 15ms/step - loss: 0.0310 - acc: 0.9922 - val_loss: 0.1282 - val_acc: 0.9687\n",
      "Epoch 29/30\n",
      "1274/1274 [==============================] - 20s 16ms/step - loss: 0.0271 - acc: 0.9906 - val_loss: 0.1188 - val_acc: 0.9655\n",
      "Epoch 30/30\n",
      "1274/1274 [==============================] - 20s 15ms/step - loss: 0.0235 - acc: 0.9929 - val_loss: 0.1358 - val_acc: 0.9592\n"
     ]
    }
   ],
   "source": [
    "history = model.fit(X,y,epochs=epochs,batch_size=batch_size,verbose=1,validation_split=0.2)"
   ]
  },
  {
   "cell_type": "code",
   "execution_count": 357,
   "metadata": {},
   "outputs": [
    {
     "data": {
      "text/plain": [
       "Text(0.5,0,'epoch')"
      ]
     },
     "execution_count": 357,
     "metadata": {},
     "output_type": "execute_result"
    },
    {
     "data": {
      "image/png": "[encoded data removed]",
      "text/plain": [
       "<matplotlib.figure.Figure at 0x7f608c8b80f0>"
      ]
     },
     "metadata": {},
     "output_type": "display_data"
    }
   ],
   "source": [
    "import matplotlib.pyplot as plt\n",
    "fig, ax = plt.subplots(1,2,figsize=(15,7))\n",
    "\n",
    "ax[0].plot(history.history['acc'])\n",
    "ax[0].plot(history.history['val_acc'])\n",
    "ax[0].legend(['train set', 'validation set'], loc='upper left')\n",
    "ax[0].set_title('model accuracy')\n",
    "ax[0].set_ylabel('acc')\n",
    "ax[0].set_xlabel('epoch')\n",
    "\n",
    "ax[1].plot(history.history['loss'])\n",
    "ax[1].plot(history.history['val_loss'])\n",
    "ax[1].legend(['train set', 'validation set'], loc='upper left')\n",
    "ax[1].set_title('model loss')\n",
    "ax[1].set_ylabel('loss')\n",
    "ax[1].set_xlabel('epoch')"
   ]
  }
 ],
 "metadata": {
  "kernelspec": {
   "display_name": "Python 3.6",
   "language": "python",
   "name": "python36"
  },
  "language_info": {
   "codemirror_mode": {
    "name": "ipython",
    "version": 3
   },
   "file_extension": ".py",
   "mimetype": "text/x-python",
   "name": "python",
   "nbconvert_exporter": "python",
   "pygments_lexer": "ipython3",
   "version": "3.6.3"
  }
 },
 "nbformat": 4,
 "nbformat_minor": 2
}
