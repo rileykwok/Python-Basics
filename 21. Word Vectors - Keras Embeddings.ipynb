{
 "cells": [
  {
   "cell_type": "markdown",
   "metadata": {},
   "source": [
    "# Embedding layers with keras\n"
   ]
  },
  {
   "cell_type": "markdown",
   "metadata": {},
   "source": [
    "Well use the imdb dataset to learn word embeddings as we train our dataset. This dataset contains 25,000 movie reviews from IMDB, labeled with sentiment (positive or negative). For convenience, the words are indexed by their frequency in the dataset, meaning the for that has index 1 is the most frequent word. We will only use the first 20 words from each review to speed up training, use a max vocab size of 10,000."
   ]
  },
  {
   "cell_type": "code",
   "execution_count": 23,
   "metadata": {},
   "outputs": [],
   "source": [
    "from keras.datasets import imdb\n",
    "from keras.preprocessing.sequence import pad_sequences\n",
    "vocab_size = 10000 #vocab size\n",
    "maxlen = 20  #number of word used from each review\n",
    "#load dataset as a list of ints\n",
    "(x_train, y_train), (x_test, y_test) = imdb.load_data(num_words=vocab_size)\n",
    "#make all sequences of the same length\n",
    "x_train = pad_sequences(x_train, maxlen=maxlen)\n",
    "x_test =  pad_sequences(x_test, maxlen=maxlen)"
   ]
  },
  {
   "cell_type": "code",
   "execution_count": 2,
   "metadata": {},
   "outputs": [
    {
     "data": {
      "text/plain": [
       "(25000, 20)"
      ]
     },
     "execution_count": 2,
     "metadata": {},
     "output_type": "execute_result"
    }
   ],
   "source": [
    "x_train.shape #number of review, number of words in each review"
   ]
  },
  {
   "cell_type": "markdown",
   "metadata": {},
   "source": [
    "We can think of the Embedding layer as a dicionary that maps a index assigned to a word to a word vector. This layer is very flexiable and can be used in a few ways:\n",
    "\n",
    "* The embedding layer can be used at the start of a larger deep learning model. \n",
    "* Also we could load pre-train word embeddings into the embedding layer when we create our model.\n",
    "* Use the embedding layer to train our own word2vec models.\n",
    "\n",
    "The keras embedding layer doesn't require us to onehot encode our words, instead we have to give each word a unqiue intger number as an id. For the imdb dataset we've loaded this has already been done, but if this wasn't the case we could use sklearn [LabelEncoder](http://scikit-learn.org/stable/modules/generated/sklearn.preprocessing.LabelEncoder.html)."
   ]
  },
  {
   "cell_type": "code",
   "execution_count": 9,
   "metadata": {},
   "outputs": [
    {
     "name": "stdout",
     "output_type": "stream",
     "text": [
      "_________________________________________________________________\n",
      "Layer (type)                 Output Shape              Param #   \n",
      "=================================================================\n",
      "embedding_1 (Embedding)      (None, 20, 8)             80000     \n",
      "_________________________________________________________________\n",
      "flatten_1 (Flatten)          (None, 160)               0         \n",
      "_________________________________________________________________\n",
      "dense_1 (Dense)              (None, 1)                 161       \n",
      "=================================================================\n",
      "Total params: 80,161\n",
      "Trainable params: 80,161\n",
      "Non-trainable params: 0\n",
      "_________________________________________________________________\n"
     ]
    }
   ],
   "source": [
    "from keras.models import Sequential\n",
    "from keras.layers import Flatten, Dense, Embedding\n",
    "model = Sequential()\n",
    "model.add(Embedding(10000, 8, input_length=maxlen)) #10000 for vocab size, 8 for dimensionality of embedding\n",
    "model.add(Flatten())\n",
    "model.add(Dense(1, activation='sigmoid'))\n",
    "model.compile(optimizer='rmsprop', loss='binary_crossentropy', metrics=['acc'])\n",
    "model.summary()\n"
   ]
  },
  {
   "cell_type": "code",
   "execution_count": 10,
   "metadata": {},
   "outputs": [
    {
     "data": {
      "text/plain": [
       "(25000, 20)"
      ]
     },
     "execution_count": 10,
     "metadata": {},
     "output_type": "execute_result"
    }
   ],
   "source": [
    "x_train.shape #number of examples, number or words"
   ]
  },
  {
   "cell_type": "code",
   "execution_count": 11,
   "metadata": {},
   "outputs": [
    {
     "data": {
      "text/plain": [
       "array([  23,    4, 1690,   15,   16,    4, 1355,    5,   28,    6,   52,\n",
       "        154,  462,   33,   89,   78,  285,   16,  145,   95], dtype=int32)"
      ]
     },
     "execution_count": 11,
     "metadata": {},
     "output_type": "execute_result"
    }
   ],
   "source": [
    "x_train[1] # words are representedby numbers"
   ]
  },
  {
   "cell_type": "code",
   "execution_count": 12,
   "metadata": {},
   "outputs": [
    {
     "data": {
      "text/plain": [
       "(25000,)"
      ]
     },
     "execution_count": 12,
     "metadata": {},
     "output_type": "execute_result"
    }
   ],
   "source": [
    "y_train.shape "
   ]
  },
  {
   "cell_type": "code",
   "execution_count": 13,
   "metadata": {},
   "outputs": [
    {
     "name": "stdout",
     "output_type": "stream",
     "text": [
      "Train on 20000 samples, validate on 5000 samples\n",
      "Epoch 1/20\n",
      "20000/20000 [==============================] - 10s - loss: 0.6561 - acc: 0.6479 - val_loss: 0.5909 - val_acc: 0.7146\n",
      "Epoch 2/20\n",
      "20000/20000 [==============================] - 11s - loss: 0.5193 - acc: 0.7591 - val_loss: 0.5121 - val_acc: 0.7366\n",
      "Epoch 3/20\n",
      "20000/20000 [==============================] - 10s - loss: 0.4515 - acc: 0.7929 - val_loss: 0.4952 - val_acc: 0.7466\n",
      "Epoch 4/20\n",
      "20000/20000 [==============================] - 9s - loss: 0.4193 - acc: 0.8066 - val_loss: 0.4907 - val_acc: 0.7538\n",
      "Epoch 5/20\n",
      "20000/20000 [==============================] - 10s - loss: 0.3967 - acc: 0.8198 - val_loss: 0.4916 - val_acc: 0.7578\n",
      "Epoch 6/20\n",
      "20000/20000 [==============================] - 9s - loss: 0.3787 - acc: 0.8314 - val_loss: 0.4954 - val_acc: 0.7586\n",
      "Epoch 7/20\n",
      "20000/20000 [==============================] - 8s - loss: 0.3627 - acc: 0.8416 - val_loss: 0.5004 - val_acc: 0.7572\n",
      "Epoch 8/20\n",
      "20000/20000 [==============================] - 10s - loss: 0.3477 - acc: 0.8482 - val_loss: 0.5058 - val_acc: 0.7574\n",
      "Epoch 9/20\n",
      "20000/20000 [==============================] - 8s - loss: 0.3332 - acc: 0.8582 - val_loss: 0.5122 - val_acc: 0.7524\n",
      "Epoch 10/20\n",
      "20000/20000 [==============================] - 10s - loss: 0.3196 - acc: 0.8668 - val_loss: 0.5182 - val_acc: 0.7546\n",
      "Epoch 11/20\n",
      "20000/20000 [==============================] - 10s - loss: 0.3058 - acc: 0.8741 - val_loss: 0.5254 - val_acc: 0.7508\n",
      "Epoch 12/20\n",
      "20000/20000 [==============================] - 8s - loss: 0.2918 - acc: 0.8828 - val_loss: 0.5340 - val_acc: 0.7468\n",
      "Epoch 13/20\n",
      "20000/20000 [==============================] - 9s - loss: 0.2776 - acc: 0.8890 - val_loss: 0.5426 - val_acc: 0.7472\n",
      "Epoch 14/20\n",
      "20000/20000 [==============================] - 12s - loss: 0.2640 - acc: 0.8953 - val_loss: 0.5499 - val_acc: 0.7446\n",
      "Epoch 15/20\n",
      "20000/20000 [==============================] - 8s - loss: 0.2502 - acc: 0.9025 - val_loss: 0.5597 - val_acc: 0.7430\n",
      "Epoch 16/20\n",
      "20000/20000 [==============================] - 8s - loss: 0.2369 - acc: 0.9080 - val_loss: 0.5707 - val_acc: 0.7412\n",
      "Epoch 17/20\n",
      "20000/20000 [==============================] - 10s - loss: 0.2239 - acc: 0.9145 - val_loss: 0.5824 - val_acc: 0.7382\n",
      "Epoch 18/20\n",
      "20000/20000 [==============================] - 8s - loss: 0.2117 - acc: 0.9201 - val_loss: 0.5932 - val_acc: 0.7354\n",
      "Epoch 19/20\n",
      "20000/20000 [==============================] - 8s - loss: 0.1997 - acc: 0.9265 - val_loss: 0.6067 - val_acc: 0.7334\n",
      "Epoch 20/20\n",
      "20000/20000 [==============================] - 9s - loss: 0.1885 - acc: 0.9316 - val_loss: 0.6200 - val_acc: 0.7300\n"
     ]
    }
   ],
   "source": [
    "history = model.fit(x_train, y_train,\n",
    "epochs=20,\n",
    "batch_size=32,\n",
    "validation_split=0.2)"
   ]
  },
  {
   "cell_type": "code",
   "execution_count": 838,
   "metadata": {},
   "outputs": [
    {
     "data": {
      "text/plain": [
       "[<keras.layers.embeddings.Embedding at 0x7f6ec791dda0>,\n",
       " <keras.layers.core.Flatten at 0x7f6ec757b0b8>,\n",
       " <keras.layers.core.Dense at 0x7f6ec7602710>]"
      ]
     },
     "execution_count": 838,
     "metadata": {},
     "output_type": "execute_result"
    }
   ],
   "source": [
    "model.layers #get all layers from model"
   ]
  },
  {
   "cell_type": "code",
   "execution_count": 842,
   "metadata": {},
   "outputs": [
    {
     "data": {
      "text/plain": [
       "(10000, 8)"
      ]
     },
     "execution_count": 842,
     "metadata": {},
     "output_type": "execute_result"
    }
   ],
   "source": [
    "word_embeddings.shape #10000 words, embedings of shape 8"
   ]
  },
  {
   "cell_type": "code",
   "execution_count": 840,
   "metadata": {},
   "outputs": [],
   "source": [
    "word_embeddings = model.layers[0].get_weights()[0] #get weights from embedding layer"
   ]
  },
  {
   "cell_type": "markdown",
   "metadata": {},
   "source": [
    "Each row in the embedding layer corresponds to a word vector. "
   ]
  },
  {
   "cell_type": "code",
   "execution_count": 175,
   "metadata": {},
   "outputs": [
    {
     "data": {
      "text/plain": [
       "(10000, 8)"
      ]
     },
     "execution_count": 175,
     "metadata": {},
     "output_type": "execute_result"
    }
   ],
   "source": [
    "model.layers[0].get_weights()[0].shape #10,000 words, 8D word embeddings"
   ]
  },
  {
   "cell_type": "markdown",
   "metadata": {},
   "source": [
    "# Exercise\n",
    "Reuters newswire topics classification, the dataset contains 11,228 newswires from Reuters, labeled over 46 topics.   As with the IMDB dataset, each wire is encoded as a sequence of numbers.   \n",
    "\n",
    "You task is to create a neural network that can classify which topic the price of text came from. Use an embedding layer to input the data. "
   ]
  },
  {
   "cell_type": "code",
   "execution_count": 24,
   "metadata": {},
   "outputs": [],
   "source": [
    "from keras.datasets import reuters\n",
    "\n",
    "(x_train, y_train), (x_test, y_test) = reuters.load_data(path=\"reuters.npz\",\n",
    "                                                         num_words=None,\n",
    "                                                         skip_top=0,\n",
    "                                                         maxlen=None,\n",
    "                                                         test_split=0.2,\n",
    "                                                         seed=113,\n",
    "                                                         start_char=1,\n",
    "                                                         oov_char=2,\n",
    "                                                         index_from=3)"
   ]
  },
  {
   "cell_type": "code",
   "execution_count": 26,
   "metadata": {},
   "outputs": [],
   "source": [
    "wordlen=[]\n",
    "for i in range(len(x_train)):\n",
    "    wordlen.append(len(x_train[i]))"
   ]
  },
  {
   "cell_type": "code",
   "execution_count": 37,
   "metadata": {},
   "outputs": [
    {
     "data": {
      "text/plain": [
       "Text(0.5,0,'news')"
      ]
     },
     "execution_count": 37,
     "metadata": {},
     "output_type": "execute_result"
    },
    {
     "data": {
      "image/png": "[encoded data removed]",
      "text/plain": [
       "<matplotlib.figure.Figure at 0x7f61b40ebc88>"
      ]
     },
     "metadata": {},
     "output_type": "display_data"
    }
   ],
   "source": [
    "import matplotlib.pyplot as plt\n",
    "plt.plot(range(len(x_train)),wordlen)\n",
    "plt.title('# of words in each news')\n",
    "plt.ylabel('number of words')\n",
    "plt.xlabel('news')"
   ]
  },
  {
   "cell_type": "code",
   "execution_count": 46,
   "metadata": {},
   "outputs": [],
   "source": [
    "x_train = pad_sequences(x_train, maxlen=100)\n",
    "x_test =  pad_sequences(x_test, maxlen=100)"
   ]
  },
  {
   "cell_type": "code",
   "execution_count": 48,
   "metadata": {},
   "outputs": [
    {
     "data": {
      "text/plain": [
       "(8982, 100)"
      ]
     },
     "execution_count": 48,
     "metadata": {},
     "output_type": "execute_result"
    }
   ],
   "source": [
    "x_train.shape"
   ]
  },
  {
   "cell_type": "code",
   "execution_count": 56,
   "metadata": {},
   "outputs": [
    {
     "data": {
      "text/plain": [
       "array([ 0,  1,  2,  3,  4,  5,  6,  7,  8,  9, 10, 11, 12, 13, 14, 15, 16,\n",
       "       17, 18, 19, 20, 21, 22, 23, 24, 25, 26, 27, 28, 29, 30, 31, 32, 33,\n",
       "       34, 35, 36, 37, 38, 39, 40, 41, 42, 43, 44, 45])"
      ]
     },
     "execution_count": 56,
     "metadata": {},
     "output_type": "execute_result"
    }
   ],
   "source": [
    "import numpy as np\n",
    "np.unique(y_train)"
   ]
  },
  {
   "cell_type": "code",
   "execution_count": 58,
   "metadata": {},
   "outputs": [],
   "source": [
    "import keras\n",
    "y_train = keras.utils.to_categorical(y_train)"
   ]
  },
  {
   "cell_type": "code",
   "execution_count": 60,
   "metadata": {},
   "outputs": [
    {
     "data": {
      "text/plain": [
       "(8982, 46)"
      ]
     },
     "execution_count": 60,
     "metadata": {},
     "output_type": "execute_result"
    }
   ],
   "source": [
    "y_train.shape"
   ]
  },
  {
   "cell_type": "code",
   "execution_count": 63,
   "metadata": {},
   "outputs": [
    {
     "name": "stdout",
     "output_type": "stream",
     "text": [
      "_________________________________________________________________\n",
      "Layer (type)                 Output Shape              Param #   \n",
      "=================================================================\n",
      "embedding_8 (Embedding)      (None, 100, 8)            247768    \n",
      "_________________________________________________________________\n",
      "flatten_8 (Flatten)          (None, 800)               0         \n",
      "_________________________________________________________________\n",
      "dense_8 (Dense)              (None, 46)                36846     \n",
      "=================================================================\n",
      "Total params: 284,614\n",
      "Trainable params: 284,614\n",
      "Non-trainable params: 0\n",
      "_________________________________________________________________\n"
     ]
    }
   ],
   "source": [
    "from keras.models import Sequential\n",
    "from keras.layers import Flatten, Dense, Embedding\n",
    "model = Sequential()\n",
    "model.add(Embedding(30971, 8, input_length=100)) #10000 for vocab size, 8 for dimensionality of embedding\n",
    "model.add(Flatten())\n",
    "model.add(Dense(46, activation='softmax'))\n",
    "model.compile(optimizer='rmsprop', loss='categorical_crossentropy', metrics=['acc'])\n",
    "model.summary()\n"
   ]
  },
  {
   "cell_type": "code",
   "execution_count": 62,
   "metadata": {},
   "outputs": [
    {
     "name": "stdout",
     "output_type": "stream",
     "text": [
      "Train on 7185 samples, validate on 1797 samples\n",
      "Epoch 1/20\n",
      "7185/7185 [==============================] - 11s - loss: 2.3662 - acc: 0.3797 - val_loss: 1.9542 - val_acc: 0.4791\n",
      "Epoch 2/20\n",
      "7185/7185 [==============================] - 9s - loss: 1.8091 - acc: 0.4967 - val_loss: 1.7479 - val_acc: 0.5125\n",
      "Epoch 3/20\n",
      "7185/7185 [==============================] - 11s - loss: 1.5836 - acc: 0.5815 - val_loss: 1.6147 - val_acc: 0.5899\n",
      "Epoch 4/20\n",
      "7185/7185 [==============================] - 10s - loss: 1.3946 - acc: 0.6566 - val_loss: 1.5213 - val_acc: 0.6327\n",
      "Epoch 5/20\n",
      "7185/7185 [==============================] - 9s - loss: 1.2271 - acc: 0.7034 - val_loss: 1.4500 - val_acc: 0.6472\n",
      "Epoch 6/20\n",
      "7185/7185 [==============================] - 9s - loss: 1.0738 - acc: 0.7390 - val_loss: 1.3983 - val_acc: 0.6617\n",
      "Epoch 7/20\n",
      "7185/7185 [==============================] - 8s - loss: 0.9342 - acc: 0.7795 - val_loss: 1.3666 - val_acc: 0.6700\n",
      "Epoch 8/20\n",
      "7185/7185 [==============================] - 5s - loss: 0.8071 - acc: 0.8143 - val_loss: 1.3489 - val_acc: 0.6772\n",
      "Epoch 9/20\n",
      "7185/7185 [==============================] - 5s - loss: 0.6927 - acc: 0.8497 - val_loss: 1.3443 - val_acc: 0.6800\n",
      "Epoch 10/20\n",
      "7185/7185 [==============================] - 7s - loss: 0.5903 - acc: 0.8782 - val_loss: 1.3464 - val_acc: 0.6800\n",
      "Epoch 11/20\n",
      "7185/7185 [==============================] - 6s - loss: 0.5006 - acc: 0.9052 - val_loss: 1.3607 - val_acc: 0.6767\n",
      "Epoch 12/20\n",
      "7185/7185 [==============================] - 5s - loss: 0.4231 - acc: 0.9193 - val_loss: 1.3795 - val_acc: 0.6745\n",
      "Epoch 13/20\n",
      "7185/7185 [==============================] - 6s - loss: 0.3574 - acc: 0.9324 - val_loss: 1.4047 - val_acc: 0.6733\n",
      "Epoch 14/20\n",
      "7185/7185 [==============================] - 5s - loss: 0.3018 - acc: 0.9445 - val_loss: 1.4318 - val_acc: 0.6678\n",
      "Epoch 15/20\n",
      "7185/7185 [==============================] - 5s - loss: 0.2563 - acc: 0.9502 - val_loss: 1.4626 - val_acc: 0.6656\n",
      "Epoch 16/20\n",
      "7185/7185 [==============================] - 6s - loss: 0.2198 - acc: 0.9563 - val_loss: 1.4967 - val_acc: 0.6628\n",
      "Epoch 17/20\n",
      "7185/7185 [==============================] - 5s - loss: 0.1910 - acc: 0.9576 - val_loss: 1.5379 - val_acc: 0.6633\n",
      "Epoch 18/20\n",
      "7185/7185 [==============================] - 5s - loss: 0.1669 - acc: 0.9605 - val_loss: 1.5705 - val_acc: 0.6617\n",
      "Epoch 19/20\n",
      "7185/7185 [==============================] - 4s - loss: 0.1493 - acc: 0.9630 - val_loss: 1.6003 - val_acc: 0.6633\n",
      "Epoch 20/20\n",
      "7185/7185 [==============================] - 4s - loss: 0.1349 - acc: 0.9638 - val_loss: 1.6415 - val_acc: 0.6622\n"
     ]
    }
   ],
   "source": [
    "history = model.fit(x_train, y_train,\n",
    "epochs=20,\n",
    "batch_size=32,\n",
    "validation_split=0.2)"
   ]
  },
  {
   "cell_type": "code",
   "execution_count": 64,
   "metadata": {},
   "outputs": [],
   "source": [
    "from keras.models import load_model\n",
    "model.save('my_model.h5')  # creates a HDF5 file 'my_model.h5'"
   ]
  }
 ],
 "metadata": {
  "kernelspec": {
   "display_name": "Python 3",
   "language": "python",
   "name": "python3"
  },
  "language_info": {
   "codemirror_mode": {
    "name": "ipython",
    "version": 3
   },
   "file_extension": ".py",
   "mimetype": "text/x-python",
   "name": "python",
   "nbconvert_exporter": "python",
   "pygments_lexer": "ipython3",
   "version": "3.5.4"
  }
 },
 "nbformat": 4,
 "nbformat_minor": 2
}
