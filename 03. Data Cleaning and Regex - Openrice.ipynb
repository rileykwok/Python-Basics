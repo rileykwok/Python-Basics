{
 "cells": [
  {
   "cell_type": "markdown",
   "metadata": {},
   "source": [
    "# Open Rice\n",
    "\n",
    "** 1.) ** We scrapped a data set from open rice but it needs cleaning:\n",
    "\n",
    "* Remove duplicate data\n",
    "* Use a regex to clean the review col\n",
    "* Remove the trailing commar from the adress col\n"
   ]
  },
  {
   "cell_type": "code",
   "execution_count": 22,
   "metadata": {},
   "outputs": [],
   "source": [
    "import pandas as pd"
   ]
  },
  {
   "cell_type": "code",
   "execution_count": 201,
   "metadata": {},
   "outputs": [],
   "source": [
    "openrice = pd.read_csv(\"data/open-rice.csv\")"
   ]
  },
  {
   "cell_type": "code",
   "execution_count": 202,
   "metadata": {
    "scrolled": true
   },
   "outputs": [
    {
     "data": {
      "text/html": [
       "<div>\n",
       "<table border=\"1\" class=\"dataframe\">\n",
       "  <thead>\n",
       "    <tr style=\"text-align: right;\">\n",
       "      <th></th>\n",
       "      <th>address</th>\n",
       "      <th>bookmarks</th>\n",
       "      <th>dislikes</th>\n",
       "      <th>food_type</th>\n",
       "      <th>likes</th>\n",
       "      <th>name</th>\n",
       "      <th>number_of_reviews</th>\n",
       "      <th>price_range</th>\n",
       "    </tr>\n",
       "  </thead>\n",
       "  <tbody>\n",
       "    <tr>\n",
       "      <th>0</th>\n",
       "      <td>Shop J-K., 200 Hollywood Road,</td>\n",
       "      <td>5838</td>\n",
       "      <td>6</td>\n",
       "      <td>Hong Kong Style</td>\n",
       "      <td>78</td>\n",
       "      <td>For Kee Restaurant 科記咖啡餐室</td>\n",
       "      <td>(133 Reviews)</td>\n",
       "      <td>Below $50</td>\n",
       "    </tr>\n",
       "    <tr>\n",
       "      <th>1</th>\n",
       "      <td>G/F, 108 Hollywood Road,</td>\n",
       "      <td>3492</td>\n",
       "      <td>2</td>\n",
       "      <td>International</td>\n",
       "      <td>20</td>\n",
       "      <td>Blue · Butcher &amp; Meat Specialist</td>\n",
       "      <td>(30 Reviews)</td>\n",
       "      <td>$201-400</td>\n",
       "    </tr>\n",
       "    <tr>\n",
       "      <th>2</th>\n",
       "      <td>G/F, 206 Hollywood Road,</td>\n",
       "      <td>5517</td>\n",
       "      <td>5</td>\n",
       "      <td>Thai</td>\n",
       "      <td>31</td>\n",
       "      <td>Chachawan</td>\n",
       "      <td>(43 Reviews)</td>\n",
       "      <td>$201-400</td>\n",
       "    </tr>\n",
       "    <tr>\n",
       "      <th>3</th>\n",
       "      <td>Shop 3018, 3/F, Shun Tak Centre, 168-200 Conna...</td>\n",
       "      <td>1173</td>\n",
       "      <td>1</td>\n",
       "      <td>Hong Kong Style</td>\n",
       "      <td>23</td>\n",
       "      <td>Capital Café 華星冰室</td>\n",
       "      <td>(39 Reviews)</td>\n",
       "      <td>Below $50</td>\n",
       "    </tr>\n",
       "    <tr>\n",
       "      <th>4</th>\n",
       "      <td>G/F, 38 Queens Road West,</td>\n",
       "      <td>1064</td>\n",
       "      <td>1</td>\n",
       "      <td>Indian</td>\n",
       "      <td>50</td>\n",
       "      <td>Namaste Kitchen 滋味廚房</td>\n",
       "      <td>(57 Reviews)</td>\n",
       "      <td>$51-100</td>\n",
       "    </tr>\n",
       "  </tbody>\n",
       "</table>\n",
       "</div>"
      ],
      "text/plain": [
       "                                             address  bookmarks  dislikes  \\\n",
       "0                     Shop J-K., 200 Hollywood Road,       5838         6   \n",
       "1                           G/F, 108 Hollywood Road,       3492         2   \n",
       "2                           G/F, 206 Hollywood Road,       5517         5   \n",
       "3  Shop 3018, 3/F, Shun Tak Centre, 168-200 Conna...       1173         1   \n",
       "4                          G/F, 38 Queens Road West,       1064         1   \n",
       "\n",
       "         food_type  likes                              name number_of_reviews  \\\n",
       "0  Hong Kong Style     78         For Kee Restaurant 科記咖啡餐室     (133 Reviews)   \n",
       "1    International     20  Blue · Butcher & Meat Specialist      (30 Reviews)   \n",
       "2             Thai     31                         Chachawan      (43 Reviews)   \n",
       "3  Hong Kong Style     23                 Capital Café 華星冰室      (39 Reviews)   \n",
       "4           Indian     50              Namaste Kitchen 滋味廚房      (57 Reviews)   \n",
       "\n",
       "  price_range  \n",
       "0   Below $50  \n",
       "1    $201-400  \n",
       "2    $201-400  \n",
       "3   Below $50  \n",
       "4     $51-100  "
      ]
     },
     "execution_count": 202,
     "metadata": {},
     "output_type": "execute_result"
    }
   ],
   "source": [
    "openrice.head()"
   ]
  },
  {
   "cell_type": "code",
   "execution_count": 203,
   "metadata": {},
   "outputs": [
    {
     "data": {
      "text/plain": [
       "(26165, 8)"
      ]
     },
     "execution_count": 203,
     "metadata": {},
     "output_type": "execute_result"
    }
   ],
   "source": [
    "openrice.shape"
   ]
  },
  {
   "cell_type": "code",
   "execution_count": 204,
   "metadata": {},
   "outputs": [
    {
     "data": {
      "text/plain": [
       "count                                                 26165\n",
       "unique                                                14693\n",
       "top       Level L, Cordis, Hong Kong at Langham Place, 5...\n",
       "freq                                                     29\n",
       "Name: address, dtype: object"
      ]
     },
     "execution_count": 204,
     "metadata": {},
     "output_type": "execute_result"
    }
   ],
   "source": [
    "openrice['address'].describe()"
   ]
  },
  {
   "cell_type": "markdown",
   "metadata": {},
   "source": [
    "### Remove duplicate data\n"
   ]
  },
  {
   "cell_type": "code",
   "execution_count": 205,
   "metadata": {},
   "outputs": [],
   "source": [
    "openrice=openrice.drop_duplicates(subset=[\"address\",\"name\"])"
   ]
  },
  {
   "cell_type": "code",
   "execution_count": 206,
   "metadata": {},
   "outputs": [
    {
     "data": {
      "text/plain": [
       "(15086, 8)"
      ]
     },
     "execution_count": 206,
     "metadata": {},
     "output_type": "execute_result"
    }
   ],
   "source": [
    "openrice.shape"
   ]
  },
  {
   "cell_type": "markdown",
   "metadata": {},
   "source": [
    "### Clean the review col"
   ]
  },
  {
   "cell_type": "code",
   "execution_count": 207,
   "metadata": {},
   "outputs": [],
   "source": [
    "import re"
   ]
  },
  {
   "cell_type": "code",
   "execution_count": 208,
   "metadata": {
    "scrolled": false
   },
   "outputs": [],
   "source": [
    "def splitit(text):\n",
    "    return (re.findall(\"\\d+\",text))"
   ]
  },
  {
   "cell_type": "code",
   "execution_count": 209,
   "metadata": {},
   "outputs": [],
   "source": [
    "x=openrice[\"number_of_reviews\"].apply(splitit)\n",
    "y=[]\n",
    "for i in x:\n",
    "    y.extend(i) "
   ]
  },
  {
   "cell_type": "code",
   "execution_count": 210,
   "metadata": {
    "scrolled": true
   },
   "outputs": [
    {
     "data": {
      "text/html": [
       "<div>\n",
       "<table border=\"1\" class=\"dataframe\">\n",
       "  <thead>\n",
       "    <tr style=\"text-align: right;\">\n",
       "      <th></th>\n",
       "      <th>address</th>\n",
       "      <th>bookmarks</th>\n",
       "      <th>dislikes</th>\n",
       "      <th>food_type</th>\n",
       "      <th>likes</th>\n",
       "      <th>name</th>\n",
       "      <th>number_of_reviews</th>\n",
       "      <th>price_range</th>\n",
       "    </tr>\n",
       "  </thead>\n",
       "  <tbody>\n",
       "    <tr>\n",
       "      <th>0</th>\n",
       "      <td>Shop J-K., 200 Hollywood Road,</td>\n",
       "      <td>5838</td>\n",
       "      <td>6</td>\n",
       "      <td>Hong Kong Style</td>\n",
       "      <td>78</td>\n",
       "      <td>For Kee Restaurant 科記咖啡餐室</td>\n",
       "      <td>133</td>\n",
       "      <td>Below $50</td>\n",
       "    </tr>\n",
       "    <tr>\n",
       "      <th>1</th>\n",
       "      <td>G/F, 108 Hollywood Road,</td>\n",
       "      <td>3492</td>\n",
       "      <td>2</td>\n",
       "      <td>International</td>\n",
       "      <td>20</td>\n",
       "      <td>Blue · Butcher &amp; Meat Specialist</td>\n",
       "      <td>30</td>\n",
       "      <td>$201-400</td>\n",
       "    </tr>\n",
       "    <tr>\n",
       "      <th>2</th>\n",
       "      <td>G/F, 206 Hollywood Road,</td>\n",
       "      <td>5517</td>\n",
       "      <td>5</td>\n",
       "      <td>Thai</td>\n",
       "      <td>31</td>\n",
       "      <td>Chachawan</td>\n",
       "      <td>43</td>\n",
       "      <td>$201-400</td>\n",
       "    </tr>\n",
       "    <tr>\n",
       "      <th>3</th>\n",
       "      <td>Shop 3018, 3/F, Shun Tak Centre, 168-200 Conna...</td>\n",
       "      <td>1173</td>\n",
       "      <td>1</td>\n",
       "      <td>Hong Kong Style</td>\n",
       "      <td>23</td>\n",
       "      <td>Capital Café 華星冰室</td>\n",
       "      <td>39</td>\n",
       "      <td>Below $50</td>\n",
       "    </tr>\n",
       "    <tr>\n",
       "      <th>4</th>\n",
       "      <td>G/F, 38 Queens Road West,</td>\n",
       "      <td>1064</td>\n",
       "      <td>1</td>\n",
       "      <td>Indian</td>\n",
       "      <td>50</td>\n",
       "      <td>Namaste Kitchen 滋味廚房</td>\n",
       "      <td>57</td>\n",
       "      <td>$51-100</td>\n",
       "    </tr>\n",
       "  </tbody>\n",
       "</table>\n",
       "</div>"
      ],
      "text/plain": [
       "                                             address  bookmarks  dislikes  \\\n",
       "0                     Shop J-K., 200 Hollywood Road,       5838         6   \n",
       "1                           G/F, 108 Hollywood Road,       3492         2   \n",
       "2                           G/F, 206 Hollywood Road,       5517         5   \n",
       "3  Shop 3018, 3/F, Shun Tak Centre, 168-200 Conna...       1173         1   \n",
       "4                          G/F, 38 Queens Road West,       1064         1   \n",
       "\n",
       "         food_type  likes                              name number_of_reviews  \\\n",
       "0  Hong Kong Style     78         For Kee Restaurant 科記咖啡餐室               133   \n",
       "1    International     20  Blue · Butcher & Meat Specialist                30   \n",
       "2             Thai     31                         Chachawan                43   \n",
       "3  Hong Kong Style     23                 Capital Café 華星冰室                39   \n",
       "4           Indian     50              Namaste Kitchen 滋味廚房                57   \n",
       "\n",
       "  price_range  \n",
       "0   Below $50  \n",
       "1    $201-400  \n",
       "2    $201-400  \n",
       "3   Below $50  \n",
       "4     $51-100  "
      ]
     },
     "execution_count": 210,
     "metadata": {},
     "output_type": "execute_result"
    }
   ],
   "source": [
    "openrice[\"number_of_reviews\"]=y\n",
    "openrice.head()"
   ]
  },
  {
   "cell_type": "markdown",
   "metadata": {},
   "source": [
    "### Remove the trailing commar from the adress col"
   ]
  },
  {
   "cell_type": "code",
   "execution_count": 211,
   "metadata": {},
   "outputs": [],
   "source": [
    "def removecol(text):\n",
    "    if text[-1]==\",\":\n",
    "        s=text[:-1]\n",
    "    else:\n",
    "        s=text\n",
    "    return (s)"
   ]
  },
  {
   "cell_type": "code",
   "execution_count": 212,
   "metadata": {},
   "outputs": [
    {
     "data": {
      "text/html": [
       "<div>\n",
       "<table border=\"1\" class=\"dataframe\">\n",
       "  <thead>\n",
       "    <tr style=\"text-align: right;\">\n",
       "      <th></th>\n",
       "      <th>address</th>\n",
       "      <th>bookmarks</th>\n",
       "      <th>dislikes</th>\n",
       "      <th>food_type</th>\n",
       "      <th>likes</th>\n",
       "      <th>name</th>\n",
       "      <th>number_of_reviews</th>\n",
       "      <th>price_range</th>\n",
       "    </tr>\n",
       "  </thead>\n",
       "  <tbody>\n",
       "    <tr>\n",
       "      <th>0</th>\n",
       "      <td>Shop J-K., 200 Hollywood Road</td>\n",
       "      <td>5838</td>\n",
       "      <td>6</td>\n",
       "      <td>Hong Kong Style</td>\n",
       "      <td>78</td>\n",
       "      <td>For Kee Restaurant 科記咖啡餐室</td>\n",
       "      <td>133</td>\n",
       "      <td>Below $50</td>\n",
       "    </tr>\n",
       "    <tr>\n",
       "      <th>1</th>\n",
       "      <td>G/F, 108 Hollywood Road</td>\n",
       "      <td>3492</td>\n",
       "      <td>2</td>\n",
       "      <td>International</td>\n",
       "      <td>20</td>\n",
       "      <td>Blue · Butcher &amp; Meat Specialist</td>\n",
       "      <td>30</td>\n",
       "      <td>$201-400</td>\n",
       "    </tr>\n",
       "    <tr>\n",
       "      <th>2</th>\n",
       "      <td>G/F, 206 Hollywood Road</td>\n",
       "      <td>5517</td>\n",
       "      <td>5</td>\n",
       "      <td>Thai</td>\n",
       "      <td>31</td>\n",
       "      <td>Chachawan</td>\n",
       "      <td>43</td>\n",
       "      <td>$201-400</td>\n",
       "    </tr>\n",
       "    <tr>\n",
       "      <th>3</th>\n",
       "      <td>Shop 3018, 3/F, Shun Tak Centre, 168-200 Conna...</td>\n",
       "      <td>1173</td>\n",
       "      <td>1</td>\n",
       "      <td>Hong Kong Style</td>\n",
       "      <td>23</td>\n",
       "      <td>Capital Café 華星冰室</td>\n",
       "      <td>39</td>\n",
       "      <td>Below $50</td>\n",
       "    </tr>\n",
       "    <tr>\n",
       "      <th>4</th>\n",
       "      <td>G/F, 38 Queens Road West</td>\n",
       "      <td>1064</td>\n",
       "      <td>1</td>\n",
       "      <td>Indian</td>\n",
       "      <td>50</td>\n",
       "      <td>Namaste Kitchen 滋味廚房</td>\n",
       "      <td>57</td>\n",
       "      <td>$51-100</td>\n",
       "    </tr>\n",
       "  </tbody>\n",
       "</table>\n",
       "</div>"
      ],
      "text/plain": [
       "                                             address  bookmarks  dislikes  \\\n",
       "0                      Shop J-K., 200 Hollywood Road       5838         6   \n",
       "1                            G/F, 108 Hollywood Road       3492         2   \n",
       "2                            G/F, 206 Hollywood Road       5517         5   \n",
       "3  Shop 3018, 3/F, Shun Tak Centre, 168-200 Conna...       1173         1   \n",
       "4                           G/F, 38 Queens Road West       1064         1   \n",
       "\n",
       "         food_type  likes                              name number_of_reviews  \\\n",
       "0  Hong Kong Style     78         For Kee Restaurant 科記咖啡餐室               133   \n",
       "1    International     20  Blue · Butcher & Meat Specialist                30   \n",
       "2             Thai     31                         Chachawan                43   \n",
       "3  Hong Kong Style     23                 Capital Café 華星冰室                39   \n",
       "4           Indian     50              Namaste Kitchen 滋味廚房                57   \n",
       "\n",
       "  price_range  \n",
       "0   Below $50  \n",
       "1    $201-400  \n",
       "2    $201-400  \n",
       "3   Below $50  \n",
       "4     $51-100  "
      ]
     },
     "execution_count": 212,
     "metadata": {},
     "output_type": "execute_result"
    }
   ],
   "source": [
    "openrice[\"address\"]=openrice[\"address\"].apply(removecol)\n",
    "openrice.head(5)"
   ]
  },
  {
   "cell_type": "markdown",
   "metadata": {},
   "source": [
    "** 2.) ** Which resturant in Hong Kong is the most favorable? In terms of likes, in terms of bookmarks?"
   ]
  },
  {
   "cell_type": "code",
   "execution_count": 213,
   "metadata": {},
   "outputs": [
    {
     "data": {
      "text/html": [
       "<div>\n",
       "<table border=\"1\" class=\"dataframe\">\n",
       "  <thead>\n",
       "    <tr style=\"text-align: right;\">\n",
       "      <th></th>\n",
       "      <th>address</th>\n",
       "      <th>bookmarks</th>\n",
       "      <th>dislikes</th>\n",
       "      <th>food_type</th>\n",
       "      <th>likes</th>\n",
       "      <th>name</th>\n",
       "      <th>number_of_reviews</th>\n",
       "      <th>price_range</th>\n",
       "    </tr>\n",
       "  </thead>\n",
       "  <tbody>\n",
       "    <tr>\n",
       "      <th>569</th>\n",
       "      <td>G/F, 47-49 Parkes Street</td>\n",
       "      <td>35511</td>\n",
       "      <td>267</td>\n",
       "      <td>Hong Kong Style</td>\n",
       "      <td>1585</td>\n",
       "      <td>Australia Dairy Company 澳洲牛奶公司</td>\n",
       "      <td>2595</td>\n",
       "      <td>Below $50</td>\n",
       "    </tr>\n",
       "    <tr>\n",
       "      <th>243</th>\n",
       "      <td>2 Mei Lun Street</td>\n",
       "      <td>38286</td>\n",
       "      <td>76</td>\n",
       "      <td>Hong Kong Style</td>\n",
       "      <td>929</td>\n",
       "      <td>Sing Heung Yuen 勝香園</td>\n",
       "      <td>1309</td>\n",
       "      <td>Below $50</td>\n",
       "    </tr>\n",
       "    <tr>\n",
       "      <th>13284</th>\n",
       "      <td>Shop D, G/F, Food Street, 50-56 Paterson Stree...</td>\n",
       "      <td>34590</td>\n",
       "      <td>54</td>\n",
       "      <td>American</td>\n",
       "      <td>725</td>\n",
       "      <td>Burgeroom</td>\n",
       "      <td>906</td>\n",
       "      <td>$51-100</td>\n",
       "    </tr>\n",
       "    <tr>\n",
       "      <th>11501</th>\n",
       "      <td>G/F, 62 &amp; 67 Fuk Wing Street / Shop D, G/F, 16...</td>\n",
       "      <td>15785</td>\n",
       "      <td>88</td>\n",
       "      <td>Hong Kong Style</td>\n",
       "      <td>650</td>\n",
       "      <td>Wai Kee Noodle Cafe 維記咖啡粉麵</td>\n",
       "      <td>1045</td>\n",
       "      <td>Below $50</td>\n",
       "    </tr>\n",
       "    <tr>\n",
       "      <th>491</th>\n",
       "      <td>Shop 23, UG, Festival Walk, 80 Tat Chee Avenue</td>\n",
       "      <td>6492</td>\n",
       "      <td>53</td>\n",
       "      <td>Yoshoku</td>\n",
       "      <td>642</td>\n",
       "      <td>EXP</td>\n",
       "      <td>956</td>\n",
       "      <td>$101-200</td>\n",
       "    </tr>\n",
       "  </tbody>\n",
       "</table>\n",
       "</div>"
      ],
      "text/plain": [
       "                                                 address  bookmarks  dislikes  \\\n",
       "569                             G/F, 47-49 Parkes Street      35511       267   \n",
       "243                                     2 Mei Lun Street      38286        76   \n",
       "13284  Shop D, G/F, Food Street, 50-56 Paterson Stree...      34590        54   \n",
       "11501  G/F, 62 & 67 Fuk Wing Street / Shop D, G/F, 16...      15785        88   \n",
       "491       Shop 23, UG, Festival Walk, 80 Tat Chee Avenue       6492        53   \n",
       "\n",
       "             food_type  likes                            name  \\\n",
       "569    Hong Kong Style   1585  Australia Dairy Company 澳洲牛奶公司   \n",
       "243    Hong Kong Style    929             Sing Heung Yuen 勝香園   \n",
       "13284         American    725                       Burgeroom   \n",
       "11501  Hong Kong Style    650      Wai Kee Noodle Cafe 維記咖啡粉麵   \n",
       "491            Yoshoku    642                             EXP   \n",
       "\n",
       "      number_of_reviews price_range  \n",
       "569                2595   Below $50  \n",
       "243                1309   Below $50  \n",
       "13284               906     $51-100  \n",
       "11501              1045   Below $50  \n",
       "491                 956    $101-200  "
      ]
     },
     "execution_count": 213,
     "metadata": {},
     "output_type": "execute_result"
    }
   ],
   "source": [
    "openrice.sort_values(by=\"likes\",ascending=[False]).head(5)"
   ]
  },
  {
   "cell_type": "code",
   "execution_count": 214,
   "metadata": {},
   "outputs": [
    {
     "data": {
      "text/html": [
       "<div>\n",
       "<table border=\"1\" class=\"dataframe\">\n",
       "  <thead>\n",
       "    <tr style=\"text-align: right;\">\n",
       "      <th></th>\n",
       "      <th>address</th>\n",
       "      <th>bookmarks</th>\n",
       "      <th>dislikes</th>\n",
       "      <th>food_type</th>\n",
       "      <th>likes</th>\n",
       "      <th>name</th>\n",
       "      <th>number_of_reviews</th>\n",
       "      <th>price_range</th>\n",
       "    </tr>\n",
       "  </thead>\n",
       "  <tbody>\n",
       "    <tr>\n",
       "      <th>233</th>\n",
       "      <td>Level L, Cordis, Hong Kong at Langham Place, 5...</td>\n",
       "      <td>43087</td>\n",
       "      <td>67</td>\n",
       "      <td>International</td>\n",
       "      <td>210</td>\n",
       "      <td>The Place</td>\n",
       "      <td>422</td>\n",
       "      <td>$401-800</td>\n",
       "    </tr>\n",
       "    <tr>\n",
       "      <th>13298</th>\n",
       "      <td>Shop 1-2, G/F, Kiu Fung Mansion, 83-89 Kimberl...</td>\n",
       "      <td>40506</td>\n",
       "      <td>23</td>\n",
       "      <td>Western</td>\n",
       "      <td>367</td>\n",
       "      <td>LAB EAT Restaurant &amp; Bar</td>\n",
       "      <td>467</td>\n",
       "      <td>$201-400</td>\n",
       "    </tr>\n",
       "    <tr>\n",
       "      <th>243</th>\n",
       "      <td>2 Mei Lun Street</td>\n",
       "      <td>38286</td>\n",
       "      <td>76</td>\n",
       "      <td>Hong Kong Style</td>\n",
       "      <td>929</td>\n",
       "      <td>Sing Heung Yuen 勝香園</td>\n",
       "      <td>1309</td>\n",
       "      <td>Below $50</td>\n",
       "    </tr>\n",
       "    <tr>\n",
       "      <th>569</th>\n",
       "      <td>G/F, 47-49 Parkes Street</td>\n",
       "      <td>35511</td>\n",
       "      <td>267</td>\n",
       "      <td>Hong Kong Style</td>\n",
       "      <td>1585</td>\n",
       "      <td>Australia Dairy Company 澳洲牛奶公司</td>\n",
       "      <td>2595</td>\n",
       "      <td>Below $50</td>\n",
       "    </tr>\n",
       "    <tr>\n",
       "      <th>6265</th>\n",
       "      <td>3/F, The Royal Garden, 69 Mody Road</td>\n",
       "      <td>35001</td>\n",
       "      <td>77</td>\n",
       "      <td>Western</td>\n",
       "      <td>502</td>\n",
       "      <td>The Greenery 雅苑座</td>\n",
       "      <td>757</td>\n",
       "      <td>$401-800</td>\n",
       "    </tr>\n",
       "  </tbody>\n",
       "</table>\n",
       "</div>"
      ],
      "text/plain": [
       "                                                 address  bookmarks  dislikes  \\\n",
       "233    Level L, Cordis, Hong Kong at Langham Place, 5...      43087        67   \n",
       "13298  Shop 1-2, G/F, Kiu Fung Mansion, 83-89 Kimberl...      40506        23   \n",
       "243                                     2 Mei Lun Street      38286        76   \n",
       "569                             G/F, 47-49 Parkes Street      35511       267   \n",
       "6265                 3/F, The Royal Garden, 69 Mody Road      35001        77   \n",
       "\n",
       "             food_type  likes                            name  \\\n",
       "233      International    210                       The Place   \n",
       "13298          Western    367        LAB EAT Restaurant & Bar   \n",
       "243    Hong Kong Style    929             Sing Heung Yuen 勝香園   \n",
       "569    Hong Kong Style   1585  Australia Dairy Company 澳洲牛奶公司   \n",
       "6265           Western    502                The Greenery 雅苑座   \n",
       "\n",
       "      number_of_reviews price_range  \n",
       "233                 422    $401-800  \n",
       "13298               467    $201-400  \n",
       "243                1309   Below $50  \n",
       "569                2595   Below $50  \n",
       "6265                757    $401-800  "
      ]
     },
     "execution_count": 214,
     "metadata": {},
     "output_type": "execute_result"
    }
   ],
   "source": [
    "openrice.sort_values(by=\"bookmarks\",ascending=[False]).head(5)"
   ]
  },
  {
   "cell_type": "markdown",
   "metadata": {},
   "source": [
    "** 3.) ** What is the price range for the whole open rice dataset?"
   ]
  },
  {
   "cell_type": "code",
   "execution_count": 215,
   "metadata": {},
   "outputs": [
    {
     "data": {
      "text/plain": [
       "array(['Below $50', '$201-400', '$51-100', '$101-200', '$401-800',\n",
       "       'Above $801'], dtype=object)"
      ]
     },
     "execution_count": 215,
     "metadata": {},
     "output_type": "execute_result"
    }
   ],
   "source": [
    "openrice[\"price_range\"].unique()"
   ]
  },
  {
   "cell_type": "markdown",
   "metadata": {},
   "source": [
    "** 4.) ** By grouping price_range with mean and median, what can you observe from bookmarks and likes?\n"
   ]
  },
  {
   "cell_type": "code",
   "execution_count": 216,
   "metadata": {},
   "outputs": [
    {
     "data": {
      "text/plain": [
       "(               bookmarks  dislikes      likes\n",
       " price_range                                  \n",
       " $101-200     1881.684495  5.779051  43.188793\n",
       " $201-400     3067.668576  7.120974  60.073729\n",
       " $401-800     4141.452012  7.588235  56.801858\n",
       " $51-100      1050.693061  4.310017  27.080862\n",
       " Above $801   3774.645833  4.270833  54.020833\n",
       " Below $50     512.222731  2.779558  15.779558,\n",
       "              bookmarks  dislikes  likes\n",
       " price_range                            \n",
       " $101-200         705.0       3.0   19.0\n",
       " $201-400        1596.0       3.0   32.0\n",
       " $401-800        2266.0       3.0   35.0\n",
       " $51-100          269.0       1.0   10.0\n",
       " Above $801      2768.5       2.0   22.5\n",
       " Below $50         82.0       1.0    5.0)"
      ]
     },
     "execution_count": 216,
     "metadata": {},
     "output_type": "execute_result"
    }
   ],
   "source": [
    "openrice.groupby(\"price_range\").mean(),openrice.groupby(\"price_range\").median()"
   ]
  },
  {
   "cell_type": "markdown",
   "metadata": {},
   "source": [
    "There's to many resturants types, this can hinder the analysis. Lets make a new column for HK Style Resturants."
   ]
  },
  {
   "cell_type": "code",
   "execution_count": 217,
   "metadata": {},
   "outputs": [],
   "source": [
    "def hkstyle_to_numeric(x):\n",
    "    if x in ['Hong Kong Style','Dai Pai Dong','Dim Sum Restaurant','Noodles/Rice Noodles']:\n",
    "        return \"HKresturant\"\n",
    "    else:\n",
    "        return \"Non-HKresturant\"\n"
   ]
  },
  {
   "cell_type": "code",
   "execution_count": 218,
   "metadata": {},
   "outputs": [],
   "source": [
    "# we can use .apply to generate new columns for it\n",
    "openrice['HKresturant'] = openrice['food_type'].apply(hkstyle_to_numeric)  "
   ]
  },
  {
   "cell_type": "code",
   "execution_count": 219,
   "metadata": {},
   "outputs": [
    {
     "data": {
      "text/html": [
       "<div>\n",
       "<table border=\"1\" class=\"dataframe\">\n",
       "  <thead>\n",
       "    <tr style=\"text-align: right;\">\n",
       "      <th></th>\n",
       "      <th>address</th>\n",
       "      <th>bookmarks</th>\n",
       "      <th>dislikes</th>\n",
       "      <th>food_type</th>\n",
       "      <th>likes</th>\n",
       "      <th>name</th>\n",
       "      <th>number_of_reviews</th>\n",
       "      <th>price_range</th>\n",
       "      <th>HKresturant</th>\n",
       "    </tr>\n",
       "  </thead>\n",
       "  <tbody>\n",
       "    <tr>\n",
       "      <th>0</th>\n",
       "      <td>Shop J-K., 200 Hollywood Road</td>\n",
       "      <td>5838</td>\n",
       "      <td>6</td>\n",
       "      <td>Hong Kong Style</td>\n",
       "      <td>78</td>\n",
       "      <td>For Kee Restaurant 科記咖啡餐室</td>\n",
       "      <td>133</td>\n",
       "      <td>Below $50</td>\n",
       "      <td>HKresturant</td>\n",
       "    </tr>\n",
       "    <tr>\n",
       "      <th>1</th>\n",
       "      <td>G/F, 108 Hollywood Road</td>\n",
       "      <td>3492</td>\n",
       "      <td>2</td>\n",
       "      <td>International</td>\n",
       "      <td>20</td>\n",
       "      <td>Blue · Butcher &amp; Meat Specialist</td>\n",
       "      <td>30</td>\n",
       "      <td>$201-400</td>\n",
       "      <td>Non-HKresturant</td>\n",
       "    </tr>\n",
       "    <tr>\n",
       "      <th>2</th>\n",
       "      <td>G/F, 206 Hollywood Road</td>\n",
       "      <td>5517</td>\n",
       "      <td>5</td>\n",
       "      <td>Thai</td>\n",
       "      <td>31</td>\n",
       "      <td>Chachawan</td>\n",
       "      <td>43</td>\n",
       "      <td>$201-400</td>\n",
       "      <td>Non-HKresturant</td>\n",
       "    </tr>\n",
       "    <tr>\n",
       "      <th>3</th>\n",
       "      <td>Shop 3018, 3/F, Shun Tak Centre, 168-200 Conna...</td>\n",
       "      <td>1173</td>\n",
       "      <td>1</td>\n",
       "      <td>Hong Kong Style</td>\n",
       "      <td>23</td>\n",
       "      <td>Capital Café 華星冰室</td>\n",
       "      <td>39</td>\n",
       "      <td>Below $50</td>\n",
       "      <td>HKresturant</td>\n",
       "    </tr>\n",
       "    <tr>\n",
       "      <th>4</th>\n",
       "      <td>G/F, 38 Queens Road West</td>\n",
       "      <td>1064</td>\n",
       "      <td>1</td>\n",
       "      <td>Indian</td>\n",
       "      <td>50</td>\n",
       "      <td>Namaste Kitchen 滋味廚房</td>\n",
       "      <td>57</td>\n",
       "      <td>$51-100</td>\n",
       "      <td>Non-HKresturant</td>\n",
       "    </tr>\n",
       "  </tbody>\n",
       "</table>\n",
       "</div>"
      ],
      "text/plain": [
       "                                             address  bookmarks  dislikes  \\\n",
       "0                      Shop J-K., 200 Hollywood Road       5838         6   \n",
       "1                            G/F, 108 Hollywood Road       3492         2   \n",
       "2                            G/F, 206 Hollywood Road       5517         5   \n",
       "3  Shop 3018, 3/F, Shun Tak Centre, 168-200 Conna...       1173         1   \n",
       "4                           G/F, 38 Queens Road West       1064         1   \n",
       "\n",
       "         food_type  likes                              name number_of_reviews  \\\n",
       "0  Hong Kong Style     78         For Kee Restaurant 科記咖啡餐室               133   \n",
       "1    International     20  Blue · Butcher & Meat Specialist                30   \n",
       "2             Thai     31                         Chachawan                43   \n",
       "3  Hong Kong Style     23                 Capital Café 華星冰室                39   \n",
       "4           Indian     50              Namaste Kitchen 滋味廚房                57   \n",
       "\n",
       "  price_range      HKresturant  \n",
       "0   Below $50      HKresturant  \n",
       "1    $201-400  Non-HKresturant  \n",
       "2    $201-400  Non-HKresturant  \n",
       "3   Below $50      HKresturant  \n",
       "4     $51-100  Non-HKresturant  "
      ]
     },
     "execution_count": 219,
     "metadata": {},
     "output_type": "execute_result"
    }
   ],
   "source": [
    "openrice.head()"
   ]
  },
  {
   "cell_type": "markdown",
   "metadata": {},
   "source": [
    "** 5.) ** Select price_range, likes, bookmarks,  HKresturant as a new dataframe "
   ]
  },
  {
   "cell_type": "code",
   "execution_count": 220,
   "metadata": {},
   "outputs": [],
   "source": [
    "openrice2 = openrice[[\"price_range\",\"likes\",\"bookmarks\",\"HKresturant\"]]"
   ]
  },
  {
   "cell_type": "markdown",
   "metadata": {},
   "source": [
    "** 6.) ** Use your new dataframe make box plot and violin plots"
   ]
  },
  {
   "cell_type": "code",
   "execution_count": 221,
   "metadata": {},
   "outputs": [],
   "source": [
    "import seaborn as sns\n",
    "%matplotlib inline"
   ]
  },
  {
   "cell_type": "code",
   "execution_count": 222,
   "metadata": {},
   "outputs": [],
   "source": [
    "#Should look something like this"
   ]
  },
  {
   "cell_type": "code",
   "execution_count": 254,
   "metadata": {},
   "outputs": [
    {
     "data": {
      "text/plain": [
       "<matplotlib.axes._subplots.AxesSubplot at 0x7f9862f68400>"
      ]
     },
     "execution_count": 254,
     "metadata": {},
     "output_type": "execute_result"
    },
    {
     "data": {
      "image/png": "[encoded data removed]",
      "text/plain": [
       "<matplotlib.figure.Figure at 0x7f98632a0c18>"
      ]
     },
     "metadata": {},
     "output_type": "display_data"
    }
   ],
   "source": [
    "sns.violinplot(y='likes', x='price_range',hue=\"HKresturant\", data=openrice2, palette=\"Pastel1\",split=True)"
   ]
  },
  {
   "cell_type": "code",
   "execution_count": 253,
   "metadata": {
    "scrolled": true
   },
   "outputs": [
    {
     "data": {
      "text/plain": [
       "<matplotlib.axes._subplots.AxesSubplot at 0x7f98632dbeb8>"
      ]
     },
     "execution_count": 253,
     "metadata": {},
     "output_type": "execute_result"
    },
    {
     "data": {
      "image/png": "[encoded data removed]",
      "text/plain": [
       "<matplotlib.figure.Figure at 0x7f986365b668>"
      ]
     },
     "metadata": {},
     "output_type": "display_data"
    }
   ],
   "source": [
    "sns.boxplot(y='likes', x='price_range',hue=\"HKresturant\", data=openrice2, palette=\"Pastel1\")"
   ]
  },
  {
   "cell_type": "markdown",
   "metadata": {},
   "source": [
    "# Unicef Data\n",
    "\n",
    "When working with data we may aberiviate the columns names to make them simpler to type. However we need to be anle to change them back \n"
   ]
  },
  {
   "cell_type": "code",
   "execution_count": 97,
   "metadata": {},
   "outputs": [],
   "source": [
    "import pandas as pd"
   ]
  },
  {
   "cell_type": "code",
   "execution_count": 98,
   "metadata": {},
   "outputs": [],
   "source": [
    "df = pd.read_csv(\"https://raw.githubusercontent.com/jackiekazil/data-wrangling/master/data/unicef/mn.csv\", low_memory=False)"
   ]
  },
  {
   "cell_type": "code",
   "execution_count": 99,
   "metadata": {},
   "outputs": [
    {
     "data": {
      "text/html": [
       "<div>\n",
       "<table border=\"1\" class=\"dataframe\">\n",
       "  <thead>\n",
       "    <tr style=\"text-align: right;\">\n",
       "      <th></th>\n",
       "      <th>Unnamed: 0</th>\n",
       "      <th>HH1</th>\n",
       "      <th>HH2</th>\n",
       "      <th>LN</th>\n",
       "      <th>MWM1</th>\n",
       "      <th>MWM2</th>\n",
       "      <th>MWM4</th>\n",
       "      <th>MWM5</th>\n",
       "      <th>MWM6D</th>\n",
       "      <th>MWM6M</th>\n",
       "      <th>...</th>\n",
       "      <th>MCSURV</th>\n",
       "      <th>MCDEAD</th>\n",
       "      <th>mwelevel</th>\n",
       "      <th>mnweight</th>\n",
       "      <th>wscore</th>\n",
       "      <th>windex5</th>\n",
       "      <th>wscoreu</th>\n",
       "      <th>windex5u</th>\n",
       "      <th>wscorer</th>\n",
       "      <th>windex5r</th>\n",
       "    </tr>\n",
       "  </thead>\n",
       "  <tbody>\n",
       "    <tr>\n",
       "      <th>0</th>\n",
       "      <td>1</td>\n",
       "      <td>1</td>\n",
       "      <td>17</td>\n",
       "      <td>1</td>\n",
       "      <td>1</td>\n",
       "      <td>17</td>\n",
       "      <td>1</td>\n",
       "      <td>14</td>\n",
       "      <td>7</td>\n",
       "      <td>4</td>\n",
       "      <td>...</td>\n",
       "      <td>0.0</td>\n",
       "      <td>0.0</td>\n",
       "      <td>Higher</td>\n",
       "      <td>0.403797</td>\n",
       "      <td>1.603670</td>\n",
       "      <td>5</td>\n",
       "      <td>1.272552</td>\n",
       "      <td>5.0</td>\n",
       "      <td>NaN</td>\n",
       "      <td>NaN</td>\n",
       "    </tr>\n",
       "    <tr>\n",
       "      <th>1</th>\n",
       "      <td>2</td>\n",
       "      <td>1</td>\n",
       "      <td>20</td>\n",
       "      <td>1</td>\n",
       "      <td>1</td>\n",
       "      <td>20</td>\n",
       "      <td>1</td>\n",
       "      <td>14</td>\n",
       "      <td>7</td>\n",
       "      <td>4</td>\n",
       "      <td>...</td>\n",
       "      <td>0.0</td>\n",
       "      <td>0.0</td>\n",
       "      <td>Higher</td>\n",
       "      <td>0.403797</td>\n",
       "      <td>1.543277</td>\n",
       "      <td>5</td>\n",
       "      <td>1.089026</td>\n",
       "      <td>5.0</td>\n",
       "      <td>NaN</td>\n",
       "      <td>NaN</td>\n",
       "    </tr>\n",
       "    <tr>\n",
       "      <th>2</th>\n",
       "      <td>3</td>\n",
       "      <td>2</td>\n",
       "      <td>1</td>\n",
       "      <td>1</td>\n",
       "      <td>2</td>\n",
       "      <td>1</td>\n",
       "      <td>1</td>\n",
       "      <td>9</td>\n",
       "      <td>8</td>\n",
       "      <td>4</td>\n",
       "      <td>...</td>\n",
       "      <td>3.0</td>\n",
       "      <td>0.0</td>\n",
       "      <td>Primary</td>\n",
       "      <td>1.031926</td>\n",
       "      <td>0.878635</td>\n",
       "      <td>4</td>\n",
       "      <td>-0.930721</td>\n",
       "      <td>1.0</td>\n",
       "      <td>NaN</td>\n",
       "      <td>NaN</td>\n",
       "    </tr>\n",
       "    <tr>\n",
       "      <th>3</th>\n",
       "      <td>4</td>\n",
       "      <td>2</td>\n",
       "      <td>1</td>\n",
       "      <td>5</td>\n",
       "      <td>2</td>\n",
       "      <td>1</td>\n",
       "      <td>5</td>\n",
       "      <td>9</td>\n",
       "      <td>12</td>\n",
       "      <td>4</td>\n",
       "      <td>...</td>\n",
       "      <td>NaN</td>\n",
       "      <td>NaN</td>\n",
       "      <td>NaN</td>\n",
       "      <td>0.000000</td>\n",
       "      <td>0.000000</td>\n",
       "      <td>0</td>\n",
       "      <td>0.000000</td>\n",
       "      <td>0.0</td>\n",
       "      <td>0.0</td>\n",
       "      <td>0.0</td>\n",
       "    </tr>\n",
       "    <tr>\n",
       "      <th>4</th>\n",
       "      <td>5</td>\n",
       "      <td>2</td>\n",
       "      <td>1</td>\n",
       "      <td>8</td>\n",
       "      <td>2</td>\n",
       "      <td>1</td>\n",
       "      <td>8</td>\n",
       "      <td>9</td>\n",
       "      <td>8</td>\n",
       "      <td>4</td>\n",
       "      <td>...</td>\n",
       "      <td>0.0</td>\n",
       "      <td>0.0</td>\n",
       "      <td>Secondary</td>\n",
       "      <td>1.031926</td>\n",
       "      <td>0.878635</td>\n",
       "      <td>4</td>\n",
       "      <td>-0.930721</td>\n",
       "      <td>1.0</td>\n",
       "      <td>NaN</td>\n",
       "      <td>NaN</td>\n",
       "    </tr>\n",
       "  </tbody>\n",
       "</table>\n",
       "<p>5 rows × 159 columns</p>\n",
       "</div>"
      ],
      "text/plain": [
       "   Unnamed: 0  HH1  HH2  LN  MWM1  MWM2  MWM4  MWM5  MWM6D  MWM6M    ...     \\\n",
       "0           1    1   17   1     1    17     1    14      7      4    ...      \n",
       "1           2    1   20   1     1    20     1    14      7      4    ...      \n",
       "2           3    2    1   1     2     1     1     9      8      4    ...      \n",
       "3           4    2    1   5     2     1     5     9     12      4    ...      \n",
       "4           5    2    1   8     2     1     8     9      8      4    ...      \n",
       "\n",
       "   MCSURV MCDEAD   mwelevel  mnweight    wscore  windex5   wscoreu  windex5u  \\\n",
       "0     0.0    0.0     Higher  0.403797  1.603670        5  1.272552       5.0   \n",
       "1     0.0    0.0     Higher  0.403797  1.543277        5  1.089026       5.0   \n",
       "2     3.0    0.0    Primary  1.031926  0.878635        4 -0.930721       1.0   \n",
       "3     NaN    NaN        NaN  0.000000  0.000000        0  0.000000       0.0   \n",
       "4     0.0    0.0  Secondary  1.031926  0.878635        4 -0.930721       1.0   \n",
       "\n",
       "   wscorer  windex5r  \n",
       "0      NaN       NaN  \n",
       "1      NaN       NaN  \n",
       "2      NaN       NaN  \n",
       "3      0.0       0.0  \n",
       "4      NaN       NaN  \n",
       "\n",
       "[5 rows x 159 columns]"
      ]
     },
     "execution_count": 99,
     "metadata": {},
     "output_type": "execute_result"
    }
   ],
   "source": [
    "df.head()"
   ]
  },
  {
   "cell_type": "markdown",
   "metadata": {},
   "source": [
    " ** 1.) ** Drop the unnamed column"
   ]
  },
  {
   "cell_type": "code",
   "execution_count": 100,
   "metadata": {},
   "outputs": [
    {
     "data": {
      "text/plain": [
       "['Unnamed: 0']"
      ]
     },
     "execution_count": 100,
     "metadata": {},
     "output_type": "execute_result"
    }
   ],
   "source": [
    "[col for col in df.columns if 'name' in col]"
   ]
  },
  {
   "cell_type": "code",
   "execution_count": 101,
   "metadata": {},
   "outputs": [],
   "source": [
    "del df[\"Unnamed: 0\"]"
   ]
  },
  {
   "cell_type": "markdown",
   "metadata": {},
   "source": [
    "** 2.) ** Use the data in `header_df` to replace the `Name` with it's `Label` in the original dataframe."
   ]
  },
  {
   "cell_type": "code",
   "execution_count": 102,
   "metadata": {},
   "outputs": [],
   "source": [
    "header_df = pd.read_csv(\"https://raw.githubusercontent.com/jackiekazil/data-wrangling/master/data/unicef/mn_headers.csv\")"
   ]
  },
  {
   "cell_type": "code",
   "execution_count": 103,
   "metadata": {
    "scrolled": true
   },
   "outputs": [
    {
     "data": {
      "text/html": [
       "<div>\n",
       "<table border=\"1\" class=\"dataframe\">\n",
       "  <thead>\n",
       "    <tr style=\"text-align: right;\">\n",
       "      <th></th>\n",
       "      <th>Name</th>\n",
       "      <th>Label</th>\n",
       "      <th>Question</th>\n",
       "    </tr>\n",
       "  </thead>\n",
       "  <tbody>\n",
       "    <tr>\n",
       "      <th>0</th>\n",
       "      <td>HH1</td>\n",
       "      <td>Cluster number</td>\n",
       "      <td>NaN</td>\n",
       "    </tr>\n",
       "    <tr>\n",
       "      <th>1</th>\n",
       "      <td>HH2</td>\n",
       "      <td>Household number</td>\n",
       "      <td>NaN</td>\n",
       "    </tr>\n",
       "    <tr>\n",
       "      <th>2</th>\n",
       "      <td>LN</td>\n",
       "      <td>Line number</td>\n",
       "      <td>NaN</td>\n",
       "    </tr>\n",
       "    <tr>\n",
       "      <th>3</th>\n",
       "      <td>MWM1</td>\n",
       "      <td>Cluster number</td>\n",
       "      <td>NaN</td>\n",
       "    </tr>\n",
       "    <tr>\n",
       "      <th>4</th>\n",
       "      <td>MWM2</td>\n",
       "      <td>Household number</td>\n",
       "      <td>NaN</td>\n",
       "    </tr>\n",
       "  </tbody>\n",
       "</table>\n",
       "</div>"
      ],
      "text/plain": [
       "   Name             Label Question\n",
       "0   HH1    Cluster number      NaN\n",
       "1   HH2  Household number      NaN\n",
       "2    LN       Line number      NaN\n",
       "3  MWM1    Cluster number      NaN\n",
       "4  MWM2  Household number      NaN"
      ]
     },
     "execution_count": 103,
     "metadata": {},
     "output_type": "execute_result"
    }
   ],
   "source": [
    "header_df.head()"
   ]
  },
  {
   "cell_type": "code",
   "execution_count": 104,
   "metadata": {},
   "outputs": [
    {
     "data": {
      "text/html": [
       "<div>\n",
       "<table border=\"1\" class=\"dataframe\">\n",
       "  <thead>\n",
       "    <tr style=\"text-align: right;\">\n",
       "      <th></th>\n",
       "      <th>HH1</th>\n",
       "      <th>HH2</th>\n",
       "      <th>LN</th>\n",
       "      <th>MWM1</th>\n",
       "      <th>MWM2</th>\n",
       "      <th>MWM4</th>\n",
       "      <th>MWM5</th>\n",
       "      <th>MWM6D</th>\n",
       "      <th>MWM6M</th>\n",
       "      <th>MWM6Y</th>\n",
       "      <th>...</th>\n",
       "      <th>MCSURV</th>\n",
       "      <th>MCDEAD</th>\n",
       "      <th>mwelevel</th>\n",
       "      <th>mnweight</th>\n",
       "      <th>wscore</th>\n",
       "      <th>windex5</th>\n",
       "      <th>wscoreu</th>\n",
       "      <th>windex5u</th>\n",
       "      <th>wscorer</th>\n",
       "      <th>windex5r</th>\n",
       "    </tr>\n",
       "  </thead>\n",
       "  <tbody>\n",
       "    <tr>\n",
       "      <th>0</th>\n",
       "      <td>1</td>\n",
       "      <td>17</td>\n",
       "      <td>1</td>\n",
       "      <td>1</td>\n",
       "      <td>17</td>\n",
       "      <td>1</td>\n",
       "      <td>14</td>\n",
       "      <td>7</td>\n",
       "      <td>4</td>\n",
       "      <td>2014</td>\n",
       "      <td>...</td>\n",
       "      <td>0.0</td>\n",
       "      <td>0.0</td>\n",
       "      <td>Higher</td>\n",
       "      <td>0.403797</td>\n",
       "      <td>1.603670</td>\n",
       "      <td>5</td>\n",
       "      <td>1.272552</td>\n",
       "      <td>5.0</td>\n",
       "      <td>NaN</td>\n",
       "      <td>NaN</td>\n",
       "    </tr>\n",
       "    <tr>\n",
       "      <th>1</th>\n",
       "      <td>1</td>\n",
       "      <td>20</td>\n",
       "      <td>1</td>\n",
       "      <td>1</td>\n",
       "      <td>20</td>\n",
       "      <td>1</td>\n",
       "      <td>14</td>\n",
       "      <td>7</td>\n",
       "      <td>4</td>\n",
       "      <td>2014</td>\n",
       "      <td>...</td>\n",
       "      <td>0.0</td>\n",
       "      <td>0.0</td>\n",
       "      <td>Higher</td>\n",
       "      <td>0.403797</td>\n",
       "      <td>1.543277</td>\n",
       "      <td>5</td>\n",
       "      <td>1.089026</td>\n",
       "      <td>5.0</td>\n",
       "      <td>NaN</td>\n",
       "      <td>NaN</td>\n",
       "    </tr>\n",
       "    <tr>\n",
       "      <th>2</th>\n",
       "      <td>2</td>\n",
       "      <td>1</td>\n",
       "      <td>1</td>\n",
       "      <td>2</td>\n",
       "      <td>1</td>\n",
       "      <td>1</td>\n",
       "      <td>9</td>\n",
       "      <td>8</td>\n",
       "      <td>4</td>\n",
       "      <td>2014</td>\n",
       "      <td>...</td>\n",
       "      <td>3.0</td>\n",
       "      <td>0.0</td>\n",
       "      <td>Primary</td>\n",
       "      <td>1.031926</td>\n",
       "      <td>0.878635</td>\n",
       "      <td>4</td>\n",
       "      <td>-0.930721</td>\n",
       "      <td>1.0</td>\n",
       "      <td>NaN</td>\n",
       "      <td>NaN</td>\n",
       "    </tr>\n",
       "  </tbody>\n",
       "</table>\n",
       "<p>3 rows × 158 columns</p>\n",
       "</div>"
      ],
      "text/plain": [
       "   HH1  HH2  LN  MWM1  MWM2  MWM4  MWM5  MWM6D  MWM6M  MWM6Y    ...    MCSURV  \\\n",
       "0    1   17   1     1    17     1    14      7      4   2014    ...       0.0   \n",
       "1    1   20   1     1    20     1    14      7      4   2014    ...       0.0   \n",
       "2    2    1   1     2     1     1     9      8      4   2014    ...       3.0   \n",
       "\n",
       "   MCDEAD  mwelevel  mnweight    wscore  windex5   wscoreu  windex5u  wscorer  \\\n",
       "0     0.0    Higher  0.403797  1.603670        5  1.272552       5.0      NaN   \n",
       "1     0.0    Higher  0.403797  1.543277        5  1.089026       5.0      NaN   \n",
       "2     0.0   Primary  1.031926  0.878635        4 -0.930721       1.0      NaN   \n",
       "\n",
       "   windex5r  \n",
       "0       NaN  \n",
       "1       NaN  \n",
       "2       NaN  \n",
       "\n",
       "[3 rows x 158 columns]"
      ]
     },
     "execution_count": 104,
     "metadata": {},
     "output_type": "execute_result"
    }
   ],
   "source": [
    "df.head(3)"
   ]
  },
  {
   "cell_type": "code",
   "execution_count": 214,
   "metadata": {},
   "outputs": [],
   "source": [
    "colint=[]\n",
    "colnam=[]\n",
    "for i in df.columns:\n",
    "    colint.append(i) \n",
    "    colnam.append(str(header_df.loc[header_df[\"Name\"]==i,\"Label\"].values).strip(r\"']\\[\\\" \"))"
   ]
  },
  {
   "cell_type": "code",
   "execution_count": 219,
   "metadata": {},
   "outputs": [
    {
     "data": {
      "text/html": [
       "<div>\n",
       "<table border=\"1\" class=\"dataframe\">\n",
       "  <thead>\n",
       "    <tr style=\"text-align: right;\">\n",
       "      <th></th>\n",
       "      <th>Cluster number</th>\n",
       "      <th>Household number</th>\n",
       "      <th>Line number</th>\n",
       "      <th>Cluster number</th>\n",
       "      <th>Household number</th>\n",
       "      <th>Man's line number</th>\n",
       "      <th>Interviewer number</th>\n",
       "      <th>Day of interview</th>\n",
       "      <th>Month of interview</th>\n",
       "      <th>Year of interview</th>\n",
       "      <th>...</th>\n",
       "      <th>Children surviving</th>\n",
       "      <th>Children dead</th>\n",
       "      <th></th>\n",
       "      <th></th>\n",
       "      <th>Wealth index score</th>\n",
       "      <th>Wealth index quintiles</th>\n",
       "      <th></th>\n",
       "      <th></th>\n",
       "      <th></th>\n",
       "      <th></th>\n",
       "    </tr>\n",
       "  </thead>\n",
       "  <tbody>\n",
       "    <tr>\n",
       "      <th>0</th>\n",
       "      <td>1</td>\n",
       "      <td>17</td>\n",
       "      <td>1</td>\n",
       "      <td>1</td>\n",
       "      <td>17</td>\n",
       "      <td>1</td>\n",
       "      <td>14</td>\n",
       "      <td>7</td>\n",
       "      <td>4</td>\n",
       "      <td>2014</td>\n",
       "      <td>...</td>\n",
       "      <td>0.0</td>\n",
       "      <td>0.0</td>\n",
       "      <td>Higher</td>\n",
       "      <td>0.403797</td>\n",
       "      <td>1.603670</td>\n",
       "      <td>5</td>\n",
       "      <td>1.272552</td>\n",
       "      <td>5.0</td>\n",
       "      <td>NaN</td>\n",
       "      <td>NaN</td>\n",
       "    </tr>\n",
       "    <tr>\n",
       "      <th>1</th>\n",
       "      <td>1</td>\n",
       "      <td>20</td>\n",
       "      <td>1</td>\n",
       "      <td>1</td>\n",
       "      <td>20</td>\n",
       "      <td>1</td>\n",
       "      <td>14</td>\n",
       "      <td>7</td>\n",
       "      <td>4</td>\n",
       "      <td>2014</td>\n",
       "      <td>...</td>\n",
       "      <td>0.0</td>\n",
       "      <td>0.0</td>\n",
       "      <td>Higher</td>\n",
       "      <td>0.403797</td>\n",
       "      <td>1.543277</td>\n",
       "      <td>5</td>\n",
       "      <td>1.089026</td>\n",
       "      <td>5.0</td>\n",
       "      <td>NaN</td>\n",
       "      <td>NaN</td>\n",
       "    </tr>\n",
       "    <tr>\n",
       "      <th>2</th>\n",
       "      <td>2</td>\n",
       "      <td>1</td>\n",
       "      <td>1</td>\n",
       "      <td>2</td>\n",
       "      <td>1</td>\n",
       "      <td>1</td>\n",
       "      <td>9</td>\n",
       "      <td>8</td>\n",
       "      <td>4</td>\n",
       "      <td>2014</td>\n",
       "      <td>...</td>\n",
       "      <td>3.0</td>\n",
       "      <td>0.0</td>\n",
       "      <td>Primary</td>\n",
       "      <td>1.031926</td>\n",
       "      <td>0.878635</td>\n",
       "      <td>4</td>\n",
       "      <td>-0.930721</td>\n",
       "      <td>1.0</td>\n",
       "      <td>NaN</td>\n",
       "      <td>NaN</td>\n",
       "    </tr>\n",
       "  </tbody>\n",
       "</table>\n",
       "<p>3 rows × 158 columns</p>\n",
       "</div>"
      ],
      "text/plain": [
       "   Cluster number  Household number  Line number  Cluster number  \\\n",
       "0               1                17            1               1   \n",
       "1               1                20            1               1   \n",
       "2               2                 1            1               2   \n",
       "\n",
       "   Household number  Man's line number  Interviewer number  Day of interview  \\\n",
       "0                17                  1                  14                 7   \n",
       "1                20                  1                  14                 7   \n",
       "2                 1                  1                   9                 8   \n",
       "\n",
       "   Month of interview  Year of interview ... Children surviving  \\\n",
       "0                   4               2014 ...                0.0   \n",
       "1                   4               2014 ...                0.0   \n",
       "2                   4               2014 ...                3.0   \n",
       "\n",
       "   Children dead                     Wealth index score  \\\n",
       "0            0.0   Higher  0.403797            1.603670   \n",
       "1            0.0   Higher  0.403797            1.543277   \n",
       "2            0.0  Primary  1.031926            0.878635   \n",
       "\n",
       "   Wealth index quintiles                         \n",
       "0                       5  1.272552  5.0 NaN NaN  \n",
       "1                       5  1.089026  5.0 NaN NaN  \n",
       "2                       4 -0.930721  1.0 NaN NaN  \n",
       "\n",
       "[3 rows x 158 columns]"
      ]
     },
     "execution_count": 219,
     "metadata": {},
     "output_type": "execute_result"
    }
   ],
   "source": [
    "df.columns=colnam\n",
    "df.head(3)"
   ]
  },
  {
   "cell_type": "markdown",
   "metadata": {},
   "source": [
    "# Ricacorp\n",
    "\n",
    "** 1.) ** Reading in the file. *Hint*  Which type of format it is? Also you'll need to change the encoding to 'utf-16'"
   ]
  },
  {
   "cell_type": "code",
   "execution_count": 247,
   "metadata": {},
   "outputs": [],
   "source": [
    "import codecs\n",
    "import io"
   ]
  },
  {
   "cell_type": "code",
   "execution_count": 286,
   "metadata": {},
   "outputs": [
    {
     "data": {
      "text/html": [
       "<div>\n",
       "<table border=\"1\" class=\"dataframe\">\n",
       "  <thead>\n",
       "    <tr style=\"text-align: right;\">\n",
       "      <th></th>\n",
       "      <th>Area</th>\n",
       "      <th>web-scraper-order</th>\n",
       "      <th>web-scraper-start-url</th>\n",
       "      <th>pagination</th>\n",
       "      <th>pagination-href</th>\n",
       "      <th>characteristic</th>\n",
       "      <th>floor type</th>\n",
       "      <th>hkd millions</th>\n",
       "      <th>rent hkd</th>\n",
       "      <th>area</th>\n",
       "      <th>address</th>\n",
       "      <th>last updated</th>\n",
       "      <th>pay per month</th>\n",
       "      <th>loan %</th>\n",
       "      <th>1st payment</th>\n",
       "    </tr>\n",
       "  </thead>\n",
       "  <tbody>\n",
       "    <tr>\n",
       "      <th>0</th>\n",
       "      <td>Kowloon</td>\n",
       "      <td>1521007907-3932</td>\n",
       "      <td>http://www.ricacorp.com/rcproperty/search/d~s~...</td>\n",
       "      <td>Next</td>\n",
       "      <td>http://www.ricacorp.com/rcproperty/search/d~s~...</td>\n",
       "      <td>Quiet &amp; Boutique Living, Unrivalled Luxury</td>\n",
       "      <td>High Floor Zone (Flat 3)</td>\n",
       "      <td>26.50</td>\n",
       "      <td>null</td>\n",
       "      <td>Area :\\n1,137Ft ($23.3k/Ft)</td>\n",
       "      <td>Kowloon Tong/Beacon Hill Flat 3 Block A Penins...</td>\n",
       "      <td>Last Updated : 21-02-2018</td>\n",
       "      <td>Pay/M︰$70.2k</td>\n",
       "      <td>Loan%︰50%</td>\n",
       "      <td>1st Pay︰$13.25M</td>\n",
       "    </tr>\n",
       "    <tr>\n",
       "      <th>1</th>\n",
       "      <td>Kowloon</td>\n",
       "      <td>1521007147-2665</td>\n",
       "      <td>http://www.ricacorp.com/rcproperty/search/d~s~...</td>\n",
       "      <td>Next</td>\n",
       "      <td>http://www.ricacorp.com/rcproperty/search/d~s~...</td>\n",
       "      <td>Invite Offers, For Sale &amp; For Lease</td>\n",
       "      <td>High Floor Zone (Flat -)                      ...</td>\n",
       "      <td>7.50</td>\n",
       "      <td>Rent $17k\\n                                   ...</td>\n",
       "      <td>Area :\\n485Ft ($15.4k/Ft)</td>\n",
       "      <td>Cheung Sha Wan West Flat - Tower 1 Phase 2 The...</td>\n",
       "      <td>Last Updated : 23-02-2018</td>\n",
       "      <td>Pay/M︰$23.8k</td>\n",
       "      <td>Loan%︰60%</td>\n",
       "      <td>1st Pay︰$3M</td>\n",
       "    </tr>\n",
       "    <tr>\n",
       "      <th>2</th>\n",
       "      <td>Kowloon</td>\n",
       "      <td>1521006995-2269</td>\n",
       "      <td>http://www.ricacorp.com/rcproperty/search/d~s~...</td>\n",
       "      <td>Next</td>\n",
       "      <td>http://www.ricacorp.com/rcproperty/search/d~s~...</td>\n",
       "      <td>Spacious Rooms, High Privacy</td>\n",
       "      <td>Low Floor Zone (Flat E)                       ...</td>\n",
       "      <td>18.00</td>\n",
       "      <td>Rent $40k\\n                                   ...</td>\n",
       "      <td>Area :\\n794Ft ($22.6k/Ft)</td>\n",
       "      <td>Kowloon Station Flat E Tower 2 Phase 1 The Wat...</td>\n",
       "      <td>Last Updated : 13-03-2018</td>\n",
       "      <td>Pay/M︰$47.6k</td>\n",
       "      <td>Loan%︰50%</td>\n",
       "      <td>1st Pay︰$9M</td>\n",
       "    </tr>\n",
       "    <tr>\n",
       "      <th>3</th>\n",
       "      <td>Kowloon</td>\n",
       "      <td>1521008121-4522</td>\n",
       "      <td>http://www.ricacorp.com/rcproperty/search/d~s~...</td>\n",
       "      <td>Next</td>\n",
       "      <td>http://www.ricacorp.com/rcproperty/search/d~s~...</td>\n",
       "      <td>Good Layout &amp; Efficient, Unrepeatable Opportunity</td>\n",
       "      <td>Low Floor Zone (Flat -)                       ...</td>\n",
       "      <td>13.98</td>\n",
       "      <td>null</td>\n",
       "      <td>Area :\\n971Ft ($14.3k/Ft)</td>\n",
       "      <td>Cheung Sha Wan West Flat - Tower 2 One West Ko...</td>\n",
       "      <td>Last Updated : 22-02-2018</td>\n",
       "      <td>Pay/M︰$37k</td>\n",
       "      <td>Loan%︰50%</td>\n",
       "      <td>1st Pay︰$6.99M</td>\n",
       "    </tr>\n",
       "    <tr>\n",
       "      <th>4</th>\n",
       "      <td>Kowloon</td>\n",
       "      <td>1521006897-2016</td>\n",
       "      <td>http://www.ricacorp.com/rcproperty/search/d~s~...</td>\n",
       "      <td>Next</td>\n",
       "      <td>http://www.ricacorp.com/rcproperty/search/d~s~...</td>\n",
       "      <td>Spacious Rooms, Tranquil Garden View</td>\n",
       "      <td>Low Floor Zone (Flat AB)                      ...</td>\n",
       "      <td>25.00</td>\n",
       "      <td>null</td>\n",
       "      <td>Area :\\n1,502Ft ($16.6k/Ft)</td>\n",
       "      <td>Whampoa/Laguna Verde Flat AB Tower 10 Phase 2 ...</td>\n",
       "      <td>Last Updated : 13-03-2018</td>\n",
       "      <td>Pay/M︰$66.2k</td>\n",
       "      <td>Loan%︰50%</td>\n",
       "      <td>1st Pay︰$12.5M</td>\n",
       "    </tr>\n",
       "  </tbody>\n",
       "</table>\n",
       "</div>"
      ],
      "text/plain": [
       "      Area web-scraper-order  \\\n",
       "0  Kowloon   1521007907-3932   \n",
       "1  Kowloon   1521007147-2665   \n",
       "2  Kowloon   1521006995-2269   \n",
       "3  Kowloon   1521008121-4522   \n",
       "4  Kowloon   1521006897-2016   \n",
       "\n",
       "                               web-scraper-start-url pagination  \\\n",
       "0  http://www.ricacorp.com/rcproperty/search/d~s~...       Next   \n",
       "1  http://www.ricacorp.com/rcproperty/search/d~s~...       Next   \n",
       "2  http://www.ricacorp.com/rcproperty/search/d~s~...       Next   \n",
       "3  http://www.ricacorp.com/rcproperty/search/d~s~...       Next   \n",
       "4  http://www.ricacorp.com/rcproperty/search/d~s~...       Next   \n",
       "\n",
       "                                     pagination-href  \\\n",
       "0  http://www.ricacorp.com/rcproperty/search/d~s~...   \n",
       "1  http://www.ricacorp.com/rcproperty/search/d~s~...   \n",
       "2  http://www.ricacorp.com/rcproperty/search/d~s~...   \n",
       "3  http://www.ricacorp.com/rcproperty/search/d~s~...   \n",
       "4  http://www.ricacorp.com/rcproperty/search/d~s~...   \n",
       "\n",
       "                                      characteristic  \\\n",
       "0         Quiet & Boutique Living, Unrivalled Luxury   \n",
       "1                Invite Offers, For Sale & For Lease   \n",
       "2                       Spacious Rooms, High Privacy   \n",
       "3  Good Layout & Efficient, Unrepeatable Opportunity   \n",
       "4               Spacious Rooms, Tranquil Garden View   \n",
       "\n",
       "                                          floor type  hkd millions  \\\n",
       "0                           High Floor Zone (Flat 3)         26.50   \n",
       "1  High Floor Zone (Flat -)                      ...          7.50   \n",
       "2  Low Floor Zone (Flat E)                       ...         18.00   \n",
       "3  Low Floor Zone (Flat -)                       ...         13.98   \n",
       "4  Low Floor Zone (Flat AB)                      ...         25.00   \n",
       "\n",
       "                                            rent hkd  \\\n",
       "0                                               null   \n",
       "1  Rent $17k\\n                                   ...   \n",
       "2  Rent $40k\\n                                   ...   \n",
       "3                                               null   \n",
       "4                                               null   \n",
       "\n",
       "                          area  \\\n",
       "0  Area :\\n1,137Ft ($23.3k/Ft)   \n",
       "1    Area :\\n485Ft ($15.4k/Ft)   \n",
       "2    Area :\\n794Ft ($22.6k/Ft)   \n",
       "3    Area :\\n971Ft ($14.3k/Ft)   \n",
       "4  Area :\\n1,502Ft ($16.6k/Ft)   \n",
       "\n",
       "                                             address  \\\n",
       "0  Kowloon Tong/Beacon Hill Flat 3 Block A Penins...   \n",
       "1  Cheung Sha Wan West Flat - Tower 1 Phase 2 The...   \n",
       "2  Kowloon Station Flat E Tower 2 Phase 1 The Wat...   \n",
       "3  Cheung Sha Wan West Flat - Tower 2 One West Ko...   \n",
       "4  Whampoa/Laguna Verde Flat AB Tower 10 Phase 2 ...   \n",
       "\n",
       "                last updated pay per month     loan %      1st payment  \n",
       "0  Last Updated : 21-02-2018  Pay/M︰$70.2k  Loan%︰50%  1st Pay︰$13.25M  \n",
       "1  Last Updated : 23-02-2018  Pay/M︰$23.8k  Loan%︰60%      1st Pay︰$3M  \n",
       "2  Last Updated : 13-03-2018  Pay/M︰$47.6k  Loan%︰50%      1st Pay︰$9M  \n",
       "3  Last Updated : 22-02-2018    Pay/M︰$37k  Loan%︰50%   1st Pay︰$6.99M  \n",
       "4  Last Updated : 13-03-2018  Pay/M︰$66.2k  Loan%︰50%   1st Pay︰$12.5M  "
      ]
     },
     "execution_count": 286,
     "metadata": {},
     "output_type": "execute_result"
    }
   ],
   "source": [
    "rica=pd.read_table(\"data/ricacorp-real-estate-sales.tsv\",encoding=\"utf-16\")\n",
    "rica.head()"
   ]
  },
  {
   "cell_type": "code",
   "execution_count": 287,
   "metadata": {},
   "outputs": [
    {
     "data": {
      "text/plain": [
       "(10009, 15)"
      ]
     },
     "execution_count": 287,
     "metadata": {},
     "output_type": "execute_result"
    }
   ],
   "source": [
    "rica.shape"
   ]
  },
  {
   "cell_type": "markdown",
   "metadata": {},
   "source": [
    "** 2.) ** Remove the useless columns like web-scraper-order, pagination etc."
   ]
  },
  {
   "cell_type": "code",
   "execution_count": 288,
   "metadata": {},
   "outputs": [
    {
     "data": {
      "text/html": [
       "<div>\n",
       "<table border=\"1\" class=\"dataframe\">\n",
       "  <thead>\n",
       "    <tr style=\"text-align: right;\">\n",
       "      <th></th>\n",
       "      <th>Area</th>\n",
       "      <th>web-scraper-order</th>\n",
       "      <th>characteristic</th>\n",
       "      <th>floor type</th>\n",
       "      <th>hkd millions</th>\n",
       "      <th>rent hkd</th>\n",
       "      <th>area</th>\n",
       "      <th>address</th>\n",
       "      <th>last updated</th>\n",
       "      <th>pay per month</th>\n",
       "      <th>loan %</th>\n",
       "      <th>1st payment</th>\n",
       "    </tr>\n",
       "  </thead>\n",
       "  <tbody>\n",
       "    <tr>\n",
       "      <th>0</th>\n",
       "      <td>Kowloon</td>\n",
       "      <td>1521007907-3932</td>\n",
       "      <td>Quiet &amp; Boutique Living, Unrivalled Luxury</td>\n",
       "      <td>High Floor Zone (Flat 3)</td>\n",
       "      <td>26.50</td>\n",
       "      <td>null</td>\n",
       "      <td>Area :\\n1,137Ft ($23.3k/Ft)</td>\n",
       "      <td>Kowloon Tong/Beacon Hill Flat 3 Block A Penins...</td>\n",
       "      <td>Last Updated : 21-02-2018</td>\n",
       "      <td>Pay/M︰$70.2k</td>\n",
       "      <td>Loan%︰50%</td>\n",
       "      <td>1st Pay︰$13.25M</td>\n",
       "    </tr>\n",
       "    <tr>\n",
       "      <th>1</th>\n",
       "      <td>Kowloon</td>\n",
       "      <td>1521007147-2665</td>\n",
       "      <td>Invite Offers, For Sale &amp; For Lease</td>\n",
       "      <td>High Floor Zone (Flat -)                      ...</td>\n",
       "      <td>7.50</td>\n",
       "      <td>Rent $17k\\n                                   ...</td>\n",
       "      <td>Area :\\n485Ft ($15.4k/Ft)</td>\n",
       "      <td>Cheung Sha Wan West Flat - Tower 1 Phase 2 The...</td>\n",
       "      <td>Last Updated : 23-02-2018</td>\n",
       "      <td>Pay/M︰$23.8k</td>\n",
       "      <td>Loan%︰60%</td>\n",
       "      <td>1st Pay︰$3M</td>\n",
       "    </tr>\n",
       "    <tr>\n",
       "      <th>2</th>\n",
       "      <td>Kowloon</td>\n",
       "      <td>1521006995-2269</td>\n",
       "      <td>Spacious Rooms, High Privacy</td>\n",
       "      <td>Low Floor Zone (Flat E)                       ...</td>\n",
       "      <td>18.00</td>\n",
       "      <td>Rent $40k\\n                                   ...</td>\n",
       "      <td>Area :\\n794Ft ($22.6k/Ft)</td>\n",
       "      <td>Kowloon Station Flat E Tower 2 Phase 1 The Wat...</td>\n",
       "      <td>Last Updated : 13-03-2018</td>\n",
       "      <td>Pay/M︰$47.6k</td>\n",
       "      <td>Loan%︰50%</td>\n",
       "      <td>1st Pay︰$9M</td>\n",
       "    </tr>\n",
       "    <tr>\n",
       "      <th>3</th>\n",
       "      <td>Kowloon</td>\n",
       "      <td>1521008121-4522</td>\n",
       "      <td>Good Layout &amp; Efficient, Unrepeatable Opportunity</td>\n",
       "      <td>Low Floor Zone (Flat -)                       ...</td>\n",
       "      <td>13.98</td>\n",
       "      <td>null</td>\n",
       "      <td>Area :\\n971Ft ($14.3k/Ft)</td>\n",
       "      <td>Cheung Sha Wan West Flat - Tower 2 One West Ko...</td>\n",
       "      <td>Last Updated : 22-02-2018</td>\n",
       "      <td>Pay/M︰$37k</td>\n",
       "      <td>Loan%︰50%</td>\n",
       "      <td>1st Pay︰$6.99M</td>\n",
       "    </tr>\n",
       "    <tr>\n",
       "      <th>4</th>\n",
       "      <td>Kowloon</td>\n",
       "      <td>1521006897-2016</td>\n",
       "      <td>Spacious Rooms, Tranquil Garden View</td>\n",
       "      <td>Low Floor Zone (Flat AB)                      ...</td>\n",
       "      <td>25.00</td>\n",
       "      <td>null</td>\n",
       "      <td>Area :\\n1,502Ft ($16.6k/Ft)</td>\n",
       "      <td>Whampoa/Laguna Verde Flat AB Tower 10 Phase 2 ...</td>\n",
       "      <td>Last Updated : 13-03-2018</td>\n",
       "      <td>Pay/M︰$66.2k</td>\n",
       "      <td>Loan%︰50%</td>\n",
       "      <td>1st Pay︰$12.5M</td>\n",
       "    </tr>\n",
       "  </tbody>\n",
       "</table>\n",
       "</div>"
      ],
      "text/plain": [
       "      Area web-scraper-order  \\\n",
       "0  Kowloon   1521007907-3932   \n",
       "1  Kowloon   1521007147-2665   \n",
       "2  Kowloon   1521006995-2269   \n",
       "3  Kowloon   1521008121-4522   \n",
       "4  Kowloon   1521006897-2016   \n",
       "\n",
       "                                      characteristic  \\\n",
       "0         Quiet & Boutique Living, Unrivalled Luxury   \n",
       "1                Invite Offers, For Sale & For Lease   \n",
       "2                       Spacious Rooms, High Privacy   \n",
       "3  Good Layout & Efficient, Unrepeatable Opportunity   \n",
       "4               Spacious Rooms, Tranquil Garden View   \n",
       "\n",
       "                                          floor type  hkd millions  \\\n",
       "0                           High Floor Zone (Flat 3)         26.50   \n",
       "1  High Floor Zone (Flat -)                      ...          7.50   \n",
       "2  Low Floor Zone (Flat E)                       ...         18.00   \n",
       "3  Low Floor Zone (Flat -)                       ...         13.98   \n",
       "4  Low Floor Zone (Flat AB)                      ...         25.00   \n",
       "\n",
       "                                            rent hkd  \\\n",
       "0                                               null   \n",
       "1  Rent $17k\\n                                   ...   \n",
       "2  Rent $40k\\n                                   ...   \n",
       "3                                               null   \n",
       "4                                               null   \n",
       "\n",
       "                          area  \\\n",
       "0  Area :\\n1,137Ft ($23.3k/Ft)   \n",
       "1    Area :\\n485Ft ($15.4k/Ft)   \n",
       "2    Area :\\n794Ft ($22.6k/Ft)   \n",
       "3    Area :\\n971Ft ($14.3k/Ft)   \n",
       "4  Area :\\n1,502Ft ($16.6k/Ft)   \n",
       "\n",
       "                                             address  \\\n",
       "0  Kowloon Tong/Beacon Hill Flat 3 Block A Penins...   \n",
       "1  Cheung Sha Wan West Flat - Tower 1 Phase 2 The...   \n",
       "2  Kowloon Station Flat E Tower 2 Phase 1 The Wat...   \n",
       "3  Cheung Sha Wan West Flat - Tower 2 One West Ko...   \n",
       "4  Whampoa/Laguna Verde Flat AB Tower 10 Phase 2 ...   \n",
       "\n",
       "                last updated pay per month     loan %      1st payment  \n",
       "0  Last Updated : 21-02-2018  Pay/M︰$70.2k  Loan%︰50%  1st Pay︰$13.25M  \n",
       "1  Last Updated : 23-02-2018  Pay/M︰$23.8k  Loan%︰60%      1st Pay︰$3M  \n",
       "2  Last Updated : 13-03-2018  Pay/M︰$47.6k  Loan%︰50%      1st Pay︰$9M  \n",
       "3  Last Updated : 22-02-2018    Pay/M︰$37k  Loan%︰50%   1st Pay︰$6.99M  \n",
       "4  Last Updated : 13-03-2018  Pay/M︰$66.2k  Loan%︰50%   1st Pay︰$12.5M  "
      ]
     },
     "execution_count": 288,
     "metadata": {},
     "output_type": "execute_result"
    }
   ],
   "source": [
    "rica=rica.drop([\"web-scraper-start-url\",\"pagination\",\"pagination-href\"],axis=1)\n",
    "rica.head()"
   ]
  }
 ],
 "metadata": {
  "kernelspec": {
   "display_name": "Python 3",
   "language": "python",
   "name": "python3"
  },
  "language_info": {
   "codemirror_mode": {
    "name": "ipython",
    "version": 3
   },
   "file_extension": ".py",
   "mimetype": "text/x-python",
   "name": "python",
   "nbconvert_exporter": "python",
   "pygments_lexer": "ipython3",
   "version": "3.5.4"
  }
 },
 "nbformat": 4,
 "nbformat_minor": 2
}
