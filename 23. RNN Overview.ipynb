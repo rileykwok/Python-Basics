{
 "cells": [
  {
   "cell_type": "markdown",
   "metadata": {},
   "source": [
    "# RNN\n",
    "The networks we've seen so far would struggle to processing data of a sequential nature. They don't have any form of memory, each input shown to them is processed in one go to produce an output, no memory of the previous input it kept. However, when reading a sentence you read each word at a time but your memory of the previous words helps you make sense of the current word by allowing you to put it in context.\n",
    "The sentence  can't be made sense of by looking at one word at a time, without the memory of the previous words. \n",
    "\n",
    "Reccurent neural networks try to solve the probelm of working with sequences by retaining some form of state (or memory), this helps them put into context the current part of the sequence they are on. The state  retains relevant information from what they have seen so far, so in the example of a sentence, the state may contain information about the previous words the network has seen. They achieve this persitance of state (or memory) by having loops in them. The output from $ t_1 $ gets fed back into the network at the next timestep $ t_2 $."
   ]
  },
  {
   "cell_type": "markdown",
   "metadata": {},
   "source": [
    "![RNN](http://colah.github.io/posts/2015-08-Understanding-LSTMs/img/RNN-rolled.png)"
   ]
  },
  {
   "cell_type": "markdown",
   "metadata": {},
   "source": [
    "At first the loop seems strange, but when we look at it from a different perpective, they aren't that different from normal networks afterall. We can think of them as multiple copies of the same network, passing a message to it succesor."
   ]
  },
  {
   "cell_type": "markdown",
   "metadata": {},
   "source": [
    "![Underolled RNN](http://colah.github.io/posts/2015-08-Understanding-LSTMs/img/RNN-unrolled.png)"
   ]
  },
  {
   "cell_type": "markdown",
   "metadata": {},
   "source": [
    "To make this clear bellow is the foward pass for a RNN in numpy"
   ]
  },
  {
   "cell_type": "code",
   "execution_count": 1,
   "metadata": {},
   "outputs": [],
   "source": [
    "import numpy as np"
   ]
  },
  {
   "cell_type": "code",
   "execution_count": 8,
   "metadata": {},
   "outputs": [],
   "source": [
    "timesteps = 100\n",
    "input_features = 32\n",
    "output_features = 64\n",
    "\n",
    "inputs = np.random.random((timesteps,input_features))\n",
    "\n",
    "\n",
    "state_t  = np.zeros(output_features,)\n",
    "\n",
    "W = np.random.random((output_features,input_features))\n",
    "U = np.random.random((output_features,output_features))\n",
    "b = np.random.random(output_features)\n",
    "\n",
    "successive_outputs = []\n",
    "\n",
    "for input_t in inputs:\n",
    "    output_t = np.tanh(W @ input_t + U @ state_t + b)\n",
    "    successive_outputs.append(output_t)\n",
    "    state_t = output_t"
   ]
  },
  {
   "cell_type": "markdown",
   "metadata": {},
   "source": [
    "So a RNN is a for loop the that reuses the variable computed in the previous time step in the next timestep."
   ]
  },
  {
   "cell_type": "markdown",
   "metadata": {},
   "source": [
    "## LSTM and GRU's\n",
    "\n",
    "In practice you'll never really use a simple RNN this is because although in theory they should be able to learn long term realsioships in practice they can't. This is due to the vanishing gradient probelms, which also occurs in very deep neural networks. In the context of a text, if we used a simple RNN it would for get the forget the words it saw a few sentences back when tyring to process a paragraph. LSTMs and GRU are RNN variations designed to avoid this problem, they are able to retain information over longer periods of time. How they work is out of the scope of this notebook, but a good blog post on LSTM can be found [here](http://colah.github.io/posts/2015-08-Understanding-LSTMs/).\n"
   ]
  },
  {
   "cell_type": "markdown",
   "metadata": {},
   "source": [
    "## IMDB\n",
    "\n",
    "In this example we'll use a RNN layer to help do text classification on the imdb dataset. We'll predict wether a review is positive or negative.\n",
    "\n"
   ]
  },
  {
   "cell_type": "code",
   "execution_count": 9,
   "metadata": {},
   "outputs": [
    {
     "name": "stderr",
     "output_type": "stream",
     "text": [
      "/home/dom/anaconda3/lib/python3.6/site-packages/h5py/__init__.py:36: FutureWarning: Conversion of the second argument of issubdtype from `float` to `np.floating` is deprecated. In future, it will be treated as `np.float64 == np.dtype(float).type`.\n",
      "  from ._conv import register_converters as _register_converters\n",
      "Using TensorFlow backend.\n"
     ]
    }
   ],
   "source": [
    "from keras.preprocessing import sequence\n",
    "from keras.models import Sequential\n",
    "from keras.layers import Dense, Dropout, Activation\n",
    "from keras.layers import Embedding\n",
    "from keras.layers import LSTM\n",
    "from keras.layers import Conv1D, MaxPooling1D\n",
    "from keras.datasets import imdb"
   ]
  },
  {
   "cell_type": "markdown",
   "metadata": {},
   "source": [
    "## Hyper Parameters\n",
    "\n",
    "Hyper parameters are aspects of the model that we can change, but can't be learned from the data eg kernel size. This is in contrast to parameters that can be learned from the data such as the models weights, see [here](https://machinelearningmastery.com/difference-between-a-parameter-and-a-hyperparameter/) for more details.\n"
   ]
  },
  {
   "cell_type": "code",
   "execution_count": 65,
   "metadata": {},
   "outputs": [],
   "source": [
    "# Embedding\n",
    "max_features = 20000\n",
    "maxlen = 200\n",
    "embedding_size = 128\n",
    "\n",
    "# Convolution\n",
    "kernel_size = 5\n",
    "filters = 64\n",
    "pool_size = 4\n",
    "\n",
    "# LSTM\n",
    "lstm_output_size = 70\n",
    "\n",
    "# Training\n",
    "batch_size = 128\n",
    "epochs = 10"
   ]
  },
  {
   "cell_type": "code",
   "execution_count": 66,
   "metadata": {},
   "outputs": [],
   "source": [
    "(x_train, y_train), (x_test, y_test) = imdb.load_data(num_words=max_features)"
   ]
  },
  {
   "cell_type": "code",
   "execution_count": 67,
   "metadata": {},
   "outputs": [
    {
     "name": "stdout",
     "output_type": "stream",
     "text": [
      "x_train shape: (25000, 200)\n",
      "x_test shape: (25000, 200)\n"
     ]
    }
   ],
   "source": [
    "#We need to pad the input sequences so they're all the same length\n",
    "x_train = sequence.pad_sequences(x_train, maxlen=maxlen)\n",
    "x_test = sequence.pad_sequences(x_test, maxlen=maxlen)\n",
    "print('x_train shape:', x_train.shape)\n",
    "print('x_test shape:', x_test.shape)"
   ]
  },
  {
   "cell_type": "markdown",
   "metadata": {},
   "source": [
    "Well start with an embedding layer to transform our words into vectors.\n",
    "After a Conv1D, Pooling, LSTM and finally a Dense layer for the classifcation. The use of RNN layers are expensive for processing long sequences, whereas Conv layers are much cheaper.  Therefore we can use a cheap Conv1D layer to help with feature extraction, and to also shorten the sequence."
   ]
  },
  {
   "cell_type": "code",
   "execution_count": 68,
   "metadata": {},
   "outputs": [],
   "source": [
    "model = Sequential()\n",
    "#word embedding layer\n",
    "model.add(Embedding(max_features, embedding_size, input_length=maxlen))\n",
    "model.add(Dropout(0.25))\n",
    "#Convlutional layer to extract higher level features from sequence\n",
    "model.add(Conv1D(filters,\n",
    "                 kernel_size,\n",
    "                 padding='valid',\n",
    "                 activation='relu',\n",
    "                 strides=1))\n",
    "model.add(MaxPooling1D(pool_size=pool_size))\n",
    "model.add(LSTM(lstm_output_size))\n",
    "model.add(Dense(1,activation='sigmoid'))"
   ]
  },
  {
   "cell_type": "code",
   "execution_count": 69,
   "metadata": {},
   "outputs": [],
   "source": [
    "model.compile(loss='binary_crossentropy',\n",
    "              optimizer='adam',\n",
    "              metrics=['accuracy'])"
   ]
  },
  {
   "cell_type": "code",
   "execution_count": 70,
   "metadata": {},
   "outputs": [
    {
     "name": "stdout",
     "output_type": "stream",
     "text": [
      "Train on 25000 samples, validate on 25000 samples\n",
      "Epoch 1/10\n",
      "25000/25000 [==============================] - 13s 526us/step - loss: 0.4034 - acc: 0.8076 - val_loss: 0.3082 - val_acc: 0.8701\n",
      "Epoch 2/10\n",
      "25000/25000 [==============================] - 13s 505us/step - loss: 0.1770 - acc: 0.9350 - val_loss: 0.2992 - val_acc: 0.8753\n",
      "Epoch 3/10\n",
      "25000/25000 [==============================] - 12s 495us/step - loss: 0.0952 - acc: 0.9682 - val_loss: 0.3869 - val_acc: 0.8566\n",
      "Epoch 4/10\n",
      "25000/25000 [==============================] - 12s 500us/step - loss: 0.0513 - acc: 0.9848 - val_loss: 0.4430 - val_acc: 0.8618\n",
      "Epoch 5/10\n",
      "25000/25000 [==============================] - 13s 503us/step - loss: 0.0366 - acc: 0.9887 - val_loss: 0.5078 - val_acc: 0.8616\n",
      "Epoch 6/10\n",
      "25000/25000 [==============================] - 13s 502us/step - loss: 0.0226 - acc: 0.9930 - val_loss: 0.6389 - val_acc: 0.8505\n",
      "Epoch 7/10\n",
      "25000/25000 [==============================] - 13s 501us/step - loss: 0.0157 - acc: 0.9958 - val_loss: 0.5872 - val_acc: 0.8478\n",
      "Epoch 8/10\n",
      "25000/25000 [==============================] - 12s 497us/step - loss: 0.0174 - acc: 0.9942 - val_loss: 0.7363 - val_acc: 0.8462\n",
      "Epoch 9/10\n",
      "25000/25000 [==============================] - 13s 503us/step - loss: 0.0112 - acc: 0.9967 - val_loss: 0.6977 - val_acc: 0.8528\n",
      "Epoch 10/10\n",
      "25000/25000 [==============================] - 13s 505us/step - loss: 0.0098 - acc: 0.9970 - val_loss: 0.7532 - val_acc: 0.8511\n"
     ]
    }
   ],
   "source": [
    "history  = model.fit(x_train, y_train,\n",
    "          batch_size=batch_size,\n",
    "          epochs=epochs,\n",
    "          validation_data=(x_test, y_test))"
   ]
  },
  {
   "cell_type": "markdown",
   "metadata": {},
   "source": [
    "## Plotting\n",
    "\n",
    "We can use plotting to check for overfitting, if training accuracy is going up but validation accuracy going down, that a good sign of overfitting."
   ]
  },
  {
   "cell_type": "code",
   "execution_count": 71,
   "metadata": {},
   "outputs": [],
   "source": [
    "import matplotlib.pyplot as plt\n",
    "%matplotlib inline\n",
    "plt.style.use('ggplot')"
   ]
  },
  {
   "cell_type": "code",
   "execution_count": 72,
   "metadata": {},
   "outputs": [
    {
     "data": {
      "text/plain": [
       "<matplotlib.legend.Legend at 0x7f77adf27470>"
      ]
     },
     "execution_count": 72,
     "metadata": {},
     "output_type": "execute_result"
    },
    {
     "data": {
      "image/png": "[encoded data removed]",
      "text/plain": [
       "<Figure size 1152x576 with 2 Axes>"
      ]
     },
     "metadata": {},
     "output_type": "display_data"
    }
   ],
   "source": [
    "\n",
    "acc = history.history['acc']\n",
    "val_acc = history.history['val_acc']\n",
    "loss = history.history['loss']\n",
    "val_loss = history.history['val_loss']\n",
    "\n",
    "\n",
    "epochs = list(range(len(acc)))\n",
    "\n",
    "fig, axes = plt.subplots(1,2,figsize=(16,8))\n",
    "axes[0].plot(acc, 'bo', label='Training acc')\n",
    "axes[0].plot(epochs, val_acc, 'b', label='Validation acc')\n",
    "axes[0].set_title('Training and validation accuracy')\n",
    "axes[0].legend()\n",
    "\n",
    "axes[1].plot(epochs, loss, 'bo', label='Training loss')\n",
    "axes[1].plot(epochs, val_loss, 'b', label='Validation loss')\n",
    "axes[1].set_title('Training and validation loss')\n",
    "axes[1].legend()"
   ]
  },
  {
   "cell_type": "markdown",
   "metadata": {},
   "source": [
    "## Evaluate\n",
    "\n",
    "Finally lets evaluate the model on some previously unseen data."
   ]
  },
  {
   "cell_type": "code",
   "execution_count": 75,
   "metadata": {},
   "outputs": [
    {
     "name": "stdout",
     "output_type": "stream",
     "text": [
      "25000/25000 [==============================] - 2s 82us/step\n"
     ]
    }
   ],
   "source": [
    "score, acc = model.evaluate(x_test, y_test, batch_size=batch_size)"
   ]
  },
  {
   "cell_type": "code",
   "execution_count": 76,
   "metadata": {},
   "outputs": [
    {
     "data": {
      "text/plain": [
       "0.7531567233657837"
      ]
     },
     "execution_count": 76,
     "metadata": {},
     "output_type": "execute_result"
    }
   ],
   "source": [
    "score"
   ]
  },
  {
   "cell_type": "code",
   "execution_count": 77,
   "metadata": {},
   "outputs": [
    {
     "data": {
      "text/plain": [
       "0.8511200000190735"
      ]
     },
     "execution_count": 77,
     "metadata": {},
     "output_type": "execute_result"
    }
   ],
   "source": [
    "acc"
   ]
  },
  {
   "cell_type": "markdown",
   "metadata": {},
   "source": [
    "# References\n",
    "\n",
    "[Understanding LSTMs](http://colah.github.io/posts/2015-08-Understanding-LSTMs/)"
   ]
  }
 ],
 "metadata": {
  "kernelspec": {
   "display_name": "Python 3",
   "language": "python",
   "name": "python3"
  },
  "language_info": {
   "codemirror_mode": {
    "name": "ipython",
    "version": 3
   },
   "file_extension": ".py",
   "mimetype": "text/x-python",
   "name": "python",
   "nbconvert_exporter": "python",
   "pygments_lexer": "ipython3",
   "version": "3.5.4"
  }
 },
 "nbformat": 4,
 "nbformat_minor": 2
}
