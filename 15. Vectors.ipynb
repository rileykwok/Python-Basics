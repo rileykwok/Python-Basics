{
 "cells": [
  {
   "cell_type": "markdown",
   "metadata": {},
   "source": [
    "\n",
    "# Linear algerbra\n",
    "\n",
    "Along with probability and statistics, multivariable calculus, linear algebra is one of the key area of maths involved in deep learning. We represent neural networks using matrices, and linear algebra is key for understanding how to work with these matrices.  In order to drill deeper into many machine learning algorithms a good foundation linear algebra will go a long way. \n",
    "Linear algebra is also very important in computer graphics (since it allows us to effectively describe space), and hence GPU (graphics processing units) where originally designed to do linear algebra very fast. In more recent years there ability to preform matrix maths efficently has been repurposed for deep learning. For further understanding on GPU’s, their relevance to Deep Learning see [here](https://www.analyticsvidhya.com/blog/2017/05/gpus-necessary-for-deep-learning/)"
   ]
  },
  {
   "cell_type": "code",
   "execution_count": 1,
   "metadata": {},
   "outputs": [
    {
     "name": "stderr",
     "output_type": "stream",
     "text": [
      "/home/nbuser/anaconda3_420/lib/python3.5/site-packages/matplotlib/font_manager.py:281: UserWarning: Matplotlib is building the font cache using fc-list. This may take a moment.\n",
      "  'Matplotlib is building the font cache using fc-list. '\n"
     ]
    }
   ],
   "source": [
    "from ipywidgets import interactive\n",
    "import numpy as np\n",
    "import matplotlib.pyplot as plt\n",
    "import seaborn as sns\n",
    "%matplotlib inline\n"
   ]
  },
  {
   "cell_type": "markdown",
   "metadata": {},
   "source": [
    "# Vectors \n",
    "\n",
    "Vectors are basically a list of numbers.\n",
    "\n",
    "$$ v = \\begin{bmatrix}\n",
    "v_1\\\\ \n",
    "v_2\\\\ \n",
    "\\end{bmatrix} $$\n",
    "\n",
    "In the vector $ v $ is a column vector and we'd say $ v_1 $ is the first component, $ v_2 $ is the second component. When we add vectors we add each individual component."
   ]
  },
  {
   "cell_type": "markdown",
   "metadata": {},
   "source": [
    "$$ v = \\begin{bmatrix}\n",
    "v_1\\\\ \n",
    "v_2\\\\ \n",
    "\\end{bmatrix} \\qquad\n",
    "w = \\begin{bmatrix}\n",
    "w_1\\\\ \n",
    "w_2\\\\ \n",
    "\\end{bmatrix}  \\qquad\n",
    "v + w = \\begin{bmatrix}\n",
    "v_1 + w_1\\\\ \n",
    "v_2 + w_2\\\\ \n",
    "\\end{bmatrix} $$\n",
    "\n"
   ]
  },
  {
   "cell_type": "markdown",
   "metadata": {},
   "source": [
    "We could do this with python like."
   ]
  },
  {
   "cell_type": "code",
   "execution_count": 2,
   "metadata": {},
   "outputs": [
    {
     "data": {
      "text/plain": [
       "[6, 8, 10, 12]"
      ]
     },
     "execution_count": 2,
     "metadata": {},
     "output_type": "execute_result"
    }
   ],
   "source": [
    "v = [1,2,3,4] \n",
    "w = [5,6,7,8]\n",
    "x = []\n",
    "\n",
    "for a,b in zip(v,w):\n",
    "    x.append(a+b)\n",
    "    \n",
    "# x =  [a + b for a,b in zip(v,w)]\n",
    "x"
   ]
  },
  {
   "cell_type": "markdown",
   "metadata": {},
   "source": [
    "Notice we have to use a for loop to add each element. This can get tiresome, thankfully numpy helps us out here, as it automatically does the component-wise addition for us."
   ]
  },
  {
   "cell_type": "code",
   "execution_count": 3,
   "metadata": {},
   "outputs": [
    {
     "data": {
      "text/plain": [
       "array([ 6,  8, 10, 12])"
      ]
     },
     "execution_count": 3,
     "metadata": {},
     "output_type": "execute_result"
    }
   ],
   "source": [
    "v = np.array([1,2,3,4])\n",
    "w = np.array([5,6,7,8])\n",
    "v + w"
   ]
  },
  {
   "cell_type": "markdown",
   "metadata": {},
   "source": [
    "Another common operation is scalar multiplication in which we multiple each element in a vector by a scalar (number)"
   ]
  },
  {
   "cell_type": "markdown",
   "metadata": {},
   "source": [
    "$$ 2v = \\begin{bmatrix}\n",
    "2v_1\\\\ \n",
    "2v_2\\\\ \n",
    "\\end{bmatrix} $$"
   ]
  },
  {
   "cell_type": "markdown",
   "metadata": {},
   "source": [
    "Often instead of thinking of vectors a list of numbers we like to think of them as points in space. For example a vector with two components can be though of as a point in the xy plane.\n",
    "\n",
    "## Interpretation\n",
    "\n",
    "The vector  $ \\begin{bmatrix} 3\\\\ -2 \\\\ \\end{bmatrix} $, means go right 3 steps and down -2 steps. Vectors can be intereted either as points space or and arror pointing from the origin to a point.  We can show this in code by plotting it. \n",
    "\n",
    "\n"
   ]
  },
  {
   "cell_type": "code",
   "execution_count": 4,
   "metadata": {},
   "outputs": [
    {
     "data": {
      "text/plain": [
       "(-10, 10)"
      ]
     },
     "execution_count": 4,
     "metadata": {},
     "output_type": "execute_result"
    },
    {
     "data": {
      "image/png": "[encoded data removed]",
      "text/plain": [
       "<matplotlib.figure.Figure at 0x7feee237d390>"
      ]
     },
     "metadata": {},
     "output_type": "display_data"
    }
   ],
   "source": [
    "fig,axes = plt.subplots(1,2)\n",
    "\n",
    "#As a point\n",
    "v = np.array([3,6])\n",
    "axes[0].scatter(v[0],v[1])\n",
    "axes[0].set_xlim(-10,10)\n",
    "axes[0].set_ylim(-10,10)\n",
    "\n",
    "#As and arrow\n",
    "V = np.vstack([v])\n",
    "origin = [0], [0] # origin point\n",
    "axes[1].quiver(*origin, V[:,0], V[:,1], color=['r','b','g'],angles='xy', scale_units='xy',scale=1)\n",
    "axes[1].set_xlim(-10,10)\n",
    "axes[1].set_ylim(-10,10)"
   ]
  },
  {
   "cell_type": "markdown",
   "metadata": {},
   "source": [
    "The interetation as arrow makes more sense when we add two vectors, since we can think it as traveling to the end of the first vector and then to a another."
   ]
  },
  {
   "cell_type": "code",
   "execution_count": 5,
   "metadata": {},
   "outputs": [
    {
     "data": {
      "text/plain": [
       "(-10, 10)"
      ]
     },
     "execution_count": 5,
     "metadata": {},
     "output_type": "execute_result"
    },
    {
     "data": {
      "image/png": "[encoded data removed]",
      "text/plain": [
       "<matplotlib.figure.Figure at 0x7feee2379e48>"
      ]
     },
     "metadata": {},
     "output_type": "display_data"
    }
   ],
   "source": [
    "\n",
    "\n",
    "v = np.array([3,6])\n",
    "w = np.array([-3,2])\n",
    "z = v + w #\n",
    "origin = [0], [0] # origin point\n",
    "\n",
    "V = np.vstack([v,w,z])\n",
    "origin = [0], [0] # origin point\n",
    "plt.quiver(*origin, V[:,0], V[:,1], color=['r','b','g'],angles='xy', scale_units='xy',scale=1)\n",
    "plt.xlim(-10,10)\n",
    "plt.ylim(-10,10)\n"
   ]
  },
  {
   "cell_type": "markdown",
   "metadata": {},
   "source": [
    "# Linear combinations\n",
    "\n",
    "Lets say we have a bunch of vectors of length n:\n",
    "\n",
    "$$ v_1, v_2,... v_n \\in  \\mathbb{R}^n $$\n",
    "\n",
    "A linear comination of them means we scale them by a number and add them together"
   ]
  },
  {
   "cell_type": "code",
   "execution_count": 6,
   "metadata": {},
   "outputs": [
    {
     "data": {
      "text/plain": [
       "array([14, 19, 24])"
      ]
     },
     "execution_count": 6,
     "metadata": {},
     "output_type": "execute_result"
    }
   ],
   "source": [
    "v1 = np.array([1,2,3])\n",
    "v2 = np.array([4,5,6])\n",
    "\n",
    "2*v1 + 3*v2 # a linear combination of v1 and v2"
   ]
  },
  {
   "cell_type": "markdown",
   "metadata": {},
   "source": [
    "# Linear Span\n",
    "\n",
    "By multiplying each vector by a scalar and then adding them together (a linear comination), which points can you reach? The set of all possible vectors (or points) that you can reach given a linear combination of vectors vectors is called the span of those vectors. For a great explanation see [](https://www.youtube.com/watch?v=k7RM-ot2NWY)\n",
    "\n",
    "In our normal coordinate system we use the basis vectors.\n",
    "\n",
    "* $ \\hat{i} = \\begin{bmatrix}\n",
    "0\\\\ \n",
    "1 \n",
    "\\end{bmatrix} $\n",
    "* $ \\hat{j} = \\begin{bmatrix}\n",
    "1\\\\ \n",
    "0 \n",
    "\\end{bmatrix} $\n",
    "\n",
    "When we give coridinates $(x,y)$ we use them to scale the basis vectors and then add them together, using this we can reach any point (if the vectors are linearly indpedent, covered later).\n",
    "\n",
    "$$  x  \\begin{bmatrix}\n",
    "1 \\\\\n",
    "0 \n",
    "\\end{bmatrix}   + \n",
    " y \\begin{bmatrix}\n",
    "0 \\\\\n",
    "1 \n",
    "\\end{bmatrix}   =\n",
    "\\begin{bmatrix}\n",
    "x \\\\\n",
    "y \n",
    "\\end{bmatrix}\n",
    "$$\n",
    "\n",
    "Bellow is a interactive plot to demo this."
   ]
  },
  {
   "cell_type": "code",
   "execution_count": 7,
   "metadata": {},
   "outputs": [
    {
     "data": {
      "application/vnd.jupyter.widget-view+json": {
       "model_id": "edb47120dcad4fce90337d7a57bd8fb7",
       "version_major": 2,
       "version_minor": 0
      },
      "text/plain": [
       "A Jupyter Widget"
      ]
     },
     "metadata": {},
     "output_type": "display_data"
    }
   ],
   "source": [
    "def f(x,y):\n",
    "    \n",
    "    #Choose basis vectors\n",
    "    i = np.array([0,1])\n",
    "    j = np.array([1,0])\n",
    "    #Scale them by some number\n",
    "    v1 = x * i\n",
    "    v2 = y * j\n",
    "    #v3 is the points we can reach\n",
    "    v3 = v1 + v2\n",
    "    \n",
    "    #Plotting stuff\n",
    "    V = np.vstack([v1,v2,v3])\n",
    "    origin = [0], [0] # origin point\n",
    "    plt.quiver(*origin, V[:,0], V[:,1], color=['r','b','g'],angles='xy', scale_units='xy',scale=1)\n",
    "    plt.xlim(-10, 10)\n",
    "    plt.ylim(-10, 10)\n",
    "    plt.show()\n",
    "\n",
    "\n",
    "interactive(f, x=(-10, 10), y=(-10, 10))"
   ]
  },
  {
   "cell_type": "markdown",
   "metadata": {},
   "source": [
    "But who says we have to use the standard basis vectors, we could use some other vectors to define our coordinate system, and in most case it will should work."
   ]
  },
  {
   "cell_type": "code",
   "execution_count": 8,
   "metadata": {},
   "outputs": [
    {
     "data": {
      "application/vnd.jupyter.widget-view+json": {
       "model_id": "88ad8d6dafb2485e9dcd6e5dfb302e19",
       "version_major": 2,
       "version_minor": 0
      },
      "text/plain": [
       "A Jupyter Widget"
      ]
     },
     "metadata": {},
     "output_type": "display_data"
    }
   ],
   "source": [
    "\n",
    "def f(x,y):\n",
    "    \n",
    "    \n",
    "    #Choose differnt basic vectors\n",
    "    i = np.array([1,3])\n",
    "    j = np.array([2,1])\n",
    "    #Scale again\n",
    "    v1 = x * i\n",
    "    v2 = y * j\n",
    "    #Add together to reach new point\n",
    "    v3 = v1 + v2\n",
    "   \n",
    "    #plot\n",
    "    V = np.vstack([v1,v2,v3])\n",
    "    origin = [0], [0] # origin point\n",
    "    plt.quiver(*origin, V[:,0], V[:,1], color=['r','b','g'],angles='xy', scale_units='xy',scale=1)\n",
    "    plt.xlim(-10, 10)\n",
    "    plt.ylim(-10, 10)\n",
    "    plt.show()\n",
    "\n",
    "\n",
    "interactive(f, x=(-10, 10), y=(-10, 10))\n"
   ]
  },
  {
   "cell_type": "markdown",
   "metadata": {},
   "source": [
    "If we get unlucky and we choose two vectors that are on the same line or are ** linearly dependent **, then we can only travel on that line."
   ]
  },
  {
   "cell_type": "code",
   "execution_count": 9,
   "metadata": {},
   "outputs": [
    {
     "data": {
      "application/vnd.jupyter.widget-view+json": {
       "model_id": "e9e254196d1e496bbbfa6fb090c1f921",
       "version_major": 2,
       "version_minor": 0
      },
      "text/plain": [
       "A Jupyter Widget"
      ]
     },
     "metadata": {},
     "output_type": "display_data"
    }
   ],
   "source": [
    "\n",
    "def f(x,y):\n",
    "    \n",
    "    \n",
    "    #Choose linearly dependant vectors\n",
    "    i = np.array([1,0])\n",
    "    j = np.array([2,0])\n",
    "    #Multiply by a scalar\n",
    "    v1 = x * i\n",
    "    v2 = y * j\n",
    "    #Add together to reach new point\n",
    "    v3 = v1 + v2\n",
    "    V = np.vstack([v1,v2,v1+v2])\n",
    "    \n",
    "    origin = [0], [0] # origin point\n",
    "    plt.quiver(*origin, V[:,0], V[:,1], color=['r','b','g'],angles='xy', scale_units='xy',scale=1)\n",
    "    plt.xlim(-10, 10)\n",
    "    plt.ylim(-10, 10)\n",
    "    plt.show()\n",
    "\n",
    "\n",
    "interactive(f, x=(-10, 10), y=(-10, 10))"
   ]
  },
  {
   "cell_type": "markdown",
   "metadata": {},
   "source": [
    "# Dot Product\n",
    "\n",
    "Given two vectors we can get the dot product by multiplying each element together and then taking the sum of the final vector.\n",
    "\n",
    "$$ v \\cdot w = v_1 w_1 + v_2 w_2 $$\n"
   ]
  },
  {
   "cell_type": "markdown",
   "metadata": {},
   "source": [
    "We can represent this in python code like so"
   ]
  },
  {
   "cell_type": "code",
   "execution_count": 10,
   "metadata": {},
   "outputs": [
    {
     "data": {
      "text/plain": [
       "130"
      ]
     },
     "execution_count": 10,
     "metadata": {},
     "output_type": "execute_result"
    }
   ],
   "source": [
    "v = [1,2,3,4,5]\n",
    "w = [6,7,8,9,10]\n",
    "np.dot(v,w)"
   ]
  },
  {
   "cell_type": "markdown",
   "metadata": {},
   "source": [
    "The dot product exhibts some very usefull properties:\n",
    "\n",
    "* Commutatuve - $ \\textbf{r} \\cdot \\textbf{s} = \\textbf{s} \\cdot \\textbf{r} $\n",
    "* Distributive - $ \\textbf{r} \\cdot \\textbf{(s + t )}= \\textbf{r} \\cdot \\textbf{s} + \\textbf{r} \\cdot \\textbf{t} $\n",
    "* Associative  $ \\textbf{r} \\cdot (a \\textbf{s}) = a(\\textbf{r} \\cdot \\textbf{s}) $\n"
   ]
  },
  {
   "cell_type": "markdown",
   "metadata": {},
   "source": [
    "# Exercises"
   ]
  },
  {
   "cell_type": "markdown",
   "metadata": {},
   "source": [
    "** 1. **   Create vector  $ a $ with values ranging from 1 to 10. Create another vector $ b $ with values ranging from 21 to 30. Take the dot product of $ a $ and $ b $."
   ]
  },
  {
   "cell_type": "code",
   "execution_count": 25,
   "metadata": {
    "scrolled": true
   },
   "outputs": [
    {
     "data": {
      "text/plain": [
       "1485"
      ]
     },
     "execution_count": 25,
     "metadata": {},
     "output_type": "execute_result"
    }
   ],
   "source": [
    "a = np.array(range(1,11))\n",
    "b = np.array(range(21,31))\n",
    "np.dot(a,b)"
   ]
  },
  {
   "cell_type": "markdown",
   "metadata": {},
   "source": [
    "** 2. **\n",
    "Create a vector with values only even values ranging from 1 to 100 . \n"
   ]
  },
  {
   "cell_type": "code",
   "execution_count": 28,
   "metadata": {},
   "outputs": [
    {
     "data": {
      "text/plain": [
       "array([  2,   4,   6,   8,  10,  12,  14,  16,  18,  20,  22,  24,  26,\n",
       "        28,  30,  32,  34,  36,  38,  40,  42,  44,  46,  48,  50,  52,\n",
       "        54,  56,  58,  60,  62,  64,  66,  68,  70,  72,  74,  76,  78,\n",
       "        80,  82,  84,  86,  88,  90,  92,  94,  96,  98, 100])"
      ]
     },
     "execution_count": 28,
     "metadata": {},
     "output_type": "execute_result"
    }
   ],
   "source": [
    "c = np.array(range(2,101,2))\n",
    "c"
   ]
  },
  {
   "cell_type": "markdown",
   "metadata": {},
   "source": [
    "** 3. **  How do you reverse a vector ?"
   ]
  },
  {
   "cell_type": "code",
   "execution_count": 65,
   "metadata": {},
   "outputs": [
    {
     "data": {
      "text/plain": [
       "array([100,  98,  96,  94,  92,  90,  88,  86,  84,  82,  80,  78,  76,\n",
       "        74,  72,  70,  68,  66,  64,  62,  60,  58,  56,  54,  52,  50,\n",
       "        48,  46,  44,  42,  40,  38,  36,  34,  32,  30,  28,  26,  24,\n",
       "        22,  20,  18,  16,  14,  12,  10,   8,   6,   4,   2])"
      ]
     },
     "execution_count": 65,
     "metadata": {},
     "output_type": "execute_result"
    }
   ],
   "source": [
    "c[::-1]"
   ]
  },
  {
   "cell_type": "markdown",
   "metadata": {},
   "source": [
    "** 4. **  Find indices of all non-zero elements from  $ [1,23,0,2,4,0] $. * Hint * `np.nonzero`\n"
   ]
  },
  {
   "cell_type": "code",
   "execution_count": 66,
   "metadata": {},
   "outputs": [
    {
     "data": {
      "text/plain": [
       "(array([0, 1, 3, 4]),)"
      ]
     },
     "execution_count": 66,
     "metadata": {},
     "output_type": "execute_result"
    }
   ],
   "source": [
    "d = [1,23,0,2,4,0]\n",
    "np.nonzero(d)"
   ]
  },
  {
   "cell_type": "markdown",
   "metadata": {},
   "source": [
    "** 5. **  The three corners of a parallelogram are $ (1,1) $, $ (4,2) $, and $ (1,3) $, this is plotted bellow. What are the 3 other possible corners? Use vector addtion to get to get the other corners."
   ]
  },
  {
   "cell_type": "code",
   "execution_count": 106,
   "metadata": {
    "scrolled": false
   },
   "outputs": [
    {
     "data": {
      "image/png": "[encoded data removed]",
      "text/plain": [
       "<matplotlib.figure.Figure at 0x7feee13c2c88>"
      ]
     },
     "metadata": {},
     "output_type": "display_data"
    }
   ],
   "source": [
    "\n",
    "a = np.array([1,1])\n",
    "b = np.array([4,2])\n",
    "c = np.array([1,3])\n",
    "d1 = a+b-c\n",
    "d2 = b+c-a\n",
    "d3 = a+c-b\n",
    "#plot\n",
    "fig, ax = plt.subplots()\n",
    "V = np.vstack([a,b,c,d1,d2,d3])\n",
    "plt.scatter(V[:,0],V[:,1],color='bbbgrc')\n",
    "plt.xlim(-3, 5)\n",
    "plt.ylim(-3, 5)\n",
    "\n",
    "plt.show()"
   ]
  },
  {
   "cell_type": "markdown",
   "metadata": {},
   "source": [
    "** 6. **  What is the distance for between the vectors $ a $ and $ b $?"
   ]
  },
  {
   "cell_type": "code",
   "execution_count": 110,
   "metadata": {},
   "outputs": [],
   "source": [
    "a = np.array([3,4])\n",
    "b = np.array([1,10])"
   ]
  },
  {
   "cell_type": "code",
   "execution_count": 111,
   "metadata": {},
   "outputs": [
    {
     "data": {
      "text/plain": [
       "6.324555320336759"
      ]
     },
     "execution_count": 111,
     "metadata": {},
     "output_type": "execute_result"
    }
   ],
   "source": [
    "np.linalg.norm(a-b)"
   ]
  },
  {
   "cell_type": "markdown",
   "metadata": {},
   "source": [
    "** 7. ** What is the size of the vector $ v $ ?"
   ]
  },
  {
   "cell_type": "code",
   "execution_count": 112,
   "metadata": {},
   "outputs": [],
   "source": [
    "v = [1,2,35,3]"
   ]
  },
  {
   "cell_type": "code",
   "execution_count": 116,
   "metadata": {},
   "outputs": [
    {
     "data": {
      "text/plain": [
       "35.199431813596085"
      ]
     },
     "execution_count": 116,
     "metadata": {},
     "output_type": "execute_result"
    }
   ],
   "source": [
    "np.linalg.norm(v)"
   ]
  }
 ],
 "metadata": {
  "kernelspec": {
   "display_name": "Python 3",
   "language": "python",
   "name": "python3"
  },
  "language_info": {
   "codemirror_mode": {
    "name": "ipython",
    "version": 3
   },
   "file_extension": ".py",
   "mimetype": "text/x-python",
   "name": "python",
   "nbconvert_exporter": "python",
   "pygments_lexer": "ipython3",
   "version": "3.5.4"
  }
 },
 "nbformat": 4,
 "nbformat_minor": 2
}
