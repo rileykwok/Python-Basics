{
 "cells": [
  {
   "cell_type": "markdown",
   "metadata": {},
   "source": [
    "# Working with text"
   ]
  },
  {
   "cell_type": "markdown",
   "metadata": {},
   "source": [
    "Text is one of the most widley avaliable sources of sequential data, we can think of it either as a sequence of characters or a sequence of words.   Deep learning models can't take in text as strings, we need to convert them to a numeric form. This can be done in a few ways.\n",
    "\n",
    "* Split text into words, convert each word to a vector \n",
    "* Split text into characters, convert each character into a vector\n",
    "* Extact n-grams, and transform each n-gram into vectors.\n",
    "\n",
    "This process is know as tokenization. There are two major ways to encode these tokens:\n",
    "\n",
    "* Onehot encoding - often used for characters and sometimes words.\n",
    "* Word embeddings - often used for words or n-grams.\n",
    "\n",
    "N-grams are used more frequently in traditional NLP (Natrual langauge procesing) methods. There are many great libraies in python for NLP such as spaCy, NLTK and gensim, in this notebook we'll use gensim because it has a nice word2vec implementation."
   ]
  },
  {
   "cell_type": "markdown",
   "metadata": {},
   "source": [
    "## Onehot encoding\n",
    "\n",
    "We can perform some basic onehot encoding using python"
   ]
  },
  {
   "cell_type": "code",
   "execution_count": 2,
   "metadata": {},
   "outputs": [
    {
     "data": {
      "text/plain": [
       "{'The': 4,\n",
       " 'brown': 1,\n",
       " 'for': 2,\n",
       " 'jumped': 5,\n",
       " 'over': 3,\n",
       " 'quick': 0,\n",
       " 'the': 7,\n",
       " 'tree?': 6}"
      ]
     },
     "execution_count": 2,
     "metadata": {},
     "output_type": "execute_result"
    }
   ],
   "source": [
    "import numpy as np\n",
    "\n",
    "sentence = 'The quick brown for jumped over the tree?'\n",
    "word_list = sentence.split()\n",
    "token_index = {} #used to map word to int\n",
    "\n",
    "#use set to remove duplicate words\n",
    "for word in set(word_list):\n",
    "    if word not in token_index:\n",
    "        token_index[word] = len(token_index) \n",
    "\n",
    "token_index"
   ]
  },
  {
   "cell_type": "code",
   "execution_count": 3,
   "metadata": {},
   "outputs": [
    {
     "data": {
      "text/plain": [
       "array([[0., 0., 0., 0., 1., 0., 0., 0.],\n",
       "       [1., 0., 0., 0., 0., 0., 0., 0.],\n",
       "       [0., 1., 0., 0., 0., 0., 0., 0.],\n",
       "       [0., 0., 1., 0., 0., 0., 0., 0.],\n",
       "       [0., 0., 0., 0., 0., 1., 0., 0.],\n",
       "       [0., 0., 0., 1., 0., 0., 0., 0.],\n",
       "       [0., 0., 0., 0., 0., 0., 0., 1.],\n",
       "       [0., 0., 0., 0., 0., 0., 1., 0.]])"
      ]
     },
     "execution_count": 3,
     "metadata": {},
     "output_type": "execute_result"
    }
   ],
   "source": [
    "n_words = len(token_index.keys())\n",
    "#convert sentence to ints\n",
    "word_ints = [ token_index[word] for word in sentence.split()]\n",
    "#use sentence ints to generate onehot encodings\n",
    "np.eye(n_words)[word_ints]"
   ]
  },
  {
   "cell_type": "code",
   "execution_count": 4,
   "metadata": {},
   "outputs": [],
   "source": [
    "#try and use the above code to onehot encode characters"
   ]
  },
  {
   "cell_type": "markdown",
   "metadata": {},
   "source": [
    "## Generating Word Embeddings with Gensim\n",
    "\n",
    "\n",
    "There are many choices for NLP libraries in python including spaCy, NLTK and gensim. Today we will use gensim because it has a intuitive word2vec implementation. This implementation is highly optimized and should run very fast, even on just CPU."
   ]
  },
  {
   "cell_type": "markdown",
   "metadata": {},
   "source": [
    "## Processing text\n",
    "\n",
    "The first stage is processing text."
   ]
  },
  {
   "cell_type": "code",
   "execution_count": null,
   "metadata": {},
   "outputs": [],
   "source": [
    "from gensim.models import Word2Vec #prebuilt word to vec implementation\n",
    "import glob #finds all pathnames matching a pattern, like regex\n",
    "import codecs #unicode support when reading files\n",
    "from multiprocessing import cpu_count #use to get number of cpus on host machine\n",
    "from gensim.utils import simple_preprocess,simple_tokenize #text processing\n",
    "from string import punctuation #string  containing all puncuation"
   ]
  },
  {
   "cell_type": "markdown",
   "metadata": {},
   "source": [
    "The first stage is to read in the text."
   ]
  },
  {
   "cell_type": "code",
   "execution_count": 645,
   "metadata": {},
   "outputs": [
    {
     "name": "stdout",
     "output_type": "stream",
     "text": [
      "Found books:\n"
     ]
    },
    {
     "data": {
      "text/plain": [
       "['data/got1.txt',\n",
       " 'data/got2.txt',\n",
       " 'data/got3.txt',\n",
       " 'data/got4.txt',\n",
       " 'data/got5.txt']"
      ]
     },
     "execution_count": 645,
     "metadata": {},
     "output_type": "execute_result"
    }
   ],
   "source": [
    "book_filenames = sorted(glob.glob(\"data/*.txt\"))\n",
    "print(\"Found books:\")\n",
    "book_filenames"
   ]
  },
  {
   "cell_type": "code",
   "execution_count": 338,
   "metadata": {},
   "outputs": [
    {
     "name": "stdout",
     "output_type": "stream",
     "text": [
      "Corpus is 9719485 characters long\n"
     ]
    }
   ],
   "source": [
    "corpus_raw = u\"\"\n",
    "#for each book, read it, open it un utf 8 format, \n",
    "#add it to the raw corpus\n",
    "for book_filename in book_filenames:\n",
    "    with codecs.open(book_filename, \"r\", \"utf-8\") as book_file:\n",
    "        corpus_raw += book_file.read()\n",
    "\n",
    "print(\"Corpus is {0} characters long\".format(len(corpus_raw)))"
   ]
  },
  {
   "cell_type": "markdown",
   "metadata": {},
   "source": [
    "Bellow is how we could process the text with libraries"
   ]
  },
  {
   "cell_type": "code",
   "execution_count": 554,
   "metadata": {
    "collapsed": true
   },
   "outputs": [],
   "source": [
    "table=str.maketrans(\"\",\"\",punctuation)     #create translation table\n",
    "text = corpus_raw.translate(table) # remove puncuation\n",
    "sentences = text.split('\\n') #split into sentences\n",
    "sentences = list(filter(None,sentences)) #remove empty strings\n",
    "for i,sentence in enumerate(sentences):\n",
    "    sentences[i] = sentence.lower().split() #lower case and split into words"
   ]
  },
  {
   "cell_type": "markdown",
   "metadata": {},
   "source": [
    "The same preprocessing using gensim. Probaly better to use gensim because it will preporcess better for example it wouldn't remove apostrophes in \"it's\"."
   ]
  },
  {
   "cell_type": "code",
   "execution_count": 560,
   "metadata": {},
   "outputs": [],
   "source": [
    "sentences = corpus_raw.split('\\n') #split at new lines\n",
    "sentences =  filter(None, sentences) # remove empty strings\n",
    "sentences =  list(map(simple_preprocess,sentences)) #clean text "
   ]
  },
  {
   "cell_type": "markdown",
   "metadata": {},
   "source": [
    "## Word2Vec model\n",
    "\n",
    "To create the model the data must be in the correct format. Each sentence must be tokenized (divided into indivdual words). We then feed a list of sentences, where each sentence is a list of words into the model. The other parameters mean:\n",
    "\n",
    "* size - dimension of resulting word vector\n",
    "* window - the maximum distance between the current and projected word\n",
    "* min count - ignores all word with freq bellow this\n",
    "* worker - number of cpus to use\n",
    "\n",
    "More extensive documentation can be found [here](https://radimrehurek.com/gensim/models/word2vec.html). By feault the word2vec model uses the CBOW (Continous Bag of Words). "
   ]
  },
  {
   "cell_type": "code",
   "execution_count": 797,
   "metadata": {},
   "outputs": [],
   "source": [
    "model = Word2Vec(sentences, size=100, window=5, min_count=5, workers=workers) #fit model"
   ]
  },
  {
   "cell_type": "code",
   "execution_count": 798,
   "metadata": {},
   "outputs": [
    {
     "data": {
      "text/plain": [
       "11766"
      ]
     },
     "execution_count": 798,
     "metadata": {},
     "output_type": "execute_result"
    }
   ],
   "source": [
    "len(model.wv.vocab) #size of vocab"
   ]
  },
  {
   "cell_type": "code",
   "execution_count": 799,
   "metadata": {},
   "outputs": [
    {
     "data": {
      "text/plain": [
       "(11766, 100)"
      ]
     },
     "execution_count": 799,
     "metadata": {},
     "output_type": "execute_result"
    }
   ],
   "source": [
    "model.wv.vectors.shape  # how we can access the word embeddings matrix"
   ]
  },
  {
   "cell_type": "code",
   "execution_count": 800,
   "metadata": {},
   "outputs": [
    {
     "data": {
      "text/plain": [
       "True"
      ]
     },
     "execution_count": 800,
     "metadata": {},
     "output_type": "execute_result"
    }
   ],
   "source": [
    "'word'  in model.wv.vocab #check if word in vocab"
   ]
  },
  {
   "cell_type": "code",
   "execution_count": 801,
   "metadata": {},
   "outputs": [
    {
     "data": {
      "text/plain": [
       "array([-0.6682672 ,  1.3686088 ,  1.4735631 , -0.03301211, -0.9470558 ,\n",
       "        3.1193125 , -1.3661332 ,  1.4262407 , -2.2277904 , -1.0994797 ,\n",
       "        0.7564326 ,  1.856769  ,  0.85446906,  1.3362775 ,  2.1790266 ,\n",
       "       -0.48722786,  1.4035957 , -0.13053733,  0.54795444, -1.1450119 ,\n",
       "        1.2036904 , -1.031692  , -2.5723205 , -0.9445113 , -1.0587013 ,\n",
       "       -0.45428336,  1.9232131 , -0.72845876,  1.1132461 ,  0.07917032,\n",
       "        0.5919369 , -1.0813673 , -0.46248084, -1.4049512 ,  0.6846094 ,\n",
       "       -0.5714793 ,  2.0207598 , -0.9597527 , -0.74163544, -0.07358749,\n",
       "       -1.5648477 ,  0.50694495,  1.8324237 , -1.4458148 , -0.78952533,\n",
       "       -0.61417675, -0.3534293 , -0.497584  ,  1.1389114 , -0.4715473 ,\n",
       "       -0.09960125,  0.98459184, -2.0396981 , -1.4933355 , -0.6934293 ,\n",
       "       -0.96355826, -1.0218424 , -1.0887887 ,  3.1428328 , -0.6782672 ,\n",
       "       -1.7813264 ,  0.09251615, -0.41704595,  0.4988929 , -1.1345026 ,\n",
       "       -0.13274813, -1.1658813 ,  1.1533829 ,  0.27083278,  1.9983742 ,\n",
       "        1.5145719 ,  0.12362754, -1.7510016 ,  0.5312473 ,  1.103025  ,\n",
       "       -2.1484966 ,  0.78351724, -0.05931265, -1.0343267 , -1.249353  ,\n",
       "       -1.4920834 ,  1.0643568 , -0.30819377, -0.89748114, -1.1003678 ,\n",
       "        0.67666626,  0.65645254,  0.9208375 , -1.5960034 ,  2.4126103 ,\n",
       "       -2.009377  , -1.1589031 ,  1.2711029 , -1.5502204 ,  0.26812583,\n",
       "        1.8898764 ,  2.5303216 ,  0.14666419, -1.2300436 ,  1.678241  ],\n",
       "      dtype=float32)"
      ]
     },
     "execution_count": 801,
     "metadata": {},
     "output_type": "execute_result"
    }
   ],
   "source": [
    "model.wv['man'] #get word vector for man"
   ]
  },
  {
   "cell_type": "code",
   "execution_count": 802,
   "metadata": {},
   "outputs": [
    {
     "data": {
      "text/plain": [
       "[('woman', 0.7436143159866333),\n",
       " ('boy', 0.7061445713043213),\n",
       " ('knight', 0.6475780010223389),\n",
       " ('bear', 0.6352578401565552),\n",
       " ('wench', 0.6073770523071289),\n",
       " ('fool', 0.5974904298782349),\n",
       " ('dog', 0.5794275999069214),\n",
       " ('one', 0.5496314764022827),\n",
       " ('lad', 0.5407472848892212),\n",
       " ('crow', 0.529768705368042)]"
      ]
     },
     "execution_count": 802,
     "metadata": {},
     "output_type": "execute_result"
    }
   ],
   "source": [
    "model.wv.most_similar('man')  # find most similar words"
   ]
  },
  {
   "cell_type": "code",
   "execution_count": 803,
   "metadata": {},
   "outputs": [
    {
     "data": {
      "text/plain": [
       "[('queen', 0.6549878716468811),\n",
       " ('prince', 0.5984067916870117),\n",
       " ('myrcella', 0.5280466079711914),\n",
       " ('daenerys', 0.5223686099052429),\n",
       " ('margaery', 0.5184856057167053),\n",
       " ('princess', 0.5172644257545471),\n",
       " ('mother', 0.5158389806747437),\n",
       " ('targaryen', 0.5088408589363098),\n",
       " ('child', 0.5081015229225159),\n",
       " ('stark', 0.49216437339782715)]"
      ]
     },
     "execution_count": 803,
     "metadata": {},
     "output_type": "execute_result"
    }
   ],
   "source": [
    "# king +  woman  - man = ?\n",
    "model.wv.most_similar(positive=['woman', 'king'], negative=['man']) "
   ]
  },
  {
   "cell_type": "markdown",
   "metadata": {},
   "source": [
    "## Dimensionality reduction with t-SNE\n",
    "\n",
    "Before we can plot the word vectors we need to use some form of dimensionality reduction, to make them 2d. We'll use TNSE which works vey well for vizulazing high-dimensional data.\n",
    "\n"
   ]
  },
  {
   "cell_type": "code",
   "execution_count": 804,
   "metadata": {},
   "outputs": [],
   "source": [
    "from sklearn.manifold import TSNE #from dimensionality reduction\n",
    "import pandas as pd "
   ]
  },
  {
   "cell_type": "code",
   "execution_count": 813,
   "metadata": {},
   "outputs": [],
   "source": [
    "from sklearn.manifold import MDS"
   ]
  },
  {
   "cell_type": "code",
   "execution_count": 805,
   "metadata": {},
   "outputs": [],
   "source": [
    "n = 1000 #only use first 1000 vectors"
   ]
  },
  {
   "cell_type": "code",
   "execution_count": 820,
   "metadata": {},
   "outputs": [],
   "source": [
    "tsne = TSNE(n_components=2, perplexity=3,random_state=0)\n",
    "tsne_vectors = tsne.fit_transform(model.wv.vectors[:n])"
   ]
  },
  {
   "cell_type": "code",
   "execution_count": 821,
   "metadata": {},
   "outputs": [],
   "source": [
    "words = model.wv.index2word[:n] #get first n words from model"
   ]
  },
  {
   "cell_type": "code",
   "execution_count": 822,
   "metadata": {},
   "outputs": [],
   "source": [
    "# from sklearn.manifold import MDS\n",
    "\n",
    "mds = MDS(n_components=2)\n",
    "tsne_vectors = mds.fit_transform(model.wv.vectors[:1000])"
   ]
  },
  {
   "cell_type": "markdown",
   "metadata": {},
   "source": [
    "## Plotting word vectors with Bokeh"
   ]
  },
  {
   "cell_type": "markdown",
   "metadata": {},
   "source": [
    "Bokeh is an interactive plotting library, which is great for exploring the realsionship of the word vectors. It's won't work in jupyter lab by default (because they have disabled inline javascript) but it will still work in jupyter notebook. We must install a lab [extension](https://github.com/bokeh/jupyterlab_bokeh) to get bokeh working in lab"
   ]
  },
  {
   "cell_type": "code",
   "execution_count": 823,
   "metadata": {},
   "outputs": [
    {
     "data": {
      "text/html": [
       "\n",
       "    <div class=\"bk-root\">\n",
       "        <a href=\"https://bokeh.pydata.org\" target=\"_blank\" class=\"bk-logo bk-logo-small bk-logo-notebook\"></a>\n",
       "        <span id=\"200170db-7535-4484-91a8-ee905afc9f3a\">Loading BokehJS ...</span>\n",
       "    </div>"
      ]
     },
     "metadata": {},
     "output_type": "display_data"
    },
    {
     "data": {
      "application/javascript": [
       "\n",
       "(function(root) {\n",
       "  function now() {\n",
       "    return new Date();\n",
       "  }\n",
       "\n",
       "  var force = true;\n",
       "\n",
       "  if (typeof (root._bokeh_onload_callbacks) === \"undefined\" || force === true) {\n",
       "    root._bokeh_onload_callbacks = [];\n",
       "    root._bokeh_is_loading = undefined;\n",
       "  }\n",
       "\n",
       "  var JS_MIME_TYPE = 'application/javascript';\n",
       "  var HTML_MIME_TYPE = 'text/html';\n",
       "  var EXEC_MIME_TYPE = 'application/vnd.bokehjs_exec.v0+json';\n",
       "  var CLASS_NAME = 'output_bokeh rendered_html';\n",
       "\n",
       "  /**\n",
       "   * Render data to the DOM node\n",
       "   */\n",
       "  function render(props, node) {\n",
       "    var script = document.createElement(\"script\");\n",
       "    node.appendChild(script);\n",
       "  }\n",
       "\n",
       "  /**\n",
       "   * Handle when an output is cleared or removed\n",
       "   */\n",
       "  function handleClearOutput(event, handle) {\n",
       "    var cell = handle.cell;\n",
       "\n",
       "    var id = cell.output_area._bokeh_element_id;\n",
       "    var server_id = cell.output_area._bokeh_server_id;\n",
       "    // Clean up Bokeh references\n",
       "    if (id !== undefined) {\n",
       "      Bokeh.index[id].model.document.clear();\n",
       "      delete Bokeh.index[id];\n",
       "    }\n",
       "\n",
       "    if (server_id !== undefined) {\n",
       "      // Clean up Bokeh references\n",
       "      var cmd = \"from bokeh.io.state import curstate; print(curstate().uuid_to_server['\" + server_id + \"'].get_sessions()[0].document.roots[0]._id)\";\n",
       "      cell.notebook.kernel.execute(cmd, {\n",
       "        iopub: {\n",
       "          output: function(msg) {\n",
       "            var element_id = msg.content.text.trim();\n",
       "            Bokeh.index[element_id].model.document.clear();\n",
       "            delete Bokeh.index[element_id];\n",
       "          }\n",
       "        }\n",
       "      });\n",
       "      // Destroy server and session\n",
       "      var cmd = \"import bokeh.io.notebook as ion; ion.destroy_server('\" + server_id + \"')\";\n",
       "      cell.notebook.kernel.execute(cmd);\n",
       "    }\n",
       "  }\n",
       "\n",
       "  /**\n",
       "   * Handle when a new output is added\n",
       "   */\n",
       "  function handleAddOutput(event, handle) {\n",
       "    var output_area = handle.output_area;\n",
       "    var output = handle.output;\n",
       "\n",
       "    // limit handleAddOutput to display_data with EXEC_MIME_TYPE content only\n",
       "    if ((output.output_type != \"display_data\") || (!output.data.hasOwnProperty(EXEC_MIME_TYPE))) {\n",
       "      return\n",
       "    }\n",
       "\n",
       "    var toinsert = output_area.element.find(\".\" + CLASS_NAME.split(' ')[0]);\n",
       "\n",
       "    if (output.metadata[EXEC_MIME_TYPE][\"id\"] !== undefined) {\n",
       "      toinsert[0].firstChild.textContent = output.data[JS_MIME_TYPE];\n",
       "      // store reference to embed id on output_area\n",
       "      output_area._bokeh_element_id = output.metadata[EXEC_MIME_TYPE][\"id\"];\n",
       "    }\n",
       "    if (output.metadata[EXEC_MIME_TYPE][\"server_id\"] !== undefined) {\n",
       "      var bk_div = document.createElement(\"div\");\n",
       "      bk_div.innerHTML = output.data[HTML_MIME_TYPE];\n",
       "      var script_attrs = bk_div.children[0].attributes;\n",
       "      for (var i = 0; i < script_attrs.length; i++) {\n",
       "        toinsert[0].firstChild.setAttribute(script_attrs[i].name, script_attrs[i].value);\n",
       "      }\n",
       "      // store reference to server id on output_area\n",
       "      output_area._bokeh_server_id = output.metadata[EXEC_MIME_TYPE][\"server_id\"];\n",
       "    }\n",
       "  }\n",
       "\n",
       "  function register_renderer(events, OutputArea) {\n",
       "\n",
       "    function append_mime(data, metadata, element) {\n",
       "      // create a DOM node to render to\n",
       "      var toinsert = this.create_output_subarea(\n",
       "        metadata,\n",
       "        CLASS_NAME,\n",
       "        EXEC_MIME_TYPE\n",
       "      );\n",
       "      this.keyboard_manager.register_events(toinsert);\n",
       "      // Render to node\n",
       "      var props = {data: data, metadata: metadata[EXEC_MIME_TYPE]};\n",
       "      render(props, toinsert[0]);\n",
       "      element.append(toinsert);\n",
       "      return toinsert\n",
       "    }\n",
       "\n",
       "    /* Handle when an output is cleared or removed */\n",
       "    events.on('clear_output.CodeCell', handleClearOutput);\n",
       "    events.on('delete.Cell', handleClearOutput);\n",
       "\n",
       "    /* Handle when a new output is added */\n",
       "    events.on('output_added.OutputArea', handleAddOutput);\n",
       "\n",
       "    /**\n",
       "     * Register the mime type and append_mime function with output_area\n",
       "     */\n",
       "    OutputArea.prototype.register_mime_type(EXEC_MIME_TYPE, append_mime, {\n",
       "      /* Is output safe? */\n",
       "      safe: true,\n",
       "      /* Index of renderer in `output_area.display_order` */\n",
       "      index: 0\n",
       "    });\n",
       "  }\n",
       "\n",
       "  // register the mime type if in Jupyter Notebook environment and previously unregistered\n",
       "  if (root.Jupyter !== undefined) {\n",
       "    var events = require('base/js/events');\n",
       "    var OutputArea = require('notebook/js/outputarea').OutputArea;\n",
       "\n",
       "    if (OutputArea.prototype.mime_types().indexOf(EXEC_MIME_TYPE) == -1) {\n",
       "      register_renderer(events, OutputArea);\n",
       "    }\n",
       "  }\n",
       "\n",
       "  \n",
       "  if (typeof (root._bokeh_timeout) === \"undefined\" || force === true) {\n",
       "    root._bokeh_timeout = Date.now() + 5000;\n",
       "    root._bokeh_failed_load = false;\n",
       "  }\n",
       "\n",
       "  var NB_LOAD_WARNING = {'data': {'text/html':\n",
       "     \"<div style='background-color: #fdd'>\\n\"+\n",
       "     \"<p>\\n\"+\n",
       "     \"BokehJS does not appear to have successfully loaded. If loading BokehJS from CDN, this \\n\"+\n",
       "     \"may be due to a slow or bad network connection. Possible fixes:\\n\"+\n",
       "     \"</p>\\n\"+\n",
       "     \"<ul>\\n\"+\n",
       "     \"<li>re-rerun `output_notebook()` to attempt to load from CDN again, or</li>\\n\"+\n",
       "     \"<li>use INLINE resources instead, as so:</li>\\n\"+\n",
       "     \"</ul>\\n\"+\n",
       "     \"<code>\\n\"+\n",
       "     \"from bokeh.resources import INLINE\\n\"+\n",
       "     \"output_notebook(resources=INLINE)\\n\"+\n",
       "     \"</code>\\n\"+\n",
       "     \"</div>\"}};\n",
       "\n",
       "  function display_loaded() {\n",
       "    var el = document.getElementById(\"200170db-7535-4484-91a8-ee905afc9f3a\");\n",
       "    if (el != null) {\n",
       "      el.textContent = \"BokehJS is loading...\";\n",
       "    }\n",
       "    if (root.Bokeh !== undefined) {\n",
       "      if (el != null) {\n",
       "        el.textContent = \"BokehJS \" + root.Bokeh.version + \" successfully loaded.\";\n",
       "      }\n",
       "    } else if (Date.now() < root._bokeh_timeout) {\n",
       "      setTimeout(display_loaded, 100)\n",
       "    }\n",
       "  }\n",
       "\n",
       "\n",
       "  function run_callbacks() {\n",
       "    try {\n",
       "      root._bokeh_onload_callbacks.forEach(function(callback) { callback() });\n",
       "    }\n",
       "    finally {\n",
       "      delete root._bokeh_onload_callbacks\n",
       "    }\n",
       "    console.info(\"Bokeh: all callbacks have finished\");\n",
       "  }\n",
       "\n",
       "  function load_libs(js_urls, callback) {\n",
       "    root._bokeh_onload_callbacks.push(callback);\n",
       "    if (root._bokeh_is_loading > 0) {\n",
       "      console.log(\"Bokeh: BokehJS is being loaded, scheduling callback at\", now());\n",
       "      return null;\n",
       "    }\n",
       "    if (js_urls == null || js_urls.length === 0) {\n",
       "      run_callbacks();\n",
       "      return null;\n",
       "    }\n",
       "    console.log(\"Bokeh: BokehJS not loaded, scheduling load and callback at\", now());\n",
       "    root._bokeh_is_loading = js_urls.length;\n",
       "    for (var i = 0; i < js_urls.length; i++) {\n",
       "      var url = js_urls[i];\n",
       "      var s = document.createElement('script');\n",
       "      s.src = url;\n",
       "      s.async = false;\n",
       "      s.onreadystatechange = s.onload = function() {\n",
       "        root._bokeh_is_loading--;\n",
       "        if (root._bokeh_is_loading === 0) {\n",
       "          console.log(\"Bokeh: all BokehJS libraries loaded\");\n",
       "          run_callbacks()\n",
       "        }\n",
       "      };\n",
       "      s.onerror = function() {\n",
       "        console.warn(\"failed to load library \" + url);\n",
       "      };\n",
       "      console.log(\"Bokeh: injecting script tag for BokehJS library: \", url);\n",
       "      document.getElementsByTagName(\"head\")[0].appendChild(s);\n",
       "    }\n",
       "  };var element = document.getElementById(\"200170db-7535-4484-91a8-ee905afc9f3a\");\n",
       "  if (element == null) {\n",
       "    console.log(\"Bokeh: ERROR: autoload.js configured with elementid '200170db-7535-4484-91a8-ee905afc9f3a' but no matching script tag was found. \")\n",
       "    return false;\n",
       "  }\n",
       "\n",
       "  var js_urls = [\"https://cdn.pydata.org/bokeh/release/bokeh-0.12.13.min.js\", \"https://cdn.pydata.org/bokeh/release/bokeh-widgets-0.12.13.min.js\", \"https://cdn.pydata.org/bokeh/release/bokeh-tables-0.12.13.min.js\", \"https://cdn.pydata.org/bokeh/release/bokeh-gl-0.12.13.min.js\"];\n",
       "\n",
       "  var inline_js = [\n",
       "    function(Bokeh) {\n",
       "      Bokeh.set_log_level(\"info\");\n",
       "    },\n",
       "    \n",
       "    function(Bokeh) {\n",
       "      \n",
       "    },\n",
       "    function(Bokeh) {\n",
       "      console.log(\"Bokeh: injecting CSS: https://cdn.pydata.org/bokeh/release/bokeh-0.12.13.min.css\");\n",
       "      Bokeh.embed.inject_css(\"https://cdn.pydata.org/bokeh/release/bokeh-0.12.13.min.css\");\n",
       "      console.log(\"Bokeh: injecting CSS: https://cdn.pydata.org/bokeh/release/bokeh-widgets-0.12.13.min.css\");\n",
       "      Bokeh.embed.inject_css(\"https://cdn.pydata.org/bokeh/release/bokeh-widgets-0.12.13.min.css\");\n",
       "      console.log(\"Bokeh: injecting CSS: https://cdn.pydata.org/bokeh/release/bokeh-tables-0.12.13.min.css\");\n",
       "      Bokeh.embed.inject_css(\"https://cdn.pydata.org/bokeh/release/bokeh-tables-0.12.13.min.css\");\n",
       "    }\n",
       "  ];\n",
       "\n",
       "  function run_inline_js() {\n",
       "    \n",
       "    if ((root.Bokeh !== undefined) || (force === true)) {\n",
       "      for (var i = 0; i < inline_js.length; i++) {\n",
       "        inline_js[i].call(root, root.Bokeh);\n",
       "      }if (force === true) {\n",
       "        display_loaded();\n",
       "      }} else if (Date.now() < root._bokeh_timeout) {\n",
       "      setTimeout(run_inline_js, 100);\n",
       "    } else if (!root._bokeh_failed_load) {\n",
       "      console.log(\"Bokeh: BokehJS failed to load within specified timeout.\");\n",
       "      root._bokeh_failed_load = true;\n",
       "    } else if (force !== true) {\n",
       "      var cell = $(document.getElementById(\"200170db-7535-4484-91a8-ee905afc9f3a\")).parents('.cell').data().cell;\n",
       "      cell.output_area.append_execute_result(NB_LOAD_WARNING)\n",
       "    }\n",
       "\n",
       "  }\n",
       "\n",
       "  if (root._bokeh_is_loading === 0) {\n",
       "    console.log(\"Bokeh: BokehJS loaded, going straight to plotting\");\n",
       "    run_inline_js();\n",
       "  } else {\n",
       "    load_libs(js_urls, function() {\n",
       "      console.log(\"Bokeh: BokehJS plotting callback run at\", now());\n",
       "      run_inline_js();\n",
       "    });\n",
       "  }\n",
       "}(window));"
      ],
      "application/vnd.bokehjs_load.v0+json": "\n(function(root) {\n  function now() {\n    return new Date();\n  }\n\n  var force = true;\n\n  if (typeof (root._bokeh_onload_callbacks) === \"undefined\" || force === true) {\n    root._bokeh_onload_callbacks = [];\n    root._bokeh_is_loading = undefined;\n  }\n\n  \n\n  \n  if (typeof (root._bokeh_timeout) === \"undefined\" || force === true) {\n    root._bokeh_timeout = Date.now() + 5000;\n    root._bokeh_failed_load = false;\n  }\n\n  var NB_LOAD_WARNING = {'data': {'text/html':\n     \"<div style='background-color: #fdd'>\\n\"+\n     \"<p>\\n\"+\n     \"BokehJS does not appear to have successfully loaded. If loading BokehJS from CDN, this \\n\"+\n     \"may be due to a slow or bad network connection. Possible fixes:\\n\"+\n     \"</p>\\n\"+\n     \"<ul>\\n\"+\n     \"<li>re-rerun `output_notebook()` to attempt to load from CDN again, or</li>\\n\"+\n     \"<li>use INLINE resources instead, as so:</li>\\n\"+\n     \"</ul>\\n\"+\n     \"<code>\\n\"+\n     \"from bokeh.resources import INLINE\\n\"+\n     \"output_notebook(resources=INLINE)\\n\"+\n     \"</code>\\n\"+\n     \"</div>\"}};\n\n  function display_loaded() {\n    var el = document.getElementById(\"200170db-7535-4484-91a8-ee905afc9f3a\");\n    if (el != null) {\n      el.textContent = \"BokehJS is loading...\";\n    }\n    if (root.Bokeh !== undefined) {\n      if (el != null) {\n        el.textContent = \"BokehJS \" + root.Bokeh.version + \" successfully loaded.\";\n      }\n    } else if (Date.now() < root._bokeh_timeout) {\n      setTimeout(display_loaded, 100)\n    }\n  }\n\n\n  function run_callbacks() {\n    try {\n      root._bokeh_onload_callbacks.forEach(function(callback) { callback() });\n    }\n    finally {\n      delete root._bokeh_onload_callbacks\n    }\n    console.info(\"Bokeh: all callbacks have finished\");\n  }\n\n  function load_libs(js_urls, callback) {\n    root._bokeh_onload_callbacks.push(callback);\n    if (root._bokeh_is_loading > 0) {\n      console.log(\"Bokeh: BokehJS is being loaded, scheduling callback at\", now());\n      return null;\n    }\n    if (js_urls == null || js_urls.length === 0) {\n      run_callbacks();\n      return null;\n    }\n    console.log(\"Bokeh: BokehJS not loaded, scheduling load and callback at\", now());\n    root._bokeh_is_loading = js_urls.length;\n    for (var i = 0; i < js_urls.length; i++) {\n      var url = js_urls[i];\n      var s = document.createElement('script');\n      s.src = url;\n      s.async = false;\n      s.onreadystatechange = s.onload = function() {\n        root._bokeh_is_loading--;\n        if (root._bokeh_is_loading === 0) {\n          console.log(\"Bokeh: all BokehJS libraries loaded\");\n          run_callbacks()\n        }\n      };\n      s.onerror = function() {\n        console.warn(\"failed to load library \" + url);\n      };\n      console.log(\"Bokeh: injecting script tag for BokehJS library: \", url);\n      document.getElementsByTagName(\"head\")[0].appendChild(s);\n    }\n  };var element = document.getElementById(\"200170db-7535-4484-91a8-ee905afc9f3a\");\n  if (element == null) {\n    console.log(\"Bokeh: ERROR: autoload.js configured with elementid '200170db-7535-4484-91a8-ee905afc9f3a' but no matching script tag was found. \")\n    return false;\n  }\n\n  var js_urls = [\"https://cdn.pydata.org/bokeh/release/bokeh-0.12.13.min.js\", \"https://cdn.pydata.org/bokeh/release/bokeh-widgets-0.12.13.min.js\", \"https://cdn.pydata.org/bokeh/release/bokeh-tables-0.12.13.min.js\", \"https://cdn.pydata.org/bokeh/release/bokeh-gl-0.12.13.min.js\"];\n\n  var inline_js = [\n    function(Bokeh) {\n      Bokeh.set_log_level(\"info\");\n    },\n    \n    function(Bokeh) {\n      \n    },\n    function(Bokeh) {\n      console.log(\"Bokeh: injecting CSS: https://cdn.pydata.org/bokeh/release/bokeh-0.12.13.min.css\");\n      Bokeh.embed.inject_css(\"https://cdn.pydata.org/bokeh/release/bokeh-0.12.13.min.css\");\n      console.log(\"Bokeh: injecting CSS: https://cdn.pydata.org/bokeh/release/bokeh-widgets-0.12.13.min.css\");\n      Bokeh.embed.inject_css(\"https://cdn.pydata.org/bokeh/release/bokeh-widgets-0.12.13.min.css\");\n      console.log(\"Bokeh: injecting CSS: https://cdn.pydata.org/bokeh/release/bokeh-tables-0.12.13.min.css\");\n      Bokeh.embed.inject_css(\"https://cdn.pydata.org/bokeh/release/bokeh-tables-0.12.13.min.css\");\n    }\n  ];\n\n  function run_inline_js() {\n    \n    if ((root.Bokeh !== undefined) || (force === true)) {\n      for (var i = 0; i < inline_js.length; i++) {\n        inline_js[i].call(root, root.Bokeh);\n      }if (force === true) {\n        display_loaded();\n      }} else if (Date.now() < root._bokeh_timeout) {\n      setTimeout(run_inline_js, 100);\n    } else if (!root._bokeh_failed_load) {\n      console.log(\"Bokeh: BokehJS failed to load within specified timeout.\");\n      root._bokeh_failed_load = true;\n    } else if (force !== true) {\n      var cell = $(document.getElementById(\"200170db-7535-4484-91a8-ee905afc9f3a\")).parents('.cell').data().cell;\n      cell.output_area.append_execute_result(NB_LOAD_WARNING)\n    }\n\n  }\n\n  if (root._bokeh_is_loading === 0) {\n    console.log(\"Bokeh: BokehJS loaded, going straight to plotting\");\n    run_inline_js();\n  } else {\n    load_libs(js_urls, function() {\n      console.log(\"Bokeh: BokehJS plotting callback run at\", now());\n      run_inline_js();\n    });\n  }\n}(window));"
     },
     "metadata": {},
     "output_type": "display_data"
    }
   ],
   "source": [
    "from bokeh.plotting import figure, show, output_notebook\n",
    "from bokeh.models import HoverTool, ColumnDataSource, value\n",
    "output_notebook()"
   ]
  },
  {
   "cell_type": "code",
   "execution_count": 824,
   "metadata": {},
   "outputs": [
    {
     "data": {
      "text/html": [
       "<div>\n",
       "<style scoped>\n",
       "    .dataframe tbody tr th:only-of-type {\n",
       "        vertical-align: middle;\n",
       "    }\n",
       "\n",
       "    .dataframe tbody tr th {\n",
       "        vertical-align: top;\n",
       "    }\n",
       "\n",
       "    .dataframe thead th {\n",
       "        text-align: right;\n",
       "    }\n",
       "</style>\n",
       "<table border=\"1\" class=\"dataframe\">\n",
       "  <thead>\n",
       "    <tr style=\"text-align: right;\">\n",
       "      <th></th>\n",
       "      <th>x_coord</th>\n",
       "      <th>y_coord</th>\n",
       "    </tr>\n",
       "    <tr>\n",
       "      <th>word</th>\n",
       "      <th></th>\n",
       "      <th></th>\n",
       "    </tr>\n",
       "  </thead>\n",
       "  <tbody>\n",
       "    <tr>\n",
       "      <th>the</th>\n",
       "      <td>-2.890043</td>\n",
       "      <td>-7.409424</td>\n",
       "    </tr>\n",
       "    <tr>\n",
       "      <th>and</th>\n",
       "      <td>-5.182548</td>\n",
       "      <td>-2.939325</td>\n",
       "    </tr>\n",
       "    <tr>\n",
       "      <th>to</th>\n",
       "      <td>5.264578</td>\n",
       "      <td>10.446411</td>\n",
       "    </tr>\n",
       "    <tr>\n",
       "      <th>of</th>\n",
       "      <td>-7.704292</td>\n",
       "      <td>8.228118</td>\n",
       "    </tr>\n",
       "    <tr>\n",
       "      <th>he</th>\n",
       "      <td>5.154396</td>\n",
       "      <td>7.954561</td>\n",
       "    </tr>\n",
       "  </tbody>\n",
       "</table>\n",
       "</div>"
      ],
      "text/plain": [
       "       x_coord    y_coord\n",
       "word                     \n",
       "the  -2.890043  -7.409424\n",
       "and  -5.182548  -2.939325\n",
       "to    5.264578  10.446411\n",
       "of   -7.704292   8.228118\n",
       "he    5.154396   7.954561"
      ]
     },
     "execution_count": 824,
     "metadata": {},
     "output_type": "execute_result"
    }
   ],
   "source": [
    "#create a dataframe to plot with\n",
    "df = pd.DataFrame(tsne_vectors,index=words,columns=['x_coord','y_coord'])\n",
    "df.index.name = 'word'\n",
    "df.head()"
   ]
  },
  {
   "cell_type": "code",
   "execution_count": 825,
   "metadata": {},
   "outputs": [],
   "source": [
    "# add our DataFrame as a ColumnDataSource for Bokeh\n",
    "plot_data = ColumnDataSource(df)\n",
    "\n",
    "# create the plot and configure the\n",
    "# title, dimensions, and tools\n",
    "tsne_plot = figure(title=u't-SNE Word Embeddings',\n",
    "                   plot_width = 800,\n",
    "                   plot_height = 800,\n",
    "                   tools= (u'pan, wheel_zoom, box_zoom,'\n",
    "                           u'box_select, reset'),\n",
    "                   active_scroll=u'wheel_zoom')\n"
   ]
  },
  {
   "cell_type": "code",
   "execution_count": 826,
   "metadata": {},
   "outputs": [
    {
     "data": {
      "text/html": [
       "\n",
       "<div class=\"bk-root\">\n",
       "    <div class=\"bk-plotdiv\" id=\"421857c6-107b-4e79-a000-1fda7571bfd9\"></div>\n",
       "</div>"
      ]
     },
     "metadata": {},
     "output_type": "display_data"
    },
    {
     "data": {
      "application/javascript": [
       "(function(root) {\n",
       "  function embed_document(root) {\n",
       "    \n",
       "  var docs_json = {\"0a26dfef-24f1-47eb-9960-5ba0e5ec9396\":{\"roots\":{\"references\":[{\"attributes\":{},\"id\":\"46ee73a8-e3a9-4445-9552-10514e919858\",\"type\":\"BasicTickFormatter\"},{\"attributes\":{\"data_source\":{\"id\":\"957e5fc2-f2c2-4db4-ad3b-e082181c1490\",\"type\":\"ColumnDataSource\"},\"glyph\":{\"id\":\"51512fd2-c9a0-4145-b039-ae9b7b9907f9\",\"type\":\"Circle\"},\"hover_glyph\":{\"id\":\"bb41d8ad-5fd9-4351-bcef-46d1bd01ac34\",\"type\":\"Circle\"},\"muted_glyph\":null,\"nonselection_glyph\":{\"id\":\"564170fd-6246-4724-af12-8e5511e9ff95\",\"type\":\"Circle\"},\"selection_glyph\":null,\"view\":{\"id\":\"e6ee272b-db95-43c6-acfa-bd64965a8bbd\",\"type\":\"CDSView\"}},\"id\":\"57199f46-9192-40aa-a3d8-f473af6ee467\",\"type\":\"GlyphRenderer\"},{\"attributes\":{\"below\":[{\"id\":\"f1e84caa-dfb0-4408-af4d-05d52bbcc911\",\"type\":\"LinearAxis\"}],\"left\":[{\"id\":\"4b0ccf45-2220-4d67-b8be-b6cd04af48d0\",\"type\":\"LinearAxis\"}],\"outline_line_color\":{\"value\":null},\"plot_height\":800,\"plot_width\":800,\"renderers\":[{\"id\":\"f1e84caa-dfb0-4408-af4d-05d52bbcc911\",\"type\":\"LinearAxis\"},{\"id\":\"0fafb0a2-6a9d-42da-b334-679fade9f33d\",\"type\":\"Grid\"},{\"id\":\"4b0ccf45-2220-4d67-b8be-b6cd04af48d0\",\"type\":\"LinearAxis\"},{\"id\":\"ead9a6b2-9017-4fb6-8a3a-cafaec2882c3\",\"type\":\"Grid\"},{\"id\":\"53844f03-23e9-4944-a35d-064a4f3a64af\",\"type\":\"BoxAnnotation\"},{\"id\":\"f1dcf2e7-3a46-4269-8fe7-803bc8e01847\",\"type\":\"BoxAnnotation\"},{\"id\":\"57199f46-9192-40aa-a3d8-f473af6ee467\",\"type\":\"GlyphRenderer\"}],\"title\":{\"id\":\"6c4a4467-4b12-4626-91a7-6df735bf93d5\",\"type\":\"Title\"},\"toolbar\":{\"id\":\"4e5303b4-3674-4445-8722-62a9fcb62c01\",\"type\":\"Toolbar\"},\"x_range\":{\"id\":\"83b8532e-1cb9-4ce1-9ae0-a96f59e3fa7f\",\"type\":\"DataRange1d\"},\"x_scale\":{\"id\":\"17611b4b-8b77-47a3-b1aa-7f2685e3acce\",\"type\":\"LinearScale\"},\"y_range\":{\"id\":\"d6b47e8b-9fe6-4f74-80ca-c672435d4a86\",\"type\":\"DataRange1d\"},\"y_scale\":{\"id\":\"153b2593-a329-49f5-a0d2-508db7b28c39\",\"type\":\"LinearScale\"}},\"id\":\"1de41db3-2d00-441c-a9b6-68a87996ab71\",\"subtype\":\"Figure\",\"type\":\"Plot\"},{\"attributes\":{\"fill_color\":{\"value\":\"#1f77b4\"},\"size\":{\"units\":\"screen\",\"value\":10},\"x\":{\"field\":\"x_coord\"},\"y\":{\"field\":\"y_coord\"}},\"id\":\"bb41d8ad-5fd9-4351-bcef-46d1bd01ac34\",\"type\":\"Circle\"},{\"attributes\":{},\"id\":\"f6370c62-4214-477b-8418-ff48c77a8652\",\"type\":\"PanTool\"},{\"attributes\":{\"fill_alpha\":{\"value\":0.1},\"fill_color\":{\"value\":\"blue\"},\"line_alpha\":{\"value\":0.2},\"line_color\":{\"value\":\"blue\"},\"size\":{\"units\":\"screen\",\"value\":10},\"x\":{\"field\":\"x_coord\"},\"y\":{\"field\":\"y_coord\"}},\"id\":\"51512fd2-c9a0-4145-b039-ae9b7b9907f9\",\"type\":\"Circle\"},{\"attributes\":{\"bottom_units\":\"screen\",\"fill_alpha\":{\"value\":0.5},\"fill_color\":{\"value\":\"lightgrey\"},\"left_units\":\"screen\",\"level\":\"overlay\",\"line_alpha\":{\"value\":1.0},\"line_color\":{\"value\":\"black\"},\"line_dash\":[4,4],\"line_width\":{\"value\":2},\"plot\":null,\"render_mode\":\"css\",\"right_units\":\"screen\",\"top_units\":\"screen\"},\"id\":\"f1dcf2e7-3a46-4269-8fe7-803bc8e01847\",\"type\":\"BoxAnnotation\"},{\"attributes\":{},\"id\":\"2de724c2-eab1-4092-8b40-6b30a4654efc\",\"type\":\"BasicTicker\"},{\"attributes\":{},\"id\":\"41b2888a-b396-4fec-9bd3-32f4ca569d5b\",\"type\":\"BasicTickFormatter\"},{\"attributes\":{\"callback\":null,\"column_names\":[\"x_coord\",\"y_coord\",\"word\"],\"data\":{\"word\":[\"the\",\"and\",\"to\",\"of\",\"he\",\"his\",\"was\",\"you\",\"her\",\"in\",\"it\",\"had\",\"that\",\"she\",\"as\",\"with\",\"him\",\"not\",\"but\",\"for\",\"they\",\"is\",\"at\",\"on\",\"said\",\"my\",\"have\",\"be\",\"lord\",\"them\",\"no\",\"from\",\"would\",\"were\",\"me\",\"your\",\"one\",\"all\",\"when\",\"will\",\"ser\",\"if\",\"so\",\"their\",\"we\",\"could\",\"are\",\"man\",\"there\",\"this\",\"up\",\"been\",\"what\",\"by\",\"did\",\"king\",\"do\",\"men\",\"back\",\"out\",\"more\",\"or\",\"who\",\"down\",\"well\",\"than\",\"only\",\"jon\",\"like\",\"father\",\"some\",\"old\",\"hand\",\"tyrion\",\"even\",\"too\",\"before\",\"never\",\"an\",\"off\",\"see\",\"know\",\"into\",\"made\",\"now\",\"eyes\",\"black\",\"told\",\"lady\",\"thought\",\"time\",\"then\",\"how\",\"long\",\"has\",\"can\",\"might\",\"us\",\"come\",\"where\",\"here\",\"through\",\"still\",\"face\",\"head\",\"ll\",\"red\",\"way\",\"boy\",\"once\",\"must\",\"queen\",\"good\",\"two\",\"brother\",\"night\",\"over\",\"little\",\"about\",\"other\",\"took\",\"came\",\"though\",\"again\",\"say\",\"three\",\"should\",\"away\",\"son\",\"dead\",\"own\",\"blood\",\"half\",\"am\",\"take\",\"go\",\"arya\",\"make\",\"saw\",\"jaime\",\"day\",\"white\",\"first\",\"himself\",\"our\",\"look\",\"want\",\"after\",\"enough\",\"much\",\"bran\",\"girl\",\"sword\",\"tell\",\"great\",\"its\",\"looked\",\"called\",\"left\",\"knew\",\"maester\",\"asked\",\"gave\",\"sansa\",\"wall\",\"every\",\"heard\",\"let\",\"yet\",\"went\",\"turned\",\"dany\",\"why\",\"need\",\"behind\",\"around\",\"just\",\"woman\",\"another\",\"beneath\",\"across\",\"snow\",\"knight\",\"keep\",\"any\",\"gold\",\"grace\",\"found\",\"cersei\",\"last\",\"castle\",\"those\",\"stark\",\"gods\",\"think\",\"hair\",\"many\",\"feet\",\"against\",\"stannis\",\"mother\",\"hands\",\"catelyn\",\"prince\",\"robert\",\"seemed\",\"may\",\"ever\",\"lannister\",\"robb\",\"done\",\"don\",\"find\",\"re\",\"hear\",\"grey\",\"name\",\"high\",\"horse\",\"put\",\"wine\",\"iron\",\"stone\",\"fire\",\"hard\",\"water\",\"upon\",\"until\",\"these\",\"voice\",\"gone\",\"give\",\"seen\",\"better\",\"ned\",\"sam\",\"years\",\"shall\",\"always\",\"between\",\"dark\",\"place\",\"winterfell\",\"small\",\"house\",\"cold\",\"hundred\",\"most\",\"sister\",\"stood\",\"end\",\"words\",\"sea\",\"right\",\"nothing\",\"joffrey\",\"walls\",\"fingers\",\"same\",\"young\",\"cloak\",\"seven\",\"does\",\"watch\",\"beside\",\"get\",\"mouth\",\"green\",\"door\",\"big\",\"under\",\"few\",\"sent\",\"daughter\",\"perhaps\",\"almost\",\"such\",\"wanted\",\"true\",\"leave\",\"while\",\"arms\",\"city\",\"wind\",\"children\",\"light\",\"sweet\",\"herself\",\"theon\",\"lost\",\"others\",\"each\",\"felt\",\"brothers\",\"side\",\"yes\",\"best\",\"very\",\"brought\",\"die\",\"died\",\"soon\",\"far\",\"north\",\"fear\",\"child\",\"brienne\",\"along\",\"both\",\"word\",\"battle\",\"taken\",\"new\",\"help\",\"wife\",\"lords\",\"tywin\",\"davos\",\"something\",\"ve\",\"mean\",\"rest\",\"hall\",\"kill\",\"strong\",\"dragon\",\"began\",\"steel\",\"won\",\"sound\",\"past\",\"life\",\"tower\",\"sons\",\"killed\",\"arm\",\"free\",\"tried\",\"bear\",\"thing\",\"days\",\"bloody\",\"heart\",\"pale\",\"love\",\"sat\",\"moment\",\"bring\",\"knights\",\"close\",\"bed\",\"cut\",\"death\",\"wolf\",\"smile\",\"silver\",\"horses\",\"inside\",\"dragons\",\"four\",\"brown\",\"landing\",\"bastard\",\"hot\",\"uncle\",\"part\",\"thousand\",\"open\",\"nor\",\"captain\",\"above\",\"blue\",\"going\",\"air\",\"please\",\"river\",\"laughed\",\"rose\",\"sun\",\"fell\",\"golden\",\"war\",\"without\",\"sleep\",\"swords\",\"renly\",\"speak\",\"beyond\",\"fool\",\"full\",\"certain\",\"feel\",\"fight\",\"tongue\",\"send\",\"got\",\"thick\",\"rode\",\"set\",\"world\",\"throat\",\"deep\",\"rock\",\"legs\",\"call\",\"honor\",\"trees\",\"tall\",\"mormont\",\"table\",\"broken\",\"pulled\",\"women\",\"steps\",\"things\",\"next\",\"hodor\",\"heavy\",\"burned\",\"oh\",\"toward\",\"together\",\"given\",\"skin\",\"storm\",\"dwarf\",\"since\",\"alone\",\"smiled\",\"moved\",\"ride\",\"second\",\"raised\",\"frey\",\"ask\",\"hope\",\"eye\",\"soft\",\"reached\",\"remember\",\"remembered\",\"throne\",\"someone\",\"coming\",\"hold\",\"ten\",\"cannot\",\"meant\",\"morning\",\"teeth\",\"command\",\"else\",\"which\",\"fat\",\"walder\",\"commander\",\"jorah\",\"truth\",\"outside\",\"doubt\",\"ground\",\"known\",\"cup\",\"wore\",\"ran\",\"gate\",\"room\",\"held\",\"closed\",\"sky\",\"home\",\"matter\",\"south\",\"wed\",\"riverrun\",\"dozen\",\"people\",\"neck\",\"wood\",\"tyrell\",\"tommen\",\"instead\",\"near\",\"talk\",\"food\",\"turn\",\"none\",\"ships\",\"shadow\",\"moon\",\"summer\",\"below\",\"lips\",\"bolton\",\"varys\",\"watched\",\"leather\",\"times\",\"septon\",\"shoulder\",\"warm\",\"believe\",\"caught\",\"ice\",\"blade\",\"least\",\"guards\",\"god\",\"eddard\",\"answer\",\"wondered\",\"safe\",\"shield\",\"barristan\",\"mine\",\"opened\",\"armor\",\"daenerys\",\"six\",\"return\",\"kept\",\"wish\",\"used\",\"smell\",\"less\",\"squire\",\"being\",\"foot\",\"baratheon\",\"floor\",\"followed\",\"empty\",\"run\",\"friends\",\"wedding\",\"serve\",\"boys\",\"eat\",\"cloaks\",\"wrong\",\"beard\",\"ghost\",\"flesh\",\"sight\",\"hound\",\"strength\",\"five\",\"ship\",\"crown\",\"returned\",\"nose\",\"bones\",\"says\",\"master\",\"yellow\",\"aemon\",\"chest\",\"petyr\",\"covered\",\"filled\",\"sometimes\",\"commanded\",\"lysa\",\"friend\",\"common\",\"spoke\",\"led\",\"yours\",\"show\",\"aye\",\"flames\",\"fighting\",\"asha\",\"aside\",\"huge\",\"crow\",\"belly\",\"seem\",\"yard\",\"breath\",\"gates\",\"greyjoy\",\"waiting\",\"wet\",\"realm\",\"within\",\"looking\",\"wooden\",\"later\",\"thin\",\"bad\",\"use\",\"work\",\"husband\",\"promised\",\"wildlings\",\"grew\",\"girls\",\"loved\",\"littlefinger\",\"tree\",\"onto\",\"guard\",\"afraid\",\"bronn\",\"rain\",\"maid\",\"shoulders\",\"shouted\",\"walked\",\"year\",\"late\",\"fall\",\"dog\",\"margaery\",\"liked\",\"remained\",\"mance\",\"arryn\",\"meereen\",\"passed\",\"hurt\",\"taste\",\"dothraki\",\"balon\",\"sworn\",\"drew\",\"song\",\"lay\",\"reach\",\"princess\",\"sure\",\"named\",\"pushed\",\"realized\",\"kingdoms\",\"finally\",\"different\",\"brave\",\"heir\",\"stand\",\"whispered\",\"suddenly\",\"kingsguard\",\"wolves\",\"spear\",\"aegon\",\"poor\",\"kings\",\"ears\",\"stay\",\"drogo\",\"stop\",\"lannisters\",\"burning\",\"edmure\",\"broke\",\"born\",\"axe\",\"dorne\",\"faces\",\"direwolf\",\"clegane\",\"dream\",\"either\",\"drink\",\"tears\",\"darkness\",\"harrenhal\",\"west\",\"pointed\",\"hill\",\"raven\",\"try\",\"khal\",\"pain\",\"forward\",\"grown\",\"truly\",\"lie\",\"dagger\",\"seat\",\"care\",\"helm\",\"road\",\"round\",\"feast\",\"meat\",\"quick\",\"pycelle\",\"understand\",\"lifted\",\"amongst\",\"longer\",\"short\",\"rodrik\",\"horn\",\"mountain\",\"reminded\",\"whilst\",\"maybe\",\"third\",\"lands\",\"melisandre\",\"step\",\"pretty\",\"ones\",\"younger\",\"stopped\",\"worse\",\"bit\",\"sit\",\"victarion\",\"sharp\",\"save\",\"whose\",\"knows\",\"slain\",\"smoke\",\"targaryen\",\"live\",\"pray\",\"westeros\",\"leg\",\"window\",\"twenty\",\"pie\",\"heads\",\"silk\",\"didn\",\"east\",\"septa\",\"slaves\",\"during\",\"peace\",\"blind\",\"ago\",\"bright\",\"mind\",\"mad\",\"laugh\",\"low\",\"bread\",\"wants\",\"hizdahr\",\"salt\",\"sooner\",\"myself\",\"narrow\",\"towers\",\"older\",\"coin\",\"drowned\",\"reek\",\"making\",\"camp\",\"cousin\",\"walk\",\"served\",\"wait\",\"point\",\"glanced\",\"riding\",\"lion\",\"quiet\",\"often\",\"sort\",\"knife\",\"cheeks\",\"touched\",\"luwin\",\"shook\",\"loras\",\"stepped\",\"tully\",\"naked\",\"twisted\",\"kevan\",\"choice\",\"silence\",\"forgotten\",\"fallen\",\"hung\",\"fish\",\"read\",\"ramsay\",\"running\",\"gift\",\"replied\",\"knees\",\"rhaegar\",\"casterly\",\"cat\",\"large\",\"ahead\",\"silent\",\"fought\",\"pass\",\"dogs\",\"beautiful\",\"sept\",\"company\",\"themselves\",\"dawn\",\"needs\",\"knee\",\"mud\",\"stupid\",\"gregor\",\"body\",\"age\",\"court\",\"singer\",\"trying\",\"top\",\"swear\",\"meera\",\"chain\",\"kiss\",\"kind\",\"closer\",\"offered\",\"gendry\",\"whole\",\"leaves\",\"anything\",\"stars\",\"pay\",\"whatever\",\"threw\",\"agreed\",\"wonder\",\"mail\",\"answered\",\"climbed\",\"trident\",\"saying\",\"wide\",\"saddle\",\"clothes\",\"comes\",\"host\",\"fair\",\"trust\",\"eight\",\"fine\",\"dying\",\"pleased\",\"yourself\",\"insisted\",\"fast\",\"yunkai\",\"dry\",\"hour\",\"service\",\"stones\",\"spears\",\"ought\",\"ear\",\"fist\",\"council\",\"carried\",\"doors\",\"needed\",\"join\",\"milk\",\"thank\",\"wasn\",\"imp\",\"wildling\",\"crossed\",\"quentyn\",\"dragonstone\",\"woods\",\"folk\",\"gilly\",\"winter\",\"land\",\"shadows\",\"doing\",\"finger\",\"helped\",\"crows\",\"tent\",\"bird\",\"names\",\"boots\",\"somehow\",\"banners\",\"kissed\",\"pink\",\"letter\",\"win\",\"screamed\",\"field\",\"angry\",\"eunuch\",\"frightened\",\"learn\",\"alive\",\"daughters\",\"chair\",\"sisters\",\"tarly\",\"watching\",\"torch\",\"nine\",\"harm\",\"fires\",\"serving\",\"learned\",\"falling\",\"standing\",\"easy\",\"neither\",\"wings\",\"question\",\"myrcella\",\"line\",\"nodded\",\"sail\",\"drunk\",\"priest\",\"harbor\",\"warned\",\"forth\",\"pyke\",\"bone\",\"slow\",\"giant\",\"slipped\",\"viserys\",\"slid\",\"dreams\",\"slowly\",\"bronze\",\"flowers\",\"jojen\",\"oldtown\",\"atop\",\"promise\",\"illyrio\",\"aerys\",\"rise\",\"whore\",\"move\",\"jeyne\",\"slave\",\"laughter\",\"makes\",\"grass\",\"power\",\"declared\",\"dance\",\"loose\",\"earth\",\"faced\",\"lived\",\"bay\",\"because\",\"twice\",\"front\",\"eyrie\",\"cell\",\"happened\",\"break\",\"clean\",\"claim\",\"chains\",\"play\",\"highgarden\",\"surely\",\"fresh\",\"unless\",\"cried\",\"craster\",\"quite\",\"pair\",\"laid\",\"steward\",\"tormund\",\"sad\",\"met\",\"morrow\",\"rule\",\"shouting\",\"grenn\",\"already\",\"softly\",\"touch\",\"woke\",\"afterward\",\"sense\",\"sudden\",\"started\",\"mounted\",\"among\",\"count\",\"means\",\"ravens\"],\"x_coord\":{\"__ndarray__\":\"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\",\"dtype\":\"float64\",\"shape\":[1000]},\"y_coord\":{\"__ndarray__\":\"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\",\"dtype\":\"float64\",\"shape\":[1000]}}},\"id\":\"957e5fc2-f2c2-4db4-ad3b-e082181c1490\",\"type\":\"ColumnDataSource\"},{\"attributes\":{\"callback\":null},\"id\":\"d6b47e8b-9fe6-4f74-80ca-c672435d4a86\",\"type\":\"DataRange1d\"},{\"attributes\":{\"source\":{\"id\":\"957e5fc2-f2c2-4db4-ad3b-e082181c1490\",\"type\":\"ColumnDataSource\"}},\"id\":\"e6ee272b-db95-43c6-acfa-bd64965a8bbd\",\"type\":\"CDSView\"},{\"attributes\":{},\"id\":\"2caf220f-58c2-47e8-a1e0-40822e3488bc\",\"type\":\"WheelZoomTool\"},{\"attributes\":{\"formatter\":{\"id\":\"46ee73a8-e3a9-4445-9552-10514e919858\",\"type\":\"BasicTickFormatter\"},\"plot\":{\"id\":\"1de41db3-2d00-441c-a9b6-68a87996ab71\",\"subtype\":\"Figure\",\"type\":\"Plot\"},\"ticker\":{\"id\":\"2de724c2-eab1-4092-8b40-6b30a4654efc\",\"type\":\"BasicTicker\"},\"visible\":false},\"id\":\"4b0ccf45-2220-4d67-b8be-b6cd04af48d0\",\"type\":\"LinearAxis\"},{\"attributes\":{\"callback\":null,\"overlay\":{\"id\":\"f1dcf2e7-3a46-4269-8fe7-803bc8e01847\",\"type\":\"BoxAnnotation\"},\"renderers\":[{\"id\":\"57199f46-9192-40aa-a3d8-f473af6ee467\",\"type\":\"GlyphRenderer\"}]},\"id\":\"9252dc1f-8b13-4045-9d15-60719e5fa808\",\"type\":\"BoxSelectTool\"},{\"attributes\":{},\"id\":\"17611b4b-8b77-47a3-b1aa-7f2685e3acce\",\"type\":\"LinearScale\"},{\"attributes\":{\"plot\":null,\"text\":\"t-SNE Word Embeddings\",\"text_font_size\":{\"value\":\"16pt\"}},\"id\":\"6c4a4467-4b12-4626-91a7-6df735bf93d5\",\"type\":\"Title\"},{\"attributes\":{},\"id\":\"49e474dc-a51f-4bf9-8246-a83507742076\",\"type\":\"BasicTicker\"},{\"attributes\":{\"formatter\":{\"id\":\"41b2888a-b396-4fec-9bd3-32f4ca569d5b\",\"type\":\"BasicTickFormatter\"},\"plot\":{\"id\":\"1de41db3-2d00-441c-a9b6-68a87996ab71\",\"subtype\":\"Figure\",\"type\":\"Plot\"},\"ticker\":{\"id\":\"49e474dc-a51f-4bf9-8246-a83507742076\",\"type\":\"BasicTicker\"},\"visible\":false},\"id\":\"f1e84caa-dfb0-4408-af4d-05d52bbcc911\",\"type\":\"LinearAxis\"},{\"attributes\":{},\"id\":\"9925736e-8445-47d6-82bc-cb7f82b2c101\",\"type\":\"ResetTool\"},{\"attributes\":{\"grid_line_color\":{\"value\":null},\"plot\":{\"id\":\"1de41db3-2d00-441c-a9b6-68a87996ab71\",\"subtype\":\"Figure\",\"type\":\"Plot\"},\"ticker\":{\"id\":\"49e474dc-a51f-4bf9-8246-a83507742076\",\"type\":\"BasicTicker\"}},\"id\":\"0fafb0a2-6a9d-42da-b334-679fade9f33d\",\"type\":\"Grid\"},{\"attributes\":{\"active_drag\":\"auto\",\"active_inspect\":\"auto\",\"active_scroll\":{\"id\":\"2caf220f-58c2-47e8-a1e0-40822e3488bc\",\"type\":\"WheelZoomTool\"},\"active_tap\":\"auto\",\"tools\":[{\"id\":\"f6370c62-4214-477b-8418-ff48c77a8652\",\"type\":\"PanTool\"},{\"id\":\"2caf220f-58c2-47e8-a1e0-40822e3488bc\",\"type\":\"WheelZoomTool\"},{\"id\":\"c88b62dc-e7d4-4840-a7b8-54b8f5870554\",\"type\":\"BoxZoomTool\"},{\"id\":\"9252dc1f-8b13-4045-9d15-60719e5fa808\",\"type\":\"BoxSelectTool\"},{\"id\":\"9925736e-8445-47d6-82bc-cb7f82b2c101\",\"type\":\"ResetTool\"},{\"id\":\"a4a34533-def9-4573-92e1-02e0246641b2\",\"type\":\"HoverTool\"}]},\"id\":\"4e5303b4-3674-4445-8722-62a9fcb62c01\",\"type\":\"Toolbar\"},{\"attributes\":{\"dimension\":1,\"grid_line_color\":{\"value\":null},\"plot\":{\"id\":\"1de41db3-2d00-441c-a9b6-68a87996ab71\",\"subtype\":\"Figure\",\"type\":\"Plot\"},\"ticker\":{\"id\":\"2de724c2-eab1-4092-8b40-6b30a4654efc\",\"type\":\"BasicTicker\"}},\"id\":\"ead9a6b2-9017-4fb6-8a3a-cafaec2882c3\",\"type\":\"Grid\"},{\"attributes\":{\"callback\":null,\"tooltips\":\"@word\"},\"id\":\"a4a34533-def9-4573-92e1-02e0246641b2\",\"type\":\"HoverTool\"},{\"attributes\":{\"overlay\":{\"id\":\"53844f03-23e9-4944-a35d-064a4f3a64af\",\"type\":\"BoxAnnotation\"}},\"id\":\"c88b62dc-e7d4-4840-a7b8-54b8f5870554\",\"type\":\"BoxZoomTool\"},{\"attributes\":{\"bottom_units\":\"screen\",\"fill_alpha\":{\"value\":0.5},\"fill_color\":{\"value\":\"lightgrey\"},\"left_units\":\"screen\",\"level\":\"overlay\",\"line_alpha\":{\"value\":1.0},\"line_color\":{\"value\":\"black\"},\"line_dash\":[4,4],\"line_width\":{\"value\":2},\"plot\":null,\"render_mode\":\"css\",\"right_units\":\"screen\",\"top_units\":\"screen\"},\"id\":\"53844f03-23e9-4944-a35d-064a4f3a64af\",\"type\":\"BoxAnnotation\"},{\"attributes\":{\"fill_alpha\":{\"value\":0.1},\"fill_color\":{\"value\":\"#1f77b4\"},\"line_alpha\":{\"value\":0.1},\"line_color\":{\"value\":\"#1f77b4\"},\"size\":{\"units\":\"screen\",\"value\":10},\"x\":{\"field\":\"x_coord\"},\"y\":{\"field\":\"y_coord\"}},\"id\":\"564170fd-6246-4724-af12-8e5511e9ff95\",\"type\":\"Circle\"},{\"attributes\":{},\"id\":\"153b2593-a329-49f5-a0d2-508db7b28c39\",\"type\":\"LinearScale\"},{\"attributes\":{\"callback\":null},\"id\":\"83b8532e-1cb9-4ce1-9ae0-a96f59e3fa7f\",\"type\":\"DataRange1d\"}],\"root_ids\":[\"1de41db3-2d00-441c-a9b6-68a87996ab71\"]},\"title\":\"Bokeh Application\",\"version\":\"0.12.13\"}};\n",
       "  var render_items = [{\"docid\":\"0a26dfef-24f1-47eb-9960-5ba0e5ec9396\",\"elementid\":\"421857c6-107b-4e79-a000-1fda7571bfd9\",\"modelid\":\"1de41db3-2d00-441c-a9b6-68a87996ab71\"}];\n",
       "  root.Bokeh.embed.embed_items_notebook(docs_json, render_items);\n",
       "\n",
       "  }\n",
       "  if (root.Bokeh !== undefined) {\n",
       "    embed_document(root);\n",
       "  } else {\n",
       "    var attempts = 0;\n",
       "    var timer = setInterval(function(root) {\n",
       "      if (root.Bokeh !== undefined) {\n",
       "        embed_document(root);\n",
       "        clearInterval(timer);\n",
       "      }\n",
       "      attempts++;\n",
       "      if (attempts > 100) {\n",
       "        console.log(\"Bokeh: ERROR: Unable to run BokehJS code because BokehJS library is missing\")\n",
       "        clearInterval(timer);\n",
       "      }\n",
       "    }, 10, root)\n",
       "  }\n",
       "})(window);"
      ],
      "application/vnd.bokehjs_exec.v0+json": ""
     },
     "metadata": {
      "application/vnd.bokehjs_exec.v0+json": {
       "id": "1de41db3-2d00-441c-a9b6-68a87996ab71"
      }
     },
     "output_type": "display_data"
    }
   ],
   "source": [
    "\n",
    "# add a hover tool to display words on roll-over\n",
    "tsne_plot.add_tools( HoverTool(tooltips = u'@word') )\n",
    "\n",
    "# draw the words as circles on the plot\n",
    "tsne_plot.circle(u'x_coord', u'y_coord', source=plot_data,\n",
    "                 color=u'blue', line_alpha=0.2, fill_alpha=0.1,\n",
    "                 size=10, hover_line_color=u'black')\n",
    "\n",
    "# configure visual elements of the plot\n",
    "tsne_plot.title.text_font_size = value(u'16pt')\n",
    "tsne_plot.xaxis.visible = False\n",
    "tsne_plot.yaxis.visible = False\n",
    "tsne_plot.grid.grid_line_color = None\n",
    "tsne_plot.outline_line_color = None\n",
    "\n",
    "# plot!\n",
    "show(tsne_plot);"
   ]
  },
  {
   "cell_type": "markdown",
   "metadata": {},
   "source": [
    "# Exercises\n",
    "\n",
    "* Play around with the word vectors see if you can find any intresting relationships.\n",
    "\n",
    "* Use a text of your choice from [gutenberg](http://www.gutenberg.org/wiki/Main_Page) and try to apply one of the above models to create word vectors.\n",
    "\n",
    "* Afterwards cluster the word vectors using a model from sklearn and try to visulize them."
   ]
  },
  {
   "cell_type": "markdown",
   "metadata": {},
   "source": [
    "## References\n",
    "\n",
    "\n",
    "* Text\n",
    "  * [Deep learning with python](https://www.manning.com/books/deep-learning-with-python)\n",
    "  * [Introduction to word embeddings](https://www.springboard.com/blog/introduction-word-embeddings/)\n",
    "  * [Use word embeeding layers deep in keras](https://machinelearningmastery.com/use-word-embedding-layers-deep-learning-keras/)\n",
    "  * [How to Use t-SNE Effectively](https://distill.pub/2016/misread-tsne/)\n",
    "  *[Learning word embeddings](https://lilianweng.github.io/lil-log/2017/10/15/learning-word-embedding.html)\n",
    "* Notebooks\n",
    "  * [Thrones To Vec](https://github.com/llSourcell/word_vectors_game_of_thrones-LIVE.git)\n",
    "* Videos\n",
    "  * [Word Embedding Explantion](https://www.youtube.com/watch?v=5PL0TmQhItY)\n",
    "  * [Spacy - Modern NLP in Python](https://www.youtube.com/watch?v=6zm9NC9uRkk)"
   ]
  }
 ],
 "metadata": {
  "kernelspec": {
   "display_name": "Python 3",
   "language": "python",
   "name": "python3"
  },
  "language_info": {
   "codemirror_mode": {
    "name": "ipython",
    "version": 3
   },
   "file_extension": ".py",
   "mimetype": "text/x-python",
   "name": "python",
   "nbconvert_exporter": "python",
   "pygments_lexer": "ipython3",
   "version": "3.5.4"
  }
 },
 "nbformat": 4,
 "nbformat_minor": 2
}
